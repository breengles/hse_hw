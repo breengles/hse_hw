{
 "metadata": {
  "language_info": {
   "codemirror_mode": {
    "name": "ipython",
    "version": 3
   },
   "file_extension": ".py",
   "mimetype": "text/x-python",
   "name": "python",
   "nbconvert_exporter": "python",
   "pygments_lexer": "ipython3",
   "version": "3.8.3-final"
  },
  "orig_nbformat": 2,
  "kernelspec": {
   "name": "python3",
   "display_name": "Python 3"
  }
 },
 "nbformat": 4,
 "nbformat_minor": 2,
 "cells": [
  {
   "cell_type": "code",
   "execution_count": null,
   "metadata": {},
   "outputs": [],
   "source": [
    "from optimization import optimize\n",
    "import pandas as pd\n",
    "import numpy as np\n",
    "from oracle import Oracle, make_oracle\n",
    "from typing import List\n",
    "from tabulate import tabulate"
   ]
  },
  {
   "cell_type": "code",
   "execution_count": null,
   "metadata": {},
   "outputs": [],
   "source": [
    "opt_methods = [\"gradient_descent\", \"newton\", \"conjugate_gradient\"]\n",
    "linesearch_methods = [\"golden_section\", \"brent\", \"dbrent\", \"armijo\", \"wolfe\", \"nesterov\"]\n",
    "a1a = make_oracle(\"a1a.libsvm\")"
   ]
  },
  {
   "cell_type": "code",
   "execution_count": null,
   "metadata": {},
   "outputs": [],
   "source": [
    "w0 = np.ones((a1a.m, 1)) * 0.5\n",
    "to_df = []\n",
    "max_iter = 2000\n",
    "tol=1e-8\n",
    "for opt in opt_methods:\n",
    "    for c1 in np.linspace(tol, 1, 10):\n",
    "        _, _, log = optimize(w0, a1a, opt, \"armijo\", max_iter=max_iter, tol=tol, output_log=True, c1=c1, c2=None)\n",
    "        to_df.append(log.best)\n",
    "\n",
    "df = pd.concat(to_df, ignore_index=True)\n",
    "table = [df.columns.values.tolist()] + df.values.tolist()\n",
    "print(tabulate(table, headers=\"firstrow\", tablefmt=\"github\", floatfmt=[\"\", \"\", \".0e\", \".2e\", \".2e\", \".4f\", \"\", \"\", \".4f\", \".1e\"]))"
   ]
  },
  {
   "source": [
    "Armijo experiments with different constant. Здесь лучше смотреть именно на таблицу, так как графики такие себе."
   ],
   "cell_type": "markdown",
   "metadata": {}
  },
  {
   "source": [
    "|       c1 |   entropy |   num_iter |   oracle_calls |    time |      rk |\n",
    "|----------|-----------|------------|----------------|---------|---------|\n",
    "| 1.00e-08 |    0.2989 |       1199 |           8821 |  1.5063 | 9.8e-09 |\n",
    "| 1.11e-01 |    0.2989 |       1199 |           8821 |  1.4958 | 9.8e-09 |\n",
    "| 2.22e-01 |    0.2989 |       1152 |           8472 |  1.4373 | 9.7e-09 |\n",
    "| 3.33e-01 |    0.2989 |       1152 |           8472 |  1.4285 | 9.7e-09 |\n",
    "| 4.44e-01 |    0.2989 |        728 |           5563 |  0.9221 | 9.6e-09 |\n",
    "| 5.56e-01 |    0.2989 |        869 |           6857 |  1.1258 | 9.7e-09 |\n",
    "| 6.67e-01 |    0.2989 |        875 |           7158 |  1.1655 | 9.9e-09 |\n",
    "| 7.78e-01 |    0.2989 |        721 |           6452 |  1.0230 | 9.7e-09 |\n",
    "| 8.89e-01 |    0.2990 |       1580 |          15811 |  2.3861 | 9.9e-09 |\n",
    "| 1.00e+00 |    5.5928 |       2000 |         111708 | 11.3460 | 1.0e+00 |\n",
    "| 1.00e-08 |    0.2988 |         10 |             65 |  0.0988 | 9.9e-09 |\n",
    "| 1.11e-01 |    0.2987 |          9 |             51 |  0.0802 | 6.2e-09 |\n",
    "| 2.22e-01 |    0.2987 |          9 |             51 |  0.0623 | 6.2e-09 |\n",
    "| 3.33e-01 |    0.2987 |          8 |             39 |  0.0779 | 6.2e-09 |\n",
    "| 4.44e-01 |    0.2987 |          8 |             39 |  0.0559 | 6.2e-09 |\n",
    "| 5.56e-01 |    0.2987 |          8 |             39 |  0.0610 | 6.2e-09 |\n",
    "| 6.67e-01 |    0.2988 |          9 |             62 |  0.0745 | 8.8e-09 |\n",
    "| 7.78e-01 |    0.2987 |         20 |            199 |  0.1737 | 9.9e-09 |\n",
    "| 8.89e-01 |    0.2985 |         41 |            463 |  0.3628 | 3.2e-09 |\n",
    "| 1.00e+00 |    5.5928 |       2000 |         126708 | 28.6224 | 1.0e+00 |\n",
    "| 1.00e-08 |    0.2981 |         10 |            530 |  0.3140 | 1.1e-09 |\n",
    "| 1.11e-01 |    0.2981 |         10 |            530 |  0.2924 | 1.1e-09 |\n",
    "| 2.22e-01 |    0.2981 |         10 |            530 |  0.2916 | 1.1e-09 |\n",
    "| 3.33e-01 |    0.2981 |         10 |            530 |  0.2909 | 1.1e-09 |\n",
    "| 4.44e-01 |    0.2981 |         10 |            530 |  0.2923 | 1.1e-09 |\n",
    "| 5.56e-01 |    0.2981 |         10 |            530 |  0.2937 | 1.1e-09 |\n",
    "| 6.67e-01 |    0.2981 |         10 |            530 |  0.2926 | 1.1e-09 |\n",
    "| 7.78e-01 |    0.2981 |         10 |            530 |  0.2929 | 1.1e-09 |\n",
    "| 8.89e-01 |    0.2981 |         10 |            530 |  0.2918 | 1.1e-09 |\n",
    "| 1.00e+00 |    0.2981 |         10 |            530 |  0.2910 | 1.1e-09 |"
   ],
   "cell_type": "markdown",
   "metadata": {}
  },
  {
   "source": [
    "В целом, ожидаемый результат, что при $c_1 = 1$, все разойдется, однако тем примечательней тот факт, что метод сопряженных градиентов не смотря на такую константу все же сошелся в минимум."
   ],
   "cell_type": "markdown",
   "metadata": {}
  }
 ]
}