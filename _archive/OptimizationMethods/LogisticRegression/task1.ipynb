{
 "metadata": {
  "language_info": {
   "codemirror_mode": {
    "name": "ipython",
    "version": 3
   },
   "file_extension": ".py",
   "mimetype": "text/x-python",
   "name": "python",
   "nbconvert_exporter": "python",
   "pygments_lexer": "ipython3",
   "version": "3.8.3-final"
  },
  "orig_nbformat": 2,
  "kernelspec": {
   "name": "python3",
   "display_name": "Python 3"
  }
 },
 "nbformat": 4,
 "nbformat_minor": 2,
 "cells": [
  {
   "source": [
    "Ответ на всю домашку будет разбит на соответствующие ноутбуки по номерам задач (например, как эта имеет название **taks1.ipynb**)"
   ],
   "cell_type": "markdown",
   "metadata": {}
  },
  {
   "source": [
    "Начнем с матричного вида задачи:\n",
    "\n",
    "Перепишем вычисление функции в векорном виде (считаем, что вектор --- вектор столбец):\n",
    "$$\n",
    "L(w) = -\\frac{1}{N} (Y^T \\cdot (\\log(\\sigma(X \\cdot w)) - (1 - Y)^T \\cdot (\\log(1 - \\sigma(X \\cdot w))\n",
    "$$\n",
    "\n",
    "На паре были выедены формулы градиента и гессианы функции:\n",
    "$$\n",
    "\\nabla L(w)= -\\frac{1}{N} \\sum_{i=1}^N((y_i - \\sigma(w^Tx_i))x_i) = -\\frac{1}{N}X^T \\cdot (Y - \\sigma(X \\cdot w))\n",
    "$$\n",
    "\n",
    "$$\n",
    "\\nabla^2 L(w)= \\frac{1}{N}\\sum_{i=1}^N(x_i^T\\sigma(w^Tx_i)(1-\\sigma(w^Tx_i))x_i) = \\frac{1}{N}X^T \\cdot D \\cdot X\n",
    "$$\n",
    "где $D$ --- квадратная диагональная матрица, на диагонале которой расположены элементы: $\\sigma(w^Tx_i)(1-\\sigma(w^Tx_i))$"
   ],
   "cell_type": "markdown",
   "metadata": {}
  },
  {
   "source": [
    "Проверим положительную определенность гессиана:\n",
    "\n",
    "$ v^T\\nabla^2Lv = v^T X^T D X v = v^T X^T D^{1/2} D^{1/2} X v = ||D^{1/2}Xv||_2^2 \\geq 0 \\quad \\forall v$\n",
    "\n",
    "(т.е. вообще говоря, гессиан неотрицательно определенный, т.е. формально он может быть сингулярный), следовательно, функций выпуклая и мы должны сходится в минимум из любой начальной точки."
   ],
   "cell_type": "markdown",
   "metadata": {}
  }
 ]
}