{
 "metadata": {
  "language_info": {
   "codemirror_mode": {
    "name": "ipython",
    "version": 3
   },
   "file_extension": ".py",
   "mimetype": "text/x-python",
   "name": "python",
   "nbconvert_exporter": "python",
   "pygments_lexer": "ipython3",
   "version": "3.8.3-final"
  },
  "orig_nbformat": 2,
  "kernelspec": {
   "name": "python3",
   "display_name": "Python 3"
  }
 },
 "nbformat": 4,
 "nbformat_minor": 2,
 "cells": [
  {
   "cell_type": "code",
   "execution_count": null,
   "metadata": {},
   "outputs": [],
   "source": [
    "from optimization import optimize\n",
    "import pandas as pd\n",
    "import matplotlib\n",
    "import matplotlib.pyplot as plt\n",
    "import numpy as np\n",
    "from oracle import Oracle, make_oracle\n",
    "import seaborn as sns\n",
    "from typing import List\n",
    "from tabulate import tabulate"
   ]
  },
  {
   "cell_type": "code",
   "execution_count": null,
   "metadata": {},
   "outputs": [],
   "source": [
    "a1a = make_oracle(\"a1a.libsvm\")"
   ]
  },
  {
   "cell_type": "code",
   "execution_count": null,
   "metadata": {},
   "outputs": [],
   "source": [
    "w0 = np.ones((a1a.m, 1))\n",
    "\n",
    "to_df = []\n",
    "max_iter = 10000\n",
    "tol = 1e-8\n",
    "for c2 in np.linspace(0, 1, 5):\n",
    "    for c1 in np.linspace(0, 0.5, 5):\n",
    "        _, _, log = optimize(w0, a1a, \"gradient_descent\", \"wolfe\", max_iter=max_iter, output_log=True, tol=tol, c1=c1, c2=c2)\n",
    "        to_df.append(log.best)\n",
    "\n",
    "df = pd.concat(to_df, ignore_index=True)\n",
    "table = [df.columns.values.tolist()] + df.values.tolist()\n",
    "print(tabulate(table, headers=\"firstrow\", tablefmt=\"github\", floatfmt=[\"\", \"\", \".0e\", \".2e\", \".2e\", \".4f\", \"\", \"\", \".4f\", \".1e\"]))"
   ]
  },
  {
   "source": [
    "Wolfe experiments with different $c_1$ and $c_2$ constants"
   ],
   "cell_type": "markdown",
   "metadata": {}
  },
  {
   "source": [
    "|       c1 |       c2 |   entropy |   num_iter |   oracle_calls |    time |      rk |\n",
    "|----------|----------|-----------|------------|----------------|---------|---------|\n",
    "| 0.00e+00 | 0.00e+00 |  2.99e-01 |       1208 |          36372 |  6.7717 | 9.7e-09 |\n",
    "| 1.25e-01 | 0.00e+00 |  2.99e-01 |       1208 |          36372 |  6.7063 | 9.7e-09 |\n",
    "| 2.50e-01 | 0.00e+00 |  2.99e-01 |       1208 |          36272 |  6.7654 | 9.7e-09 |\n",
    "| 3.75e-01 | 0.00e+00 |  2.99e-01 |       1208 |          36050 |  6.7059 | 9.7e-09 |\n",
    "| 5.00e-01 | 0.00e+00 |  2.99e-01 |       1208 |          39967 |  8.1548 | 9.7e-09 |\n",
    "| 0.00e+00 | 2.50e-01 |  2.99e-01 |      10000 |          82239 | 19.0544 | 2.2e-08 |\n",
    "| 1.25e-01 | 2.50e-01 |  2.99e-01 |      10000 |          82239 | 18.9349 | 2.2e-08 |\n",
    "| 2.50e-01 | 2.50e-01 |  2.99e-01 |      10000 |          82239 | 18.9832 | 2.2e-08 |\n",
    "| 3.75e-01 | 2.50e-01 |  2.99e-01 |      10000 |          81644 | 19.5199 | 2.2e-08 |\n",
    "| 5.00e-01 | 2.50e-01 |  2.99e-01 |       4822 |          48588 | 11.2897 | 9.9e-09 |\n",
    "| 0.00e+00 | 5.00e-01 |  2.99e-01 |       7627 |          59857 | 14.5102 | 1.0e-08 |\n",
    "| 1.25e-01 | 5.00e-01 |  2.99e-01 |       7627 |          59857 | 14.5305 | 1.0e-08 |\n",
    "| 2.50e-01 | 5.00e-01 |  2.99e-01 |       7627 |          59857 | 14.5424 | 1.0e-08 |\n",
    "| 3.75e-01 | 5.00e-01 |  2.99e-01 |       7627 |          59857 | 14.4979 | 1.0e-08 |\n",
    "| 5.00e-01 | 5.00e-01 |  2.99e-01 |       7624 |          59834 | 14.5483 | 1.0e-08 |\n",
    "| 0.00e+00 | 7.50e-01 |  2.99e-01 |       5503 |          43579 |  9.9391 | 9.9e-09 |\n",
    "| 1.25e-01 | 7.50e-01 |  2.99e-01 |       5503 |          43579 |  9.8144 | 9.9e-09 |\n",
    "| 2.50e-01 | 7.50e-01 |  2.99e-01 |       5503 |          43579 |  9.9681 | 9.9e-09 |\n",
    "| 3.75e-01 | 7.50e-01 |  2.99e-01 |       5503 |          43579 |  9.8139 | 9.9e-09 |\n",
    "| 5.00e-01 | 7.50e-01 |  2.99e-01 |       5503 |          43579 |  9.7909 | 9.9e-09 |\n",
    "| 0.00e+00 | 1.00e+00 |  3.01e-01 |      10000 |          49996 | 11.9324 | 6.2e-08 |\n",
    "| 1.25e-01 | 1.00e+00 |  3.01e-01 |      10000 |          49996 | 11.9590 | 6.2e-08 |\n",
    "| 2.50e-01 | 1.00e+00 |  3.01e-01 |      10000 |          49996 | 11.9363 | 6.2e-08 |\n",
    "| 3.75e-01 | 1.00e+00 |  3.01e-01 |      10000 |          49996 | 12.0250 | 6.2e-08 |\n",
    "| 5.00e-01 | 1.00e+00 |  3.01e-01 |      10000 |          49996 | 11.9685 | 6.2e-08 |"
   ],
   "cell_type": "markdown",
   "metadata": {}
  },
  {
   "source": [
    "Из таблички можно сделать вывод, что второе условие в Вульфе, соответствующие константе $c_2$, оказывает мажорирующие воздействие на сходимость методов."
   ],
   "cell_type": "markdown",
   "metadata": {}
  }
 ]
}