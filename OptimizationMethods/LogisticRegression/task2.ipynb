{
 "metadata": {
  "language_info": {
   "codemirror_mode": {
    "name": "ipython",
    "version": 3
   },
   "file_extension": ".py",
   "mimetype": "text/x-python",
   "name": "python",
   "nbconvert_exporter": "python",
   "pygments_lexer": "ipython3",
   "version": "3.8.3-final"
  },
  "orig_nbformat": 2,
  "kernelspec": {
   "name": "python3",
   "display_name": "Python 3"
  }
 },
 "nbformat": 4,
 "nbformat_minor": 2,
 "cells": [
  {
   "cell_type": "code",
   "execution_count": 5,
   "metadata": {},
   "outputs": [],
   "source": [
    "from num_test import test_grad, test_hessian, test_hessian_v2\n",
    "from oracle import make_oracle\n",
    "import numpy as np"
   ]
  },
  {
   "cell_type": "code",
   "execution_count": 6,
   "metadata": {},
   "outputs": [
    {
     "output_type": "stream",
     "name": "stdout",
     "text": [
      "\n",
      "a1a\n",
      "Grad test passed:  True\n",
      "Hessian test passed: False\n",
      "Hessian test v2 passed: True\n",
      "\n",
      "bc\n",
      "Grad test passed:  False\n",
      "Hessian test passed: True\n",
      "Hessian test v2 passed: True\n",
      "\n",
      "bc_scaled\n",
      "Grad test passed:  True\n",
      "Hessian test passed: False\n",
      "Hessian test v2 passed: True\n"
     ]
    }
   ],
   "source": [
    "print(\"\\na1a\")\n",
    "a1a = make_oracle(\"a1a.libsvm\")\n",
    "w = np.random.uniform(size=(a1a.m))\n",
    "test_grad(a1a, w)\n",
    "test_hessian(a1a, w)\n",
    "test_hessian_v2(a1a, w)\n",
    "\n",
    "print(\"\\nbc\")\n",
    "bc = make_oracle(\"breast-cancer.libsvm\")\n",
    "w = np.random.uniform(size=(bc.m))\n",
    "test_grad(bc, w)\n",
    "test_hessian(bc, w)\n",
    "test_hessian_v2(bc, w)\n",
    "\n",
    "print(\"\\nbc_scaled\")\n",
    "bc_scaled = make_oracle(\"breast-cancer_scale.libsvm\")\n",
    "w = np.random.uniform(size=(bc_scaled.m))\n",
    "test_grad(bc_scaled, w)\n",
    "test_hessian(bc_scaled, w)\n",
    "test_hessian_v2(bc_scaled, w)"
   ]
  },
  {
   "source": [
    "Здесь численно проверяется посчитанные градиент и гессиан.\n",
    "\n",
    "Причем для гессиана сделана проверка как по конечноразностной производной второго порядка исходной функции, так и по конечноразностной производной первого порядка градиента.\n",
    "\n",
    "Видно, что тесты неоднозначны и зависят, в каком-то смысле, от хорошести датасета. В этом плане самым показательным является датасет **bc_scaled**, так как его значения нормированы.\n",
    "\n",
    "Однако, численная проверка гессиана на конечноразностной производной второго порядка самой функции является, скорее, непоказательной."
   ],
   "cell_type": "markdown",
   "metadata": {}
  },
  {
   "cell_type": "code",
   "execution_count": null,
   "metadata": {},
   "outputs": [],
   "source": []
  }
 ]
}