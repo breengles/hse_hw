{
 "cells": [
  {
   "cell_type": "code",
   "execution_count": null,
   "source": [
    "feature = \"price_norm\"\n",
    "n = 3\n",
    "n_init = 10"
   ],
   "outputs": [],
   "metadata": {}
  },
  {
   "cell_type": "code",
   "execution_count": null,
   "source": [
    "ts = []\n",
    "\n",
    "for session_id, values in data.groupby(\"session_id\")[feature]:\n",
    "    if values.shape[0] > 1:\n",
    "        ts.append(values.tolist())\n",
    "    \n",
    "train = to_time_series_dataset(ts)\n",
    "train = TimeSeriesResampler(sz=train.shape[1]).fit_transform(train)"
   ],
   "outputs": [],
   "metadata": {}
  },
  {
   "cell_type": "code",
   "execution_count": null,
   "source": [
    "km = TimeSeriesKMeans(n_clusters=n, metric=\"euclidean\", random_state=SEED, n_init=n_init)\n",
    "y_pred = km.fit_predict(train)\n",
    "\n",
    "plt.figure(figsize=(20, 20))\n",
    "\n",
    "for yi in range(n):\n",
    "    plt.subplot(3, 2, 1 + yi)\n",
    "    for xx in train[y_pred == yi]:\n",
    "        plt.plot(xx.ravel(), \"k-\", alpha=.2)\n",
    "    plt.plot(km.cluster_centers_[yi].ravel(), \"r-\")\n",
    "    plt.text(0.55, 0.85,'Cluster %d' % (yi + 1),\n",
    "             transform=plt.gca().transAxes)\n",
    "    if yi == 1:\n",
    "        plt.title(\"Euclidean $k$-means\")\n",
    "        \n",
    "plt.show()"
   ],
   "outputs": [],
   "metadata": {}
  },
  {
   "cell_type": "code",
   "execution_count": null,
   "source": [
    "km = TimeSeriesKMeans(n_clusters=n, metric=\"dtw\", random_state=SEED, n_init=n_init)\n",
    "y_pred = km.fit_predict(train)\n",
    "\n",
    "plt.figure(figsize=(20, 20))\n",
    "\n",
    "for yi in range(n):\n",
    "    plt.subplot(3, 2, 1 + yi)\n",
    "    for xx in train[y_pred == yi]:\n",
    "        plt.plot(xx.ravel(), \"k-\", alpha=.2)\n",
    "    plt.plot(km.cluster_centers_[yi].ravel(), \"r-\")\n",
    "    plt.text(0.55, 0.85,'Cluster %d' % (yi + 1), transform=plt.gca().transAxes)\n",
    "    if yi == 1:\n",
    "        plt.title(\"DTW $k$-means\")\n",
    "        \n",
    "plt.show()"
   ],
   "outputs": [],
   "metadata": {}
  },
  {
   "cell_type": "code",
   "execution_count": null,
   "source": [
    "km = TimeSeriesKMeans(n_clusters=n, metric=\"softdtw\", random_state=SEED, n_init=n_init)\n",
    "y_pred = km.fit_predict(train)\n",
    "\n",
    "plt.figure(figsize=(20, 20))\n",
    "\n",
    "for yi in range(n):\n",
    "    plt.subplot(3, 2, 1 + yi)\n",
    "    for xx in train[y_pred == yi]:\n",
    "        plt.plot(xx.ravel(), \"k-\", alpha=.2)\n",
    "    plt.plot(km.cluster_centers_[yi].ravel(), \"r-\")\n",
    "    plt.text(0.55, 0.85,'Cluster %d' % (yi + 1), transform=plt.gca().transAxes)\n",
    "    if yi == 1:\n",
    "        plt.title(\"Soft-DTW $k$-means\")\n",
    "        \n",
    "plt.show()"
   ],
   "outputs": [],
   "metadata": {}
  },
  {
   "cell_type": "code",
   "execution_count": null,
   "source": [
    "ks = KShape(n_clusters=n, random_state=SEED, n_init=n_init)\n",
    "y_pred = ks.fit_predict(train)\n",
    "\n",
    "plt.figure(figsize=(20, 20))\n",
    "for yi in range(n):\n",
    "    plt.subplot(3, 2, 1 + yi)\n",
    "    for xx in train[y_pred == yi]:\n",
    "        plt.plot(xx.ravel(), \"k-\", alpha=.2)\n",
    "    plt.plot(ks.cluster_centers_[yi].ravel(), \"r-\")\n",
    "    plt.title(\"Cluster %d\" % (yi + 1))\n",
    "\n",
    "plt.tight_layout()\n",
    "plt.show()"
   ],
   "outputs": [],
   "metadata": {}
  },
  {
   "cell_type": "code",
   "execution_count": null,
   "source": [
    "gak_km = KernelKMeans(n_clusters=n,\n",
    "                      kernel=\"cosine\",\n",
    "                    #   kernel_params={\"sigma\": \"auto\"},\n",
    "                      n_init=n_init,\n",
    "                      random_state=SEED)\n",
    "y_pred = gak_km.fit_predict(train)\n",
    "\n",
    "plt.figure(figsize=(20, 20))\n",
    "\n",
    "for yi in range(n):\n",
    "    plt.subplot(5, 2, 1 + yi)\n",
    "    for xx in train[y_pred == yi]:\n",
    "        plt.plot(xx.ravel(), \"k-\", alpha=.2)\n",
    "    plt.title(\"Cluster %d\" % (yi + 1))\n",
    "\n",
    "plt.tight_layout()\n",
    "plt.show()"
   ],
   "outputs": [],
   "metadata": {}
  }
 ],
 "metadata": {
  "orig_nbformat": 4,
  "language_info": {
   "name": "python"
  }
 },
 "nbformat": 4,
 "nbformat_minor": 2
}