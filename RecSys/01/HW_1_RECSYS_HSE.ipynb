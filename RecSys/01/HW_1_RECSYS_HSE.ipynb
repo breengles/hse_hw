{
 "cells": [
  {
   "cell_type": "markdown",
   "metadata": {},
   "source": [
    "### Матричные факторизации"
   ]
  },
  {
   "cell_type": "markdown",
   "metadata": {},
   "source": [
    "В данной работе вам предстоит познакомиться с практической стороной матричных разложений.\n",
    "Работа поделена на 4 задания:\n",
    "1. Вам необходимо реализовать SVD разложения используя SGD на explicit данных\n",
    "2. Вам необходимо реализовать матричное разложения используя ALS на implicit данных\n",
    "3. Вам необходимо реализовать матричное разложения используя BPR на implicit данных\n",
    "4. Вам необходимо реализовать матричное разложения используя WARP на implicit данных\n",
    "\n",
    "Мягкий дедлайн 13 Октября (пишутся замечания, выставляется оценка, есть возможность исправить до жесткого дедлайна)\n",
    "\n",
    "Жесткий дедлайн 20 Октября (Итоговая проверка)"
   ]
  },
  {
   "cell_type": "code",
   "execution_count": 1,
   "metadata": {},
   "outputs": [],
   "source": [
    "import implicit\n",
    "import pandas as pd\n",
    "import numpy as np\n",
    "import scipy.sparse as sp\n",
    "import random\n",
    "\n",
    "from lightfm.datasets import fetch_movielens"
   ]
  },
  {
   "cell_type": "code",
   "execution_count": null,
   "metadata": {},
   "outputs": [],
   "source": [
    "SEED = 42\n",
    "np.random.seed(SEED)\n",
    "random.seed(SEED)"
   ]
  },
  {
   "cell_type": "markdown",
   "metadata": {},
   "source": [
    "В данной работе мы будем работать с explicit датасетом movieLens, в котором представленны пары user_id movie_id и rating выставленный пользователем фильму\n",
    "\n",
    "Скачать датасет можно по ссылке https://grouplens.org/datasets/movielens/1m/"
   ]
  },
  {
   "cell_type": "code",
   "execution_count": 2,
   "metadata": {},
   "outputs": [],
   "source": [
    "ratings = pd.read_csv('ml-1m/ratings.dat', delimiter='::', header=None, \n",
    "        names=['user_id', 'movie_id', 'rating', 'timestamp'], \n",
    "        usecols=['user_id', 'movie_id', 'rating'], engine='python')"
   ]
  },
  {
   "cell_type": "code",
   "execution_count": 3,
   "metadata": {},
   "outputs": [],
   "source": [
    "movie_info = pd.read_csv('ml-1m/movies.dat', delimiter='::', header=None, \n",
    "        names=['movie_id', 'name', 'category'], engine='python', encoding=\"utf-8\")"
   ]
  },
  {
   "cell_type": "markdown",
   "metadata": {},
   "source": [
    "Explicit данные"
   ]
  },
  {
   "cell_type": "code",
   "execution_count": 4,
   "metadata": {},
   "outputs": [
    {
     "data": {
      "text/html": [
       "<div>\n",
       "<style scoped>\n",
       "    .dataframe tbody tr th:only-of-type {\n",
       "        vertical-align: middle;\n",
       "    }\n",
       "\n",
       "    .dataframe tbody tr th {\n",
       "        vertical-align: top;\n",
       "    }\n",
       "\n",
       "    .dataframe thead th {\n",
       "        text-align: right;\n",
       "    }\n",
       "</style>\n",
       "<table border=\"1\" class=\"dataframe\">\n",
       "  <thead>\n",
       "    <tr style=\"text-align: right;\">\n",
       "      <th></th>\n",
       "      <th>user_id</th>\n",
       "      <th>movie_id</th>\n",
       "      <th>rating</th>\n",
       "    </tr>\n",
       "  </thead>\n",
       "  <tbody>\n",
       "    <tr>\n",
       "      <th>0</th>\n",
       "      <td>1</td>\n",
       "      <td>1193</td>\n",
       "      <td>5</td>\n",
       "    </tr>\n",
       "    <tr>\n",
       "      <th>1</th>\n",
       "      <td>1</td>\n",
       "      <td>661</td>\n",
       "      <td>3</td>\n",
       "    </tr>\n",
       "    <tr>\n",
       "      <th>2</th>\n",
       "      <td>1</td>\n",
       "      <td>914</td>\n",
       "      <td>3</td>\n",
       "    </tr>\n",
       "    <tr>\n",
       "      <th>3</th>\n",
       "      <td>1</td>\n",
       "      <td>3408</td>\n",
       "      <td>4</td>\n",
       "    </tr>\n",
       "    <tr>\n",
       "      <th>4</th>\n",
       "      <td>1</td>\n",
       "      <td>2355</td>\n",
       "      <td>5</td>\n",
       "    </tr>\n",
       "    <tr>\n",
       "      <th>5</th>\n",
       "      <td>1</td>\n",
       "      <td>1197</td>\n",
       "      <td>3</td>\n",
       "    </tr>\n",
       "    <tr>\n",
       "      <th>6</th>\n",
       "      <td>1</td>\n",
       "      <td>1287</td>\n",
       "      <td>5</td>\n",
       "    </tr>\n",
       "    <tr>\n",
       "      <th>7</th>\n",
       "      <td>1</td>\n",
       "      <td>2804</td>\n",
       "      <td>5</td>\n",
       "    </tr>\n",
       "    <tr>\n",
       "      <th>8</th>\n",
       "      <td>1</td>\n",
       "      <td>594</td>\n",
       "      <td>4</td>\n",
       "    </tr>\n",
       "    <tr>\n",
       "      <th>9</th>\n",
       "      <td>1</td>\n",
       "      <td>919</td>\n",
       "      <td>4</td>\n",
       "    </tr>\n",
       "  </tbody>\n",
       "</table>\n",
       "</div>"
      ],
      "text/plain": [
       "   user_id  movie_id  rating\n",
       "0        1      1193       5\n",
       "1        1       661       3\n",
       "2        1       914       3\n",
       "3        1      3408       4\n",
       "4        1      2355       5\n",
       "5        1      1197       3\n",
       "6        1      1287       5\n",
       "7        1      2804       5\n",
       "8        1       594       4\n",
       "9        1       919       4"
      ]
     },
     "execution_count": 4,
     "metadata": {},
     "output_type": "execute_result"
    }
   ],
   "source": [
    "ratings.head(10)"
   ]
  },
  {
   "cell_type": "markdown",
   "metadata": {},
   "source": [
    "Для того, чтобы преобразовать текущий датасет в Implicit, давайте считать что позитивная оценка это оценка >=4"
   ]
  },
  {
   "cell_type": "code",
   "execution_count": 5,
   "metadata": {},
   "outputs": [],
   "source": [
    "implicit_ratings = ratings.loc[(ratings['rating'] >= 4)]"
   ]
  },
  {
   "cell_type": "code",
   "execution_count": 6,
   "metadata": {},
   "outputs": [
    {
     "data": {
      "text/html": [
       "<div>\n",
       "<style scoped>\n",
       "    .dataframe tbody tr th:only-of-type {\n",
       "        vertical-align: middle;\n",
       "    }\n",
       "\n",
       "    .dataframe tbody tr th {\n",
       "        vertical-align: top;\n",
       "    }\n",
       "\n",
       "    .dataframe thead th {\n",
       "        text-align: right;\n",
       "    }\n",
       "</style>\n",
       "<table border=\"1\" class=\"dataframe\">\n",
       "  <thead>\n",
       "    <tr style=\"text-align: right;\">\n",
       "      <th></th>\n",
       "      <th>user_id</th>\n",
       "      <th>movie_id</th>\n",
       "      <th>rating</th>\n",
       "    </tr>\n",
       "  </thead>\n",
       "  <tbody>\n",
       "    <tr>\n",
       "      <th>0</th>\n",
       "      <td>1</td>\n",
       "      <td>1193</td>\n",
       "      <td>5</td>\n",
       "    </tr>\n",
       "    <tr>\n",
       "      <th>3</th>\n",
       "      <td>1</td>\n",
       "      <td>3408</td>\n",
       "      <td>4</td>\n",
       "    </tr>\n",
       "    <tr>\n",
       "      <th>4</th>\n",
       "      <td>1</td>\n",
       "      <td>2355</td>\n",
       "      <td>5</td>\n",
       "    </tr>\n",
       "    <tr>\n",
       "      <th>6</th>\n",
       "      <td>1</td>\n",
       "      <td>1287</td>\n",
       "      <td>5</td>\n",
       "    </tr>\n",
       "    <tr>\n",
       "      <th>7</th>\n",
       "      <td>1</td>\n",
       "      <td>2804</td>\n",
       "      <td>5</td>\n",
       "    </tr>\n",
       "    <tr>\n",
       "      <th>8</th>\n",
       "      <td>1</td>\n",
       "      <td>594</td>\n",
       "      <td>4</td>\n",
       "    </tr>\n",
       "    <tr>\n",
       "      <th>9</th>\n",
       "      <td>1</td>\n",
       "      <td>919</td>\n",
       "      <td>4</td>\n",
       "    </tr>\n",
       "    <tr>\n",
       "      <th>10</th>\n",
       "      <td>1</td>\n",
       "      <td>595</td>\n",
       "      <td>5</td>\n",
       "    </tr>\n",
       "    <tr>\n",
       "      <th>11</th>\n",
       "      <td>1</td>\n",
       "      <td>938</td>\n",
       "      <td>4</td>\n",
       "    </tr>\n",
       "    <tr>\n",
       "      <th>12</th>\n",
       "      <td>1</td>\n",
       "      <td>2398</td>\n",
       "      <td>4</td>\n",
       "    </tr>\n",
       "  </tbody>\n",
       "</table>\n",
       "</div>"
      ],
      "text/plain": [
       "    user_id  movie_id  rating\n",
       "0         1      1193       5\n",
       "3         1      3408       4\n",
       "4         1      2355       5\n",
       "6         1      1287       5\n",
       "7         1      2804       5\n",
       "8         1       594       4\n",
       "9         1       919       4\n",
       "10        1       595       5\n",
       "11        1       938       4\n",
       "12        1      2398       4"
      ]
     },
     "execution_count": 6,
     "metadata": {},
     "output_type": "execute_result"
    }
   ],
   "source": [
    "implicit_ratings.head(10)"
   ]
  },
  {
   "cell_type": "markdown",
   "metadata": {},
   "source": [
    "Удобнее работать с sparse матричками, давайте преобразуем DataFrame в CSR матрицы"
   ]
  },
  {
   "cell_type": "code",
   "execution_count": 7,
   "metadata": {},
   "outputs": [],
   "source": [
    "users = implicit_ratings[\"user_id\"]\n",
    "movies = implicit_ratings[\"movie_id\"]\n",
    "user_item = sp.coo_matrix((np.ones_like(users), (users, movies)))\n",
    "user_item_t_csr = user_item.T.tocsr()\n",
    "user_item_csr = user_item.tocsr()"
   ]
  },
  {
   "cell_type": "markdown",
   "metadata": {},
   "source": [
    "В качестве примера воспользуемся ALS разложением из библиотеки implicit\n",
    "\n",
    "Зададим размерность латентного пространства равным 64, это же определяет размер user/item эмбедингов"
   ]
  },
  {
   "cell_type": "code",
   "execution_count": 8,
   "metadata": {},
   "outputs": [
    {
     "name": "stderr",
     "output_type": "stream",
     "text": [
      "WARNING:root:OpenBLAS detected. Its highly recommend to set the environment variable 'export OPENBLAS_NUM_THREADS=1' to disable its internal multithreading\n"
     ]
    }
   ],
   "source": [
    "model = implicit.als.AlternatingLeastSquares(factors=64, iterations=100, calculate_training_loss=True)"
   ]
  },
  {
   "cell_type": "markdown",
   "metadata": {},
   "source": [
    "В качестве loss здесь всеми любимый RMSE"
   ]
  },
  {
   "cell_type": "code",
   "execution_count": 9,
   "metadata": {},
   "outputs": [
    {
     "name": "stderr",
     "output_type": "stream",
     "text": [
      "100%|██████████| 100/100 [00:43<00:00,  2.29it/s, loss=0.0135]\n"
     ]
    }
   ],
   "source": [
    "model.fit(user_item_t_csr)"
   ]
  },
  {
   "cell_type": "markdown",
   "metadata": {},
   "source": [
    "Построим похожие фильмы по 1 movie_id = Истории игрушек"
   ]
  },
  {
   "cell_type": "code",
   "execution_count": 10,
   "metadata": {},
   "outputs": [
    {
     "data": {
      "text/html": [
       "<div>\n",
       "<style scoped>\n",
       "    .dataframe tbody tr th:only-of-type {\n",
       "        vertical-align: middle;\n",
       "    }\n",
       "\n",
       "    .dataframe tbody tr th {\n",
       "        vertical-align: top;\n",
       "    }\n",
       "\n",
       "    .dataframe thead th {\n",
       "        text-align: right;\n",
       "    }\n",
       "</style>\n",
       "<table border=\"1\" class=\"dataframe\">\n",
       "  <thead>\n",
       "    <tr style=\"text-align: right;\">\n",
       "      <th></th>\n",
       "      <th>movie_id</th>\n",
       "      <th>name</th>\n",
       "      <th>category</th>\n",
       "    </tr>\n",
       "  </thead>\n",
       "  <tbody>\n",
       "    <tr>\n",
       "      <th>0</th>\n",
       "      <td>1</td>\n",
       "      <td>Toy Story (1995)</td>\n",
       "      <td>Animation|Children's|Comedy</td>\n",
       "    </tr>\n",
       "    <tr>\n",
       "      <th>1</th>\n",
       "      <td>2</td>\n",
       "      <td>Jumanji (1995)</td>\n",
       "      <td>Adventure|Children's|Fantasy</td>\n",
       "    </tr>\n",
       "    <tr>\n",
       "      <th>2</th>\n",
       "      <td>3</td>\n",
       "      <td>Grumpier Old Men (1995)</td>\n",
       "      <td>Comedy|Romance</td>\n",
       "    </tr>\n",
       "    <tr>\n",
       "      <th>3</th>\n",
       "      <td>4</td>\n",
       "      <td>Waiting to Exhale (1995)</td>\n",
       "      <td>Comedy|Drama</td>\n",
       "    </tr>\n",
       "    <tr>\n",
       "      <th>4</th>\n",
       "      <td>5</td>\n",
       "      <td>Father of the Bride Part II (1995)</td>\n",
       "      <td>Comedy</td>\n",
       "    </tr>\n",
       "  </tbody>\n",
       "</table>\n",
       "</div>"
      ],
      "text/plain": [
       "   movie_id                                name                      category\n",
       "0         1                    Toy Story (1995)   Animation|Children's|Comedy\n",
       "1         2                      Jumanji (1995)  Adventure|Children's|Fantasy\n",
       "2         3             Grumpier Old Men (1995)                Comedy|Romance\n",
       "3         4            Waiting to Exhale (1995)                  Comedy|Drama\n",
       "4         5  Father of the Bride Part II (1995)                        Comedy"
      ]
     },
     "execution_count": 10,
     "metadata": {},
     "output_type": "execute_result"
    }
   ],
   "source": [
    "movie_info.head(5)"
   ]
  },
  {
   "cell_type": "code",
   "execution_count": 11,
   "metadata": {},
   "outputs": [],
   "source": [
    "get_similars = lambda item_id, model : [movie_info[movie_info[\"movie_id\"] == x[0]][\"name\"].to_string() for x in model.similar_items(item_id)]"
   ]
  },
  {
   "cell_type": "code",
   "execution_count": 12,
   "metadata": {},
   "outputs": [
    {
     "data": {
      "text/plain": [
       "[(1, 1.0),\n",
       " (3114, 0.7946778),\n",
       " (2355, 0.59122187),\n",
       " (34, 0.47109202),\n",
       " (588, 0.45792505),\n",
       " (2384, 0.4241773),\n",
       " (364, 0.42301437),\n",
       " (1566, 0.39602447),\n",
       " (2321, 0.3887717),\n",
       " (2761, 0.38172835)]"
      ]
     },
     "execution_count": 12,
     "metadata": {},
     "output_type": "execute_result"
    }
   ],
   "source": [
    "model.similar_items(1)"
   ]
  },
  {
   "cell_type": "markdown",
   "metadata": {},
   "source": [
    "Как мы видим, симилары действительно оказались симиларами.\n",
    "\n",
    "Качество симиларов часто является хорошим способом проверить качество алгоритмов.\n",
    "\n",
    "P.S. Если хочется поглубже разобраться в том как разные алгоритмы формируют разные латентные пространства, рекомендую загружать полученные вектора в tensorBoard и смотреть на сформированное пространство"
   ]
  },
  {
   "cell_type": "code",
   "execution_count": 13,
   "metadata": {},
   "outputs": [
    {
     "data": {
      "text/plain": [
       "['0    Toy Story (1995)',\n",
       " '3046    Toy Story 2 (1999)',\n",
       " \"2287    Bug's Life, A (1998)\",\n",
       " '33    Babe (1995)',\n",
       " '584    Aladdin (1992)',\n",
       " '2316    Babe: Pig in the City (1998)',\n",
       " '360    Lion King, The (1994)',\n",
       " '1526    Hercules (1997)',\n",
       " '2253    Pleasantville (1998)',\n",
       " '2693    Iron Giant, The (1999)']"
      ]
     },
     "execution_count": 13,
     "metadata": {},
     "output_type": "execute_result"
    }
   ],
   "source": [
    "get_similars(1, model)"
   ]
  },
  {
   "cell_type": "markdown",
   "metadata": {},
   "source": [
    "Давайте теперь построим рекомендации для юзеров\n",
    "\n",
    "Как мы видим юзеру нравится фантастика, значит и в рекомендациях ожидаем увидеть фантастику"
   ]
  },
  {
   "cell_type": "code",
   "execution_count": 14,
   "metadata": {},
   "outputs": [],
   "source": [
    "get_user_history = lambda user_id, implicit_ratings : [movie_info[movie_info[\"movie_id\"] == x][\"name\"].to_string() for x in implicit_ratings[implicit_ratings[\"user_id\"] == user_id][\"movie_id\"]]"
   ]
  },
  {
   "cell_type": "code",
   "execution_count": 15,
   "metadata": {},
   "outputs": [
    {
     "data": {
      "text/plain": [
       "['3400    Hustler, The (1961)',\n",
       " '2883    Fistful of Dollars, A (1964)',\n",
       " '1196    Alien (1979)',\n",
       " '1023    Die Hard (1988)',\n",
       " '257    Star Wars: Episode IV - A New Hope (1977)',\n",
       " '1960    Saving Private Ryan (1998)',\n",
       " '476    Jurassic Park (1993)',\n",
       " '1180    Raiders of the Lost Ark (1981)',\n",
       " '1886    Rocky (1976)',\n",
       " '1081    E.T. the Extra-Terrestrial (1982)',\n",
       " '3350    Thelma & Louise (1991)',\n",
       " '3634    Mad Max (1979)',\n",
       " '2298    King Kong (1933)',\n",
       " '1366    Jaws (1975)',\n",
       " '1183    Good, The Bad and The Ugly, The (1966)',\n",
       " '2624    Run Lola Run (Lola rennt) (1998)',\n",
       " '2879    Goldfinger (1964)',\n",
       " '1220    Terminator, The (1984)']"
      ]
     },
     "execution_count": 15,
     "metadata": {},
     "output_type": "execute_result"
    }
   ],
   "source": [
    "get_user_history(4, implicit_ratings)"
   ]
  },
  {
   "cell_type": "markdown",
   "metadata": {},
   "source": [
    "Получилось! \n",
    "\n",
    "Мы действительно порекомендовали пользователю фантастику и боевики, более того встречаются продолжения тех фильмов, которые он высоко оценил"
   ]
  },
  {
   "cell_type": "code",
   "execution_count": 16,
   "metadata": {},
   "outputs": [],
   "source": [
    "get_recommendations = lambda user_id, model : [movie_info[movie_info[\"movie_id\"] == x[0]][\"name\"].to_string() \n",
    "                                               for x in model.recommend(user_id, user_item_csr)]"
   ]
  },
  {
   "cell_type": "code",
   "execution_count": 17,
   "metadata": {},
   "outputs": [
    {
     "data": {
      "text/plain": [
       "['585    Terminator 2: Judgment Day (1991)',\n",
       " '1271    Indiana Jones and the Last Crusade (1989)',\n",
       " '1182    Aliens (1986)',\n",
       " '1284    Butch Cassidy and the Sundance Kid (1969)',\n",
       " '2503    Matrix, The (1999)',\n",
       " '1178    Star Wars: Episode V - The Empire Strikes Back...',\n",
       " '1179    Princess Bride, The (1987)',\n",
       " '1885    French Connection, The (1971)',\n",
       " '847    Godfather, The (1972)',\n",
       " '1893    Rain Man (1988)']"
      ]
     },
     "execution_count": 17,
     "metadata": {},
     "output_type": "execute_result"
    }
   ],
   "source": [
    "get_recommendations(4, model)"
   ]
  },
  {
   "cell_type": "markdown",
   "metadata": {},
   "source": [
    "Теперь ваша очередь реализовать самые популярные алгоритмы матричных разложений\n",
    "\n",
    "Что будет оцениваться:\n",
    "1. Корректность алгоритма\n",
    "2. Качество получившихся симиларов\n",
    "3. Качество итоговых рекомендаций для юзера"
   ]
  },
  {
   "cell_type": "code",
   "execution_count": 18,
   "metadata": {},
   "outputs": [],
   "source": [
    "from factorization import SVD, SVDS\n",
    "from datetime import datetime"
   ]
  },
  {
   "cell_type": "code",
   "execution_count": 19,
   "metadata": {},
   "outputs": [],
   "source": [
    "get_similars = lambda item_id, model : movie_info[movie_info[\"movie_id\"].isin(model.similar_items(item_id))][[\"name\", \"category\"]]\n",
    "\n",
    "get_recommendations = lambda user_id, model : movie_info[movie_info[\"movie_id\"].isin(model.recommend(user_id))][[\"name\", \"category\"]]\n",
    "\n",
    "get_user_history = lambda user_id, implicit_ratings : movie_info[movie_info[\"movie_id\"].isin(implicit_ratings[implicit_ratings[\"user_id\"] == user_id][\"movie_id\"])][[\"name\", \"category\"]]"
   ]
  },
  {
   "cell_type": "code",
   "execution_count": 20,
   "metadata": {},
   "outputs": [],
   "source": [
    "def test(model):\n",
    "    item_id = 1\n",
    "    target = movie_info[movie_info.movie_id == item_id]\n",
    "    print(f\"Similar to {target.name.item()} ({target.category.item()}):\")\n",
    "    sims = model.similar_items(item_id)\n",
    "    \n",
    "    for idx, i in enumerate(sims):\n",
    "        selected = movie_info[movie_info.movie_id == i]\n",
    "        print(f\"{idx + 1}) {selected.name.item()} ({selected.category.item()})\")\n",
    "    \n",
    "    print()\n",
    "    \n",
    "    user_id = 4\n",
    "    print(f\"Recommended movies for user {user_id}:\")\n",
    "    recs = model.recommend(user_id)\n",
    "    \n",
    "    for idx, i in enumerate(recs):\n",
    "        selected = movie_info[movie_info.movie_id == i]\n",
    "        if len(selected) != 0:\n",
    "            print(f\"{idx + 1}) {selected.name.item()} ({selected.category.item()})\")"
   ]
  },
  {
   "cell_type": "markdown",
   "metadata": {},
   "source": [
    "### Задание 1. Не использую готовые решения, реализовать SVD разложение используя SGD на explicit данных"
   ]
  },
  {
   "cell_type": "code",
   "execution_count": 21,
   "metadata": {},
   "outputs": [],
   "source": [
    "user_item_exp = sp.coo_matrix((ratings[\"rating\"], (ratings[\"user_id\"], ratings[\"movie_id\"])))"
   ]
  },
  {
   "cell_type": "code",
   "execution_count": 22,
   "metadata": {},
   "outputs": [
    {
     "name": "stdout",
     "output_type": "stream",
     "text": [
      "Iter:   10 | RMSE: 1.83971E+00\n",
      "Iter:   20 | RMSE: 1.33827E+00\n",
      "Iter:   30 | RMSE: 1.15547E+00\n",
      "Iter:   40 | RMSE: 1.06730E+00\n",
      "Iter:   50 | RMSE: 1.01782E+00\n",
      "Iter:   60 | RMSE: 9.87247E-01\n",
      "Iter:   70 | RMSE: 9.67054E-01\n",
      "Iter:   80 | RMSE: 9.53034E-01\n",
      "Iter:   90 | RMSE: 9.42908E-01\n",
      "Iter:  100 | RMSE: 9.35353E-01\n",
      "Iter:  110 | RMSE: 9.29557E-01\n",
      "Iter:  120 | RMSE: 9.24999E-01\n",
      "Iter:  130 | RMSE: 9.21332E-01\n",
      "Iter:  140 | RMSE: 9.18317E-01\n",
      "Iter:  150 | RMSE: 9.15785E-01\n",
      "Iter:  160 | RMSE: 9.13614E-01\n",
      "Iter:  170 | RMSE: 9.11710E-01\n",
      "Iter:  180 | RMSE: 9.10003E-01\n",
      "Iter:  190 | RMSE: 9.08438E-01\n",
      "Iter:  200 | RMSE: 9.06967E-01\n",
      "Iter:  210 | RMSE: 9.05551E-01\n",
      "Iter:  220 | RMSE: 9.04157E-01\n",
      "Iter:  230 | RMSE: 9.02753E-01\n",
      "Iter:  240 | RMSE: 9.01311E-01\n",
      "Iter:  250 | RMSE: 8.99805E-01\n",
      "Iter:  260 | RMSE: 8.98211E-01\n",
      "Iter:  270 | RMSE: 8.96510E-01\n",
      "Iter:  280 | RMSE: 8.94685E-01\n",
      "Iter:  290 | RMSE: 8.92725E-01\n",
      "Iter:  300 | RMSE: 8.90625E-01\n",
      "Iter:  310 | RMSE: 8.88388E-01\n",
      "Iter:  320 | RMSE: 8.86023E-01\n",
      "Iter:  330 | RMSE: 8.83544E-01\n",
      "Iter:  340 | RMSE: 8.80969E-01\n",
      "Iter:  350 | RMSE: 8.78315E-01\n",
      "Iter:  360 | RMSE: 8.75599E-01\n",
      "Iter:  370 | RMSE: 8.72833E-01\n",
      "Iter:  380 | RMSE: 8.70025E-01\n",
      "Iter:  390 | RMSE: 8.67178E-01\n",
      "Iter:  400 | RMSE: 8.64294E-01\n",
      "Iter:  410 | RMSE: 8.61372E-01\n",
      "Iter:  420 | RMSE: 8.58411E-01\n",
      "Iter:  430 | RMSE: 8.55409E-01\n",
      "Iter:  440 | RMSE: 8.52366E-01\n",
      "Iter:  450 | RMSE: 8.49283E-01\n",
      "Iter:  460 | RMSE: 8.46160E-01\n",
      "Iter:  470 | RMSE: 8.42999E-01\n",
      "Iter:  480 | RMSE: 8.39801E-01\n",
      "Iter:  490 | RMSE: 8.36568E-01\n",
      "Iter:  500 | RMSE: 8.33303E-01\n",
      "Iter:  510 | RMSE: 8.30009E-01\n",
      "Iter:  520 | RMSE: 8.26687E-01\n",
      "Iter:  530 | RMSE: 8.23340E-01\n",
      "Iter:  540 | RMSE: 8.19973E-01\n",
      "Iter:  550 | RMSE: 8.16587E-01\n",
      "Iter:  560 | RMSE: 8.13185E-01\n",
      "Iter:  570 | RMSE: 8.09770E-01\n",
      "Iter:  580 | RMSE: 8.06346E-01\n",
      "Iter:  590 | RMSE: 8.02915E-01\n",
      "Iter:  600 | RMSE: 7.99480E-01\n",
      "Iter:  610 | RMSE: 7.96043E-01\n",
      "Iter:  620 | RMSE: 7.92608E-01\n",
      "Iter:  630 | RMSE: 7.89176E-01\n",
      "Iter:  640 | RMSE: 7.85751E-01\n",
      "Iter:  650 | RMSE: 7.82335E-01\n",
      "Iter:  660 | RMSE: 7.78929E-01\n",
      "Iter:  670 | RMSE: 7.75537E-01\n",
      "Iter:  680 | RMSE: 7.72161E-01\n",
      "Iter:  690 | RMSE: 7.68802E-01\n",
      "Iter:  700 | RMSE: 7.65463E-01\n",
      "Iter:  710 | RMSE: 7.62146E-01\n",
      "Iter:  720 | RMSE: 7.58853E-01\n",
      "Iter:  730 | RMSE: 7.55585E-01\n",
      "Iter:  740 | RMSE: 7.52345E-01\n",
      "Iter:  750 | RMSE: 7.49134E-01\n",
      "Iter:  760 | RMSE: 7.45953E-01\n",
      "Iter:  770 | RMSE: 7.42805E-01\n",
      "Iter:  780 | RMSE: 7.39690E-01\n",
      "Iter:  790 | RMSE: 7.36610E-01\n",
      "Iter:  800 | RMSE: 7.33566E-01\n",
      "Iter:  810 | RMSE: 7.30559E-01\n",
      "Iter:  820 | RMSE: 7.27590E-01\n",
      "Iter:  830 | RMSE: 7.24660E-01\n",
      "Iter:  840 | RMSE: 7.21770E-01\n",
      "Iter:  850 | RMSE: 7.18919E-01\n",
      "Iter:  860 | RMSE: 7.16109E-01\n",
      "Iter:  870 | RMSE: 7.13341E-01\n",
      "Iter:  880 | RMSE: 7.10613E-01\n",
      "Iter:  890 | RMSE: 7.07927E-01\n",
      "Iter:  900 | RMSE: 7.05282E-01\n",
      "Iter:  910 | RMSE: 7.02679E-01\n",
      "Iter:  920 | RMSE: 7.00117E-01\n",
      "Iter:  930 | RMSE: 6.97597E-01\n",
      "Iter:  940 | RMSE: 6.95117E-01\n",
      "Iter:  950 | RMSE: 6.92678E-01\n",
      "Iter:  960 | RMSE: 6.90280E-01\n",
      "Iter:  970 | RMSE: 6.87921E-01\n",
      "Iter:  980 | RMSE: 6.85601E-01\n",
      "Iter:  990 | RMSE: 6.83321E-01\n",
      "Iter:  1000 | RMSE: 6.81078E-01\n"
     ]
    },
    {
     "data": {
      "image/png": "[encoded data removed]",
      "text/plain": [
       "<Figure size 864x576 with 1 Axes>"
      ]
     },
     "metadata": {
      "needs_background": "light"
     },
     "output_type": "display_data"
    },
    {
     "name": "stdout",
     "output_type": "stream",
     "text": [
      "CPU times: user 12min 25s, sys: 16min 36s, total: 29min 2s\n",
      "Wall time: 5min 43s\n"
     ]
    }
   ],
   "source": [
    "%%time\n",
    "model_svd = SVD(64, iterations=1000, lr=1e-4, verbose=True, weight_decay=1e-2)\n",
    "model_svd.fit(user_item_exp)  \n",
    "\n",
    "timestamp = datetime.now()\n",
    "model_svd.logger.save(f\"log.{timestamp.date()}_{timestamp.time()}.csv\")\n",
    "model_svd.logger.plot(\"iter\", \"rmse\", label=\"RMSE\", x_label=\"Iteration\", y_label=\"RMSE\")"
   ]
  },
  {
   "cell_type": "code",
   "execution_count": 23,
   "metadata": {},
   "outputs": [],
   "source": [
    "# test(model_svd)"
   ]
  },
  {
   "cell_type": "code",
   "execution_count": 24,
   "metadata": {},
   "outputs": [
    {
     "name": "stdout",
     "output_type": "stream",
     "text": [
      "Iter:   10 | RMSE: 2.23125E+00\n",
      "Iter:   20 | RMSE: 2.14656E+00\n",
      "Iter:   30 | RMSE: 2.11906E+00\n",
      "Iter:   40 | RMSE: 2.11266E+00\n",
      "Iter:   50 | RMSE: 2.10913E+00\n"
     ]
    },
    {
     "data": {
      "image/png": "[encoded data removed]",
      "text/plain": [
       "<Figure size 864x576 with 1 Axes>"
      ]
     },
     "metadata": {
      "needs_background": "light"
     },
     "output_type": "display_data"
    },
    {
     "name": "stdout",
     "output_type": "stream",
     "text": [
      "CPU times: user 10min 34s, sys: 5.73 s, total: 10min 40s\n",
      "Wall time: 10min 41s\n"
     ]
    }
   ],
   "source": [
    "%%time\n",
    "model_svds = SVDS(64, iterations=50, lr=1e-2, verbose=True, weight_decay=1e-2, save_every=10)\n",
    "\n",
    "model_svds.fit(user_item_exp)\n",
    "\n",
    "timestamp = datetime.now()\n",
    "model_svds.logger.save(f\"log.{timestamp.date()}_{timestamp.time()}.csv\")\n",
    "model_svds.logger.plot(\"iter\", \"rmse\", label=\"RMSE\", x_label=\"Iteration\", y_label=\"RMSE\")"
   ]
  },
  {
   "cell_type": "code",
   "execution_count": 25,
   "metadata": {},
   "outputs": [],
   "source": [
    "# test(model_svds)"
   ]
  },
  {
   "cell_type": "markdown",
   "metadata": {},
   "source": [
    "### Задание 2. Не использую готовые решения, реализовать матричное разложение используя ALS на implicit данных"
   ]
  },
  {
   "cell_type": "code",
   "execution_count": 26,
   "metadata": {},
   "outputs": [],
   "source": [
    "from factorization import ALS"
   ]
  },
  {
   "cell_type": "code",
   "execution_count": 27,
   "metadata": {},
   "outputs": [
    {
     "name": "stdout",
     "output_type": "stream",
     "text": [
      "Iter:    1 | RMSE: 7.25811E-01\n",
      "Iter:    2 | RMSE: 6.55017E-01\n",
      "Iter:    3 | RMSE: 6.45272E-01\n",
      "Iter:    4 | RMSE: 6.42080E-01\n",
      "Iter:    5 | RMSE: 6.40613E-01\n",
      "Iter:    6 | RMSE: 6.39803E-01\n",
      "Iter:    7 | RMSE: 6.39311E-01\n",
      "Iter:    8 | RMSE: 6.38994E-01\n",
      "Iter:    9 | RMSE: 6.38782E-01\n",
      "Iter:   10 | RMSE: 6.38635E-01\n"
     ]
    },
    {
     "data": {
      "image/png": "[encoded data removed]",
      "text/plain": [
       "<Figure size 864x576 with 1 Axes>"
      ]
     },
     "metadata": {
      "needs_background": "light"
     },
     "output_type": "display_data"
    },
    {
     "name": "stdout",
     "output_type": "stream",
     "text": [
      "CPU times: user 20min 41s, sys: 24min 51s, total: 45min 33s\n",
      "Wall time: 6min 52s\n"
     ]
    }
   ],
   "source": [
    "%%time\n",
    "model_als = ALS(64, 10, 1e-5, 1e-5, True)\n",
    "\n",
    "model_als.fit(user_item_csr)\n",
    "\n",
    "timestamp = datetime.now()\n",
    "model_als.logger.save(f\"log.{timestamp.date()}_{timestamp.time()}.csv\")\n",
    "model_als.logger.plot(\"iter\", \"rmse\", label=\"RMSE\", x_label=\"Iteration\", y_label=\"RMSE\")"
   ]
  },
  {
   "cell_type": "code",
   "execution_count": 28,
   "metadata": {},
   "outputs": [],
   "source": [
    "# test(model_als)"
   ]
  },
  {
   "cell_type": "markdown",
   "metadata": {},
   "source": [
    "### Задание 3. Не использую готовые решения, реализовать матричное разложение BPR на implicit данных"
   ]
  },
  {
   "cell_type": "code",
   "execution_count": 29,
   "metadata": {},
   "outputs": [],
   "source": [
    "from factorization import BPR"
   ]
  },
  {
   "cell_type": "code",
   "execution_count": 30,
   "metadata": {},
   "outputs": [
    {
     "name": "stdout",
     "output_type": "stream",
     "text": [
      "Iter:    500 | AUC: 0.91199 | AUC2: 0.79933\n",
      "Iter:   1000 | AUC: 0.94844 | AUC2: 0.88768\n",
      "Iter:   1500 | AUC: 0.95828 | AUC2: 0.88847\n",
      "Iter:   2000 | AUC: 0.96311 | AUC2: 0.92172\n",
      "Iter:   2500 | AUC: 0.96585 | AUC2: 0.94717\n",
      "Iter:   3000 | AUC: 0.96738 | AUC2: 0.85586\n",
      "Iter:   3500 | AUC: 0.96956 | AUC2: 0.93889\n",
      "Iter:   4000 | AUC: 0.97038 | AUC2: 0.87874\n",
      "Iter:   4500 | AUC: 0.97079 | AUC2: 0.92270\n",
      "Iter:   5000 | AUC: 0.97189 | AUC2: 0.93687\n",
      "Iter:   5500 | AUC: 0.97218 | AUC2: 0.93678\n",
      "Iter:   6000 | AUC: 0.97275 | AUC2: 0.92050\n",
      "Iter:   6500 | AUC: 0.97299 | AUC2: 0.90142\n",
      "Iter:   7000 | AUC: 0.97336 | AUC2: 0.92115\n",
      "Iter:   7500 | AUC: 0.97357 | AUC2: 0.89037\n",
      "Iter:   8000 | AUC: 0.97318 | AUC2: 0.95924\n",
      "Iter:   8500 | AUC: 0.97417 | AUC2: 0.94033\n",
      "Iter:   9000 | AUC: 0.97396 | AUC2: 0.89985\n",
      "Iter:   9500 | AUC: 0.97448 | AUC2: 0.91312\n",
      "Iter:  10000 | AUC: 0.97411 | AUC2: 0.92426\n"
     ]
    },
    {
     "data": {
      "image/png": "[encoded data removed]",
      "text/plain": [
       "<Figure size 864x576 with 1 Axes>"
      ]
     },
     "metadata": {
      "needs_background": "light"
     },
     "output_type": "display_data"
    },
    {
     "data": {
      "image/png": "[encoded data removed]",
      "text/plain": [
       "<Figure size 864x576 with 1 Axes>"
      ]
     },
     "metadata": {
      "needs_background": "light"
     },
     "output_type": "display_data"
    },
    {
     "name": "stdout",
     "output_type": "stream",
     "text": [
      "CPU times: user 24min 22s, sys: 26min 4s, total: 50min 27s\n",
      "Wall time: 20min 6s\n"
     ]
    }
   ],
   "source": [
    "%%time\n",
    "model_bpr = BPR(64, int(1e4), 1e-1, 1e-2, True, save_every=500)\n",
    "\n",
    "model_bpr.fit(user_item_csr, batch_size=3000)\n",
    "\n",
    "timestamp = datetime.now()\n",
    "model_bpr.logger.save(f\"log.{timestamp.date()}_{timestamp.time()}.csv\")\n",
    "model_bpr.logger.plot(\"iter\", \"AUC\", label=\"AUC\", x_label=\"Iteration\", y_label=\"AUC\")\n",
    "model_bpr.logger.plot(\"iter\", \"AUC2\", label=\"AUC2\", x_label=\"Iteration\", y_label=\"AUC2\")"
   ]
  },
  {
   "cell_type": "code",
   "execution_count": 31,
   "metadata": {},
   "outputs": [],
   "source": [
    "# test(model_bpr)"
   ]
  },
  {
   "cell_type": "markdown",
   "metadata": {},
   "source": [
    "### Задание 4. Не использую готовые решения, реализовать матричное разложение WARP на implicit данных"
   ]
  },
  {
   "cell_type": "code",
   "execution_count": 32,
   "metadata": {},
   "outputs": [
    {
     "name": "stdout",
     "output_type": "stream",
     "text": [
      "Similar to Toy Story (1995) (Animation|Children's|Comedy):\n",
      "1) Toy Story 2 (1999) (Animation|Children's|Comedy)\n",
      "2) Bug's Life, A (1998) (Animation|Children's|Comedy)\n",
      "3) Crimson Pirate, The (1952) (Adventure|Comedy|Sci-Fi)\n",
      "4) Iron Giant, The (1999) (Animation|Children's)\n",
      "5) American Tail: Fievel Goes West, An (1991) (Animation|Children's|Comedy)\n",
      "6) Anne Frank Remembered (1995) (Documentary)\n",
      "7) Shall We Dance? (Shall We Dansu?) (1996) (Comedy)\n",
      "8) Pharaoh's Army (1995) (War)\n",
      "9) Dumbo (1941) (Animation|Children's|Musical)\n",
      "10) Hostile Intentions (1994) (Action|Drama|Thriller)\n",
      "\n",
      "Recommended movies for user 4:\n",
      "1) Godfather, The (1972) (Action|Crime|Drama)\n",
      "2) To Kill a Mockingbird (1962) (Drama)\n",
      "3) Seven Samurai (The Magnificent Seven) (Shichinin no samurai) (1954) (Action|Drama)\n",
      "4) Sanjuro (1962) (Action|Adventure)\n",
      "5) Lawrence of Arabia (1962) (Adventure|War)\n",
      "6) Fargo (1996) (Crime|Drama|Thriller)\n",
      "7) One Flew Over the Cuckoo's Nest (1975) (Drama)\n",
      "8) For All Mankind (1989) (Documentary)\n",
      "9) Citizen Kane (1941) (Drama)\n",
      "10) Schindler's List (1993) (Drama|War)\n"
     ]
    }
   ],
   "source": [
    "test(model_svd)"
   ]
  },
  {
   "cell_type": "code",
   "execution_count": 33,
   "metadata": {},
   "outputs": [
    {
     "name": "stdout",
     "output_type": "stream",
     "text": [
      "Similar to Toy Story (1995) (Animation|Children's|Comedy):\n",
      "1) Toy Story 2 (1999) (Animation|Children's|Comedy)\n",
      "2) Bug's Life, A (1998) (Animation|Children's|Comedy)\n",
      "3) One Man's Hero (1999) (Drama|War)\n",
      "4) Marcello Mastroianni: I Remember Yes, I Remember (1997) (Documentary)\n",
      "5) Legal Deceit (1997) (Thriller)\n",
      "6) Breaks, The (1999) (Drama)\n",
      "7) Twisted (1996) (Comedy|Drama)\n",
      "8) Big (1988) (Comedy|Fantasy)\n",
      "9) Aladdin (1992) (Animation|Children's|Comedy|Musical)\n",
      "10) Wooden Man's Bride, The (Wu Kui) (1994) (Drama)\n",
      "\n",
      "Recommended movies for user 4:\n",
      "1) Breaking the Waves (1996) (Drama)\n",
      "2) Lifeboat (1944) (Drama|Thriller|War)\n",
      "3) Seven Beauties (Pasqualino Settebellezze) (1976) (Comedy|Drama)\n",
      "4) Buena Vista Social Club (1999) (Documentary)\n",
      "5) Garden of Finzi-Contini, The (Giardino dei Finzi-Contini, Il) (1970) (Drama)\n",
      "6) Inherit the Wind (1960) (Drama)\n",
      "7) Men With Guns (1997) (Action|Drama)\n",
      "8) River Runs Through It, A (1992) (Drama)\n",
      "9) Return of the Pink Panther, The (1974) (Comedy)\n",
      "10) Hamlet (1948) (Drama)\n"
     ]
    }
   ],
   "source": [
    "test(model_svds)"
   ]
  },
  {
   "cell_type": "code",
   "execution_count": 34,
   "metadata": {},
   "outputs": [
    {
     "name": "stdout",
     "output_type": "stream",
     "text": [
      "Similar to Toy Story (1995) (Animation|Children's|Comedy):\n",
      "1) Toy Story 2 (1999) (Animation|Children's|Comedy)\n",
      "2) Babe (1995) (Children's|Comedy|Drama)\n",
      "3) Bug's Life, A (1998) (Animation|Children's|Comedy)\n",
      "4) Babe: Pig in the City (1998) (Children's|Comedy)\n",
      "5) Pleasantville (1998) (Comedy)\n",
      "6) Aladdin (1992) (Animation|Children's|Comedy|Musical)\n",
      "7) Lion King, The (1994) (Animation|Children's|Musical)\n",
      "8) Hercules (1997) (Adventure|Animation|Children's|Comedy|Musical)\n",
      "9) Mulan (1998) (Animation|Children's)\n",
      "10) Stuart Little (1999) (Children's|Comedy)\n",
      "\n",
      "Recommended movies for user 4:\n",
      "1) Terminator 2: Judgment Day (1991) (Action|Sci-Fi|Thriller)\n",
      "2) Indiana Jones and the Last Crusade (1989) (Action|Adventure)\n",
      "3) Star Wars: Episode V - The Empire Strikes Back (1980) (Action|Adventure|Drama|Sci-Fi|War)\n",
      "4) Butch Cassidy and the Sundance Kid (1969) (Action|Comedy|Western)\n",
      "5) Close Encounters of the Third Kind (1977) (Drama|Sci-Fi)\n",
      "6) Fugitive, The (1993) (Action|Thriller)\n",
      "7) Matrix, The (1999) (Action|Sci-Fi|Thriller)\n",
      "8) Aliens (1986) (Action|Sci-Fi|Thriller|War)\n",
      "9) Godfather, The (1972) (Action|Crime|Drama)\n",
      "10) French Connection, The (1971) (Action|Crime|Drama|Thriller)\n"
     ]
    }
   ],
   "source": [
    "test(model_als)"
   ]
  },
  {
   "cell_type": "code",
   "execution_count": 35,
   "metadata": {},
   "outputs": [
    {
     "name": "stdout",
     "output_type": "stream",
     "text": [
      "Similar to Toy Story (1995) (Animation|Children's|Comedy):\n",
      "1) Toy Story 2 (1999) (Animation|Children's|Comedy)\n",
      "2) Alley Cats, The (1968) (Drama)\n",
      "3) First Kid (1996) (Children's|Comedy)\n",
      "4) Mighty Morphin Power Rangers: The Movie (1995) (Action|Children's)\n",
      "5) Fun and Fancy Free (1947) (Animation|Children's|Musical)\n",
      "6) Land Before Time III: The Time of the Great Giving (1995) (Animation|Children's)\n",
      "7) Big Green, The (1995) (Children's|Comedy)\n",
      "8) Cats Don't Dance (1997) (Animation|Children's|Musical)\n",
      "9) Fluke (1995) (Children's|Drama)\n",
      "10) Thumbelina (1994) (Animation|Children's)\n",
      "\n",
      "Recommended movies for user 4:\n",
      "1) Ben-Hur (1959) (Action|Adventure|Drama)\n",
      "2) Godfather: Part II, The (1974) (Action|Crime|Drama)\n",
      "3) Exorcist, The (1973) (Horror)\n",
      "4) Full Metal Jacket (1987) (Action|Drama|War)\n",
      "5) Aliens (1986) (Action|Sci-Fi|Thriller|War)\n",
      "6) Godfather, The (1972) (Action|Crime|Drama)\n",
      "7) Predator (1987) (Action|Sci-Fi|Thriller)\n",
      "8) Butch Cassidy and the Sundance Kid (1969) (Action|Comedy|Western)\n",
      "9) Matrix, The (1999) (Action|Sci-Fi|Thriller)\n",
      "10) Terminator 2: Judgment Day (1991) (Action|Sci-Fi|Thriller)\n"
     ]
    }
   ],
   "source": [
    "test(model_bpr)"
   ]
  }
 ],
 "metadata": {
  "interpreter": {
   "hash": "58f4131e16bae183d805153abd4d758d37eefdecf8ebf14c2d1024a16030191c"
  },
  "kernelspec": {
   "display_name": "Python 3.8.11 64-bit ('ml': pyenv)",
   "name": "python3"
  },
  "language_info": {
   "codemirror_mode": {
    "name": "ipython",
    "version": 3
   },
   "file_extension": ".py",
   "mimetype": "text/x-python",
   "name": "python",
   "nbconvert_exporter": "python",
   "pygments_lexer": "ipython3",
   "version": "3.8.11"
  }
 },
 "nbformat": 4,
 "nbformat_minor": 2
}
