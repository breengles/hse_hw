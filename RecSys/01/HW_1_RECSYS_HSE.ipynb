{
 "cells": [
  {
   "cell_type": "markdown",
   "metadata": {},
   "source": [
    "### Матричные факторизации"
   ]
  },
  {
   "cell_type": "markdown",
   "metadata": {},
   "source": [
    "В данной работе вам предстоит познакомиться с практической стороной матричных разложений.\n",
    "Работа поделена на 4 задания:\n",
    "1. Вам необходимо реализовать SVD разложения используя SGD на explicit данных\n",
    "2. Вам необходимо реализовать матричное разложения используя ALS на implicit данных\n",
    "3. Вам необходимо реализовать матричное разложения используя BPR на implicit данных\n",
    "4. Вам необходимо реализовать матричное разложения используя WARP на implicit данных\n",
    "\n",
    "Мягкий дедлайн 13 Октября (пишутся замечания, выставляется оценка, есть возможность исправить до жесткого дедлайна)\n",
    "\n",
    "Жесткий дедлайн 20 Октября (Итоговая проверка)"
   ]
  },
  {
   "cell_type": "markdown",
   "metadata": {},
   "source": [
    "# Imports"
   ]
  },
  {
   "cell_type": "code",
   "execution_count": 1,
   "metadata": {},
   "outputs": [],
   "source": [
    "import random\n",
    "from datetime import datetime\n",
    "\n",
    "import implicit\n",
    "import numpy as np\n",
    "import pandas as pd\n",
    "import scipy.sparse as sp\n",
    "from lightfm.datasets import fetch_movielens\n"
   ]
  },
  {
   "cell_type": "markdown",
   "metadata": {},
   "source": [
    "# Data"
   ]
  },
  {
   "cell_type": "markdown",
   "metadata": {},
   "source": [
    "В данной работе мы будем работать с explicit датасетом movieLens, в котором представленны пары user_id movie_id и rating выставленный пользователем фильму\n",
    "\n",
    "Скачать датасет можно по ссылке https://grouplens.org/datasets/movielens/1m/"
   ]
  },
  {
   "cell_type": "code",
   "execution_count": 2,
   "metadata": {},
   "outputs": [],
   "source": [
    "ratings = pd.read_csv('ml-1m/ratings.dat', delimiter='::', header=None, \n",
    "        names=['user_id', 'movie_id', 'rating', 'timestamp'], \n",
    "        usecols=['user_id', 'movie_id', 'rating'], engine='python')"
   ]
  },
  {
   "cell_type": "code",
   "execution_count": 3,
   "metadata": {},
   "outputs": [],
   "source": [
    "movie_info = pd.read_csv('ml-1m/movies.dat', delimiter='::', header=None, \n",
    "        names=['movie_id', 'name', 'category'], engine='python', encoding=\"utf-8\")"
   ]
  },
  {
   "cell_type": "markdown",
   "metadata": {},
   "source": [
    "Explicit данные"
   ]
  },
  {
   "cell_type": "code",
   "execution_count": 4,
   "metadata": {},
   "outputs": [
    {
     "data": {
      "text/html": [
       "<div>\n",
       "<style scoped>\n",
       "    .dataframe tbody tr th:only-of-type {\n",
       "        vertical-align: middle;\n",
       "    }\n",
       "\n",
       "    .dataframe tbody tr th {\n",
       "        vertical-align: top;\n",
       "    }\n",
       "\n",
       "    .dataframe thead th {\n",
       "        text-align: right;\n",
       "    }\n",
       "</style>\n",
       "<table border=\"1\" class=\"dataframe\">\n",
       "  <thead>\n",
       "    <tr style=\"text-align: right;\">\n",
       "      <th></th>\n",
       "      <th>user_id</th>\n",
       "      <th>movie_id</th>\n",
       "      <th>rating</th>\n",
       "    </tr>\n",
       "  </thead>\n",
       "  <tbody>\n",
       "    <tr>\n",
       "      <th>0</th>\n",
       "      <td>1</td>\n",
       "      <td>1193</td>\n",
       "      <td>5</td>\n",
       "    </tr>\n",
       "    <tr>\n",
       "      <th>1</th>\n",
       "      <td>1</td>\n",
       "      <td>661</td>\n",
       "      <td>3</td>\n",
       "    </tr>\n",
       "    <tr>\n",
       "      <th>2</th>\n",
       "      <td>1</td>\n",
       "      <td>914</td>\n",
       "      <td>3</td>\n",
       "    </tr>\n",
       "    <tr>\n",
       "      <th>3</th>\n",
       "      <td>1</td>\n",
       "      <td>3408</td>\n",
       "      <td>4</td>\n",
       "    </tr>\n",
       "    <tr>\n",
       "      <th>4</th>\n",
       "      <td>1</td>\n",
       "      <td>2355</td>\n",
       "      <td>5</td>\n",
       "    </tr>\n",
       "    <tr>\n",
       "      <th>5</th>\n",
       "      <td>1</td>\n",
       "      <td>1197</td>\n",
       "      <td>3</td>\n",
       "    </tr>\n",
       "    <tr>\n",
       "      <th>6</th>\n",
       "      <td>1</td>\n",
       "      <td>1287</td>\n",
       "      <td>5</td>\n",
       "    </tr>\n",
       "    <tr>\n",
       "      <th>7</th>\n",
       "      <td>1</td>\n",
       "      <td>2804</td>\n",
       "      <td>5</td>\n",
       "    </tr>\n",
       "    <tr>\n",
       "      <th>8</th>\n",
       "      <td>1</td>\n",
       "      <td>594</td>\n",
       "      <td>4</td>\n",
       "    </tr>\n",
       "    <tr>\n",
       "      <th>9</th>\n",
       "      <td>1</td>\n",
       "      <td>919</td>\n",
       "      <td>4</td>\n",
       "    </tr>\n",
       "  </tbody>\n",
       "</table>\n",
       "</div>"
      ],
      "text/plain": [
       "   user_id  movie_id  rating\n",
       "0        1      1193       5\n",
       "1        1       661       3\n",
       "2        1       914       3\n",
       "3        1      3408       4\n",
       "4        1      2355       5\n",
       "5        1      1197       3\n",
       "6        1      1287       5\n",
       "7        1      2804       5\n",
       "8        1       594       4\n",
       "9        1       919       4"
      ]
     },
     "execution_count": 4,
     "metadata": {},
     "output_type": "execute_result"
    }
   ],
   "source": [
    "ratings.head(10)"
   ]
  },
  {
   "cell_type": "markdown",
   "metadata": {},
   "source": [
    "Для того, чтобы преобразовать текущий датасет в Implicit, давайте считать что позитивная оценка это оценка >=4"
   ]
  },
  {
   "cell_type": "code",
   "execution_count": 5,
   "metadata": {},
   "outputs": [],
   "source": [
    "implicit_ratings = ratings.loc[(ratings['rating'] >= 4)]"
   ]
  },
  {
   "cell_type": "code",
   "execution_count": 6,
   "metadata": {},
   "outputs": [
    {
     "data": {
      "text/html": [
       "<div>\n",
       "<style scoped>\n",
       "    .dataframe tbody tr th:only-of-type {\n",
       "        vertical-align: middle;\n",
       "    }\n",
       "\n",
       "    .dataframe tbody tr th {\n",
       "        vertical-align: top;\n",
       "    }\n",
       "\n",
       "    .dataframe thead th {\n",
       "        text-align: right;\n",
       "    }\n",
       "</style>\n",
       "<table border=\"1\" class=\"dataframe\">\n",
       "  <thead>\n",
       "    <tr style=\"text-align: right;\">\n",
       "      <th></th>\n",
       "      <th>user_id</th>\n",
       "      <th>movie_id</th>\n",
       "      <th>rating</th>\n",
       "    </tr>\n",
       "  </thead>\n",
       "  <tbody>\n",
       "    <tr>\n",
       "      <th>0</th>\n",
       "      <td>1</td>\n",
       "      <td>1193</td>\n",
       "      <td>5</td>\n",
       "    </tr>\n",
       "    <tr>\n",
       "      <th>3</th>\n",
       "      <td>1</td>\n",
       "      <td>3408</td>\n",
       "      <td>4</td>\n",
       "    </tr>\n",
       "    <tr>\n",
       "      <th>4</th>\n",
       "      <td>1</td>\n",
       "      <td>2355</td>\n",
       "      <td>5</td>\n",
       "    </tr>\n",
       "    <tr>\n",
       "      <th>6</th>\n",
       "      <td>1</td>\n",
       "      <td>1287</td>\n",
       "      <td>5</td>\n",
       "    </tr>\n",
       "    <tr>\n",
       "      <th>7</th>\n",
       "      <td>1</td>\n",
       "      <td>2804</td>\n",
       "      <td>5</td>\n",
       "    </tr>\n",
       "    <tr>\n",
       "      <th>8</th>\n",
       "      <td>1</td>\n",
       "      <td>594</td>\n",
       "      <td>4</td>\n",
       "    </tr>\n",
       "    <tr>\n",
       "      <th>9</th>\n",
       "      <td>1</td>\n",
       "      <td>919</td>\n",
       "      <td>4</td>\n",
       "    </tr>\n",
       "    <tr>\n",
       "      <th>10</th>\n",
       "      <td>1</td>\n",
       "      <td>595</td>\n",
       "      <td>5</td>\n",
       "    </tr>\n",
       "    <tr>\n",
       "      <th>11</th>\n",
       "      <td>1</td>\n",
       "      <td>938</td>\n",
       "      <td>4</td>\n",
       "    </tr>\n",
       "    <tr>\n",
       "      <th>12</th>\n",
       "      <td>1</td>\n",
       "      <td>2398</td>\n",
       "      <td>4</td>\n",
       "    </tr>\n",
       "  </tbody>\n",
       "</table>\n",
       "</div>"
      ],
      "text/plain": [
       "    user_id  movie_id  rating\n",
       "0         1      1193       5\n",
       "3         1      3408       4\n",
       "4         1      2355       5\n",
       "6         1      1287       5\n",
       "7         1      2804       5\n",
       "8         1       594       4\n",
       "9         1       919       4\n",
       "10        1       595       5\n",
       "11        1       938       4\n",
       "12        1      2398       4"
      ]
     },
     "execution_count": 6,
     "metadata": {},
     "output_type": "execute_result"
    }
   ],
   "source": [
    "implicit_ratings.head(10)"
   ]
  },
  {
   "cell_type": "markdown",
   "metadata": {},
   "source": [
    "Удобнее работать с sparse матричками, давайте преобразуем DataFrame в CSR матрицы"
   ]
  },
  {
   "cell_type": "code",
   "execution_count": 7,
   "metadata": {},
   "outputs": [],
   "source": [
    "users = implicit_ratings[\"user_id\"]\n",
    "movies = implicit_ratings[\"movie_id\"]\n",
    "user_item = sp.coo_matrix((np.ones_like(users), (users, movies)))\n",
    "user_item_t_csr = user_item.T.tocsr()\n",
    "user_item_csr = user_item.tocsr()"
   ]
  },
  {
   "cell_type": "markdown",
   "metadata": {},
   "source": [
    "# ALS example"
   ]
  },
  {
   "cell_type": "markdown",
   "metadata": {},
   "source": [
    "## Train"
   ]
  },
  {
   "cell_type": "markdown",
   "metadata": {},
   "source": [
    "В качестве примера воспользуемся ALS разложением из библиотеки implicit\n",
    "\n",
    "Зададим размерность латентного пространства равным 64, это же определяет размер user/item эмбедингов"
   ]
  },
  {
   "cell_type": "code",
   "execution_count": 8,
   "metadata": {},
   "outputs": [
    {
     "name": "stderr",
     "output_type": "stream",
     "text": [
      "WARNING:root:OpenBLAS detected. Its highly recommend to set the environment variable 'export OPENBLAS_NUM_THREADS=1' to disable its internal multithreading\n"
     ]
    }
   ],
   "source": [
    "model = implicit.als.AlternatingLeastSquares(factors=64, iterations=100, calculate_training_loss=True)"
   ]
  },
  {
   "cell_type": "markdown",
   "metadata": {},
   "source": [
    "В качестве loss здесь всеми любимый RMSE"
   ]
  },
  {
   "cell_type": "code",
   "execution_count": 9,
   "metadata": {},
   "outputs": [
    {
     "name": "stderr",
     "output_type": "stream",
     "text": [
      "100%|██████████| 100/100 [00:37<00:00,  2.68it/s, loss=0.0135]\n"
     ]
    }
   ],
   "source": [
    "model.fit(user_item_t_csr)"
   ]
  },
  {
   "cell_type": "markdown",
   "metadata": {},
   "source": [
    "## Testing"
   ]
  },
  {
   "cell_type": "markdown",
   "metadata": {},
   "source": [
    "Построим похожие фильмы по 1 movie_id = Истории игрушек"
   ]
  },
  {
   "cell_type": "code",
   "execution_count": 10,
   "metadata": {},
   "outputs": [
    {
     "data": {
      "text/html": [
       "<div>\n",
       "<style scoped>\n",
       "    .dataframe tbody tr th:only-of-type {\n",
       "        vertical-align: middle;\n",
       "    }\n",
       "\n",
       "    .dataframe tbody tr th {\n",
       "        vertical-align: top;\n",
       "    }\n",
       "\n",
       "    .dataframe thead th {\n",
       "        text-align: right;\n",
       "    }\n",
       "</style>\n",
       "<table border=\"1\" class=\"dataframe\">\n",
       "  <thead>\n",
       "    <tr style=\"text-align: right;\">\n",
       "      <th></th>\n",
       "      <th>movie_id</th>\n",
       "      <th>name</th>\n",
       "      <th>category</th>\n",
       "    </tr>\n",
       "  </thead>\n",
       "  <tbody>\n",
       "    <tr>\n",
       "      <th>0</th>\n",
       "      <td>1</td>\n",
       "      <td>Toy Story (1995)</td>\n",
       "      <td>Animation|Children's|Comedy</td>\n",
       "    </tr>\n",
       "    <tr>\n",
       "      <th>1</th>\n",
       "      <td>2</td>\n",
       "      <td>Jumanji (1995)</td>\n",
       "      <td>Adventure|Children's|Fantasy</td>\n",
       "    </tr>\n",
       "    <tr>\n",
       "      <th>2</th>\n",
       "      <td>3</td>\n",
       "      <td>Grumpier Old Men (1995)</td>\n",
       "      <td>Comedy|Romance</td>\n",
       "    </tr>\n",
       "    <tr>\n",
       "      <th>3</th>\n",
       "      <td>4</td>\n",
       "      <td>Waiting to Exhale (1995)</td>\n",
       "      <td>Comedy|Drama</td>\n",
       "    </tr>\n",
       "    <tr>\n",
       "      <th>4</th>\n",
       "      <td>5</td>\n",
       "      <td>Father of the Bride Part II (1995)</td>\n",
       "      <td>Comedy</td>\n",
       "    </tr>\n",
       "  </tbody>\n",
       "</table>\n",
       "</div>"
      ],
      "text/plain": [
       "   movie_id                                name                      category\n",
       "0         1                    Toy Story (1995)   Animation|Children's|Comedy\n",
       "1         2                      Jumanji (1995)  Adventure|Children's|Fantasy\n",
       "2         3             Grumpier Old Men (1995)                Comedy|Romance\n",
       "3         4            Waiting to Exhale (1995)                  Comedy|Drama\n",
       "4         5  Father of the Bride Part II (1995)                        Comedy"
      ]
     },
     "execution_count": 10,
     "metadata": {},
     "output_type": "execute_result"
    }
   ],
   "source": [
    "movie_info.head(5)"
   ]
  },
  {
   "cell_type": "code",
   "execution_count": 11,
   "metadata": {},
   "outputs": [],
   "source": [
    "get_similars = lambda item_id, model : [movie_info[movie_info[\"movie_id\"] == x[0]][\"name\"].to_string() for x in model.similar_items(item_id)]"
   ]
  },
  {
   "cell_type": "code",
   "execution_count": 12,
   "metadata": {},
   "outputs": [
    {
     "data": {
      "text/plain": [
       "[(1, 1.0),\n",
       " (3114, 0.80071753),\n",
       " (2355, 0.60568184),\n",
       " (34, 0.45705056),\n",
       " (588, 0.45490992),\n",
       " (364, 0.42241606),\n",
       " (2384, 0.4127818),\n",
       " (1907, 0.39547315),\n",
       " (1566, 0.38737085),\n",
       " (2687, 0.3817017)]"
      ]
     },
     "execution_count": 12,
     "metadata": {},
     "output_type": "execute_result"
    }
   ],
   "source": [
    "model.similar_items(1)"
   ]
  },
  {
   "cell_type": "markdown",
   "metadata": {},
   "source": [
    "Как мы видим, симилары действительно оказались симиларами.\n",
    "\n",
    "Качество симиларов часто является хорошим способом проверить качество алгоритмов.\n",
    "\n",
    "P.S. Если хочется поглубже разобраться в том как разные алгоритмы формируют разные латентные пространства, рекомендую загружать полученные вектора в tensorBoard и смотреть на сформированное пространство"
   ]
  },
  {
   "cell_type": "code",
   "execution_count": 13,
   "metadata": {},
   "outputs": [
    {
     "data": {
      "text/plain": [
       "['0    Toy Story (1995)',\n",
       " '3046    Toy Story 2 (1999)',\n",
       " \"2287    Bug's Life, A (1998)\",\n",
       " '33    Babe (1995)',\n",
       " '584    Aladdin (1992)',\n",
       " '360    Lion King, The (1994)',\n",
       " '2316    Babe: Pig in the City (1998)',\n",
       " '1839    Mulan (1998)',\n",
       " '1526    Hercules (1997)',\n",
       " '2619    Tarzan (1999)']"
      ]
     },
     "execution_count": 13,
     "metadata": {},
     "output_type": "execute_result"
    }
   ],
   "source": [
    "get_similars(1, model)"
   ]
  },
  {
   "cell_type": "markdown",
   "metadata": {},
   "source": [
    "Давайте теперь построим рекомендации для юзеров\n",
    "\n",
    "Как мы видим юзеру нравится фантастика, значит и в рекомендациях ожидаем увидеть фантастику"
   ]
  },
  {
   "cell_type": "code",
   "execution_count": 14,
   "metadata": {},
   "outputs": [],
   "source": [
    "get_user_history = lambda user_id, implicit_ratings : [movie_info[movie_info[\"movie_id\"] == x][\"name\"].to_string() for x in implicit_ratings[implicit_ratings[\"user_id\"] == user_id][\"movie_id\"]]"
   ]
  },
  {
   "cell_type": "code",
   "execution_count": 15,
   "metadata": {},
   "outputs": [
    {
     "data": {
      "text/plain": [
       "['3400    Hustler, The (1961)',\n",
       " '2883    Fistful of Dollars, A (1964)',\n",
       " '1196    Alien (1979)',\n",
       " '1023    Die Hard (1988)',\n",
       " '257    Star Wars: Episode IV - A New Hope (1977)',\n",
       " '1960    Saving Private Ryan (1998)',\n",
       " '476    Jurassic Park (1993)',\n",
       " '1180    Raiders of the Lost Ark (1981)',\n",
       " '1886    Rocky (1976)',\n",
       " '1081    E.T. the Extra-Terrestrial (1982)',\n",
       " '3350    Thelma & Louise (1991)',\n",
       " '3634    Mad Max (1979)',\n",
       " '2298    King Kong (1933)',\n",
       " '1366    Jaws (1975)',\n",
       " '1183    Good, The Bad and The Ugly, The (1966)',\n",
       " '2624    Run Lola Run (Lola rennt) (1998)',\n",
       " '2879    Goldfinger (1964)',\n",
       " '1220    Terminator, The (1984)']"
      ]
     },
     "execution_count": 15,
     "metadata": {},
     "output_type": "execute_result"
    }
   ],
   "source": [
    "get_user_history(4, implicit_ratings)"
   ]
  },
  {
   "cell_type": "markdown",
   "metadata": {},
   "source": [
    "Получилось! \n",
    "\n",
    "Мы действительно порекомендовали пользователю фантастику и боевики, более того встречаются продолжения тех фильмов, которые он высоко оценил"
   ]
  },
  {
   "cell_type": "code",
   "execution_count": 16,
   "metadata": {},
   "outputs": [],
   "source": [
    "get_recommendations = lambda user_id, model : [movie_info[movie_info[\"movie_id\"] == x[0]][\"name\"].to_string() \n",
    "                                               for x in model.recommend(user_id, user_item_csr)]"
   ]
  },
  {
   "cell_type": "code",
   "execution_count": 17,
   "metadata": {},
   "outputs": [
    {
     "data": {
      "text/plain": [
       "['585    Terminator 2: Judgment Day (1991)',\n",
       " '1271    Indiana Jones and the Last Crusade (1989)',\n",
       " '2503    Matrix, The (1999)',\n",
       " '1284    Butch Cassidy and the Sundance Kid (1969)',\n",
       " '1182    Aliens (1986)',\n",
       " '1178    Star Wars: Episode V - The Empire Strikes Back...',\n",
       " '3403    Close Encounters of the Third Kind (1977)',\n",
       " '1885    French Connection, The (1971)',\n",
       " '847    Godfather, The (1972)',\n",
       " '2461    Planet of the Apes (1968)']"
      ]
     },
     "execution_count": 17,
     "metadata": {},
     "output_type": "execute_result"
    }
   ],
   "source": [
    "get_recommendations(4, model)"
   ]
  },
  {
   "cell_type": "markdown",
   "metadata": {},
   "source": [
    "# My work"
   ]
  },
  {
   "cell_type": "markdown",
   "metadata": {},
   "source": [
    "Теперь ваша очередь реализовать самые популярные алгоритмы матричных разложений\n",
    "\n",
    "Что будет оцениваться:\n",
    "1. Корректность алгоритма\n",
    "2. Качество получившихся симиларов\n",
    "3. Качество итоговых рекомендаций для юзера"
   ]
  },
  {
   "cell_type": "code",
   "execution_count": 18,
   "metadata": {},
   "outputs": [],
   "source": [
    "from factorization import SVD, SVDS, ALS, BPR, WARP"
   ]
  },
  {
   "cell_type": "markdown",
   "metadata": {},
   "source": [
    "## Testing utils"
   ]
  },
  {
   "cell_type": "code",
   "execution_count": 19,
   "metadata": {},
   "outputs": [],
   "source": [
    "get_similars = lambda item_id, model : movie_info[movie_info[\"movie_id\"].isin(model.similar_items(item_id))][[\"name\", \"category\"]]\n",
    "\n",
    "get_recommendations = lambda user_id, model : movie_info[movie_info[\"movie_id\"].isin(model.recommend(user_id))][[\"name\", \"category\"]]\n",
    "\n",
    "get_user_history = lambda user_id, implicit_ratings : movie_info[movie_info[\"movie_id\"].isin(implicit_ratings[implicit_ratings[\"user_id\"] == user_id][\"movie_id\"])][[\"name\", \"category\"]]\n",
    "\n",
    "\n",
    "def test(model):\n",
    "    item_id = 1\n",
    "    target = movie_info[movie_info.movie_id == item_id]\n",
    "    print(f\"Similar to {target.name.item()} ({target.category.item()}):\")\n",
    "    sims = model.similar_items(item_id)\n",
    "    \n",
    "    for idx, i in enumerate(sims):\n",
    "        selected = movie_info[movie_info.movie_id == i]\n",
    "        print(f\"{idx + 1}) {selected.name.item()} ({selected.category.item()})\")\n",
    "    \n",
    "    print()\n",
    "    \n",
    "    user_id = 4\n",
    "    print(f\"Recommended movies for user {user_id}:\")\n",
    "    recs = model.recommend(user_id)\n",
    "    \n",
    "    for idx, i in enumerate(recs):\n",
    "        selected = movie_info[movie_info.movie_id == i]\n",
    "        if len(selected) != 0:\n",
    "            print(f\"{idx + 1}) {selected.name.item()} ({selected.category.item()})\")\n",
    "        else:\n",
    "            print(f\"{idx + 1}) << Not found >>\")"
   ]
  },
  {
   "cell_type": "markdown",
   "metadata": {},
   "source": [
    "## Задание 1. Не использую готовые решения, реализовать SVD разложение используя SGD на explicit данных"
   ]
  },
  {
   "cell_type": "code",
   "execution_count": 20,
   "metadata": {},
   "outputs": [],
   "source": [
    "user_item_exp = sp.coo_matrix((ratings[\"rating\"], (ratings[\"user_id\"], ratings[\"movie_id\"])))"
   ]
  },
  {
   "cell_type": "code",
   "execution_count": 21,
   "metadata": {},
   "outputs": [
    {
     "name": "stdout",
     "output_type": "stream",
     "text": [
      "Iter:  500 | RMSE: 7.56285E-01\n",
      "Iter:  1000 | RMSE: 6.45276E-01\n",
      "Iter:  1500 | RMSE: 5.90717E-01\n",
      "Iter:  2000 | RMSE: 5.59849E-01\n",
      "Iter:  2500 | RMSE: 5.40168E-01\n",
      "Iter:  3000 | RMSE: 5.26533E-01\n",
      "Iter:  3500 | RMSE: 5.16491E-01\n",
      "Iter:  4000 | RMSE: 5.08743E-01\n",
      "Iter:  4500 | RMSE: 5.02548E-01\n",
      "Iter:  5000 | RMSE: 4.97457E-01\n"
     ]
    },
    {
     "data": {
      "image/png": "[encoded data removed]",
      "text/plain": [
       "<Figure size 864x576 with 1 Axes>"
      ]
     },
     "metadata": {
      "needs_background": "light"
     },
     "output_type": "display_data"
    },
    {
     "name": "stdout",
     "output_type": "stream",
     "text": [
      "CPU times: user 59min 13s, sys: 1h 16min 15s, total: 2h 15min 28s\n",
      "Wall time: 21min 26s\n"
     ]
    }
   ],
   "source": [
    "%%time\n",
    "model_svd = SVD(64, iterations=5000, lr=1e-4, verbose=True, weight_decay=1e-2)\n",
    "model_svd.fit(user_item_exp)  \n",
    "\n",
    "timestamp = datetime.now()\n",
    "model_svd.logger.save(f\"log.{timestamp.date()}_{timestamp.time()}.csv\")\n",
    "model_svd.logger.plot(\"iter\", \"rmse\", label=\"RMSE\", x_label=\"Iteration\", y_label=\"RMSE\")"
   ]
  },
  {
   "cell_type": "code",
   "execution_count": 22,
   "metadata": {},
   "outputs": [
    {
     "name": "stdout",
     "output_type": "stream",
     "text": [
      "Iter:   10 | RMSE: 6.63762E-01\n",
      "Iter:   20 | RMSE: 5.80519E-01\n",
      "Iter:   30 | RMSE: 5.48370E-01\n",
      "Iter:   40 | RMSE: 5.31707E-01\n",
      "Iter:   50 | RMSE: 5.20604E-01\n",
      "Iter:   60 | RMSE: 5.14235E-01\n",
      "Iter:   70 | RMSE: 5.08285E-01\n",
      "Iter:   80 | RMSE: 5.05070E-01\n",
      "Iter:   90 | RMSE: 5.00758E-01\n",
      "Iter:  100 | RMSE: 4.98530E-01\n"
     ]
    },
    {
     "data": {
      "image/png": "[encoded data removed]",
      "text/plain": [
       "<Figure size 864x576 with 1 Axes>"
      ]
     },
     "metadata": {
      "needs_background": "light"
     },
     "output_type": "display_data"
    },
    {
     "name": "stdout",
     "output_type": "stream",
     "text": [
      "CPU times: user 18min 17s, sys: 10.8 s, total: 18min 28s\n",
      "Wall time: 18min 20s\n"
     ]
    }
   ],
   "source": [
    "%%time\n",
    "model_svds = SVDS(64, iterations=100, lr=1e-2, verbose=True, weight_decay=1e-2, save_every=10)\n",
    "\n",
    "model_svds.fit(user_item_exp)\n",
    "\n",
    "timestamp = datetime.now()\n",
    "model_svds.logger.save(f\"log.{timestamp.date()}_{timestamp.time()}.csv\")\n",
    "model_svds.logger.plot(\"iter\", \"rmse\", label=\"RMSE\", x_label=\"Iteration\", y_label=\"RMSE\")"
   ]
  },
  {
   "cell_type": "markdown",
   "metadata": {},
   "source": [
    "## Задание 2. Не использую готовые решения, реализовать матричное разложение используя ALS на implicit данных"
   ]
  },
  {
   "cell_type": "code",
   "execution_count": 23,
   "metadata": {},
   "outputs": [
    {
     "name": "stdout",
     "output_type": "stream",
     "text": [
      "Iter:   10 | RMSE: 6.38586E-01\n",
      "Iter:   20 | RMSE: 6.38249E-01\n",
      "Iter:   30 | RMSE: 6.38173E-01\n",
      "Iter:   40 | RMSE: 6.38138E-01\n",
      "Iter:   50 | RMSE: 6.38126E-01\n",
      "Iter:   60 | RMSE: 6.38122E-01\n",
      "Iter:   70 | RMSE: 6.38119E-01\n",
      "Iter:   80 | RMSE: 6.38116E-01\n",
      "Iter:   90 | RMSE: 6.38114E-01\n",
      "Iter:  100 | RMSE: 6.38111E-01\n"
     ]
    },
    {
     "data": {
      "image/png": "[encoded data removed]",
      "text/plain": [
       "<Figure size 864x576 with 1 Axes>"
      ]
     },
     "metadata": {
      "needs_background": "light"
     },
     "output_type": "display_data"
    },
    {
     "name": "stdout",
     "output_type": "stream",
     "text": [
      "CPU times: user 1h 7min 45s, sys: 1h 24min 55s, total: 2h 32min 41s\n",
      "Wall time: 19min 7s\n"
     ]
    }
   ],
   "source": [
    "%%time\n",
    "model_als = ALS(64, 100, 1e-5, 1e-5, True)\n",
    "\n",
    "model_als.fit(user_item_csr)\n",
    "\n",
    "timestamp = datetime.now()\n",
    "model_als.logger.save(f\"log.{timestamp.date()}_{timestamp.time()}.csv\")\n",
    "model_als.logger.plot(\"iter\", \"rmse\", label=\"RMSE\", x_label=\"Iteration\", y_label=\"RMSE\")"
   ]
  },
  {
   "cell_type": "markdown",
   "metadata": {},
   "source": [
    "# Note\n",
    "\n",
    "в последующих алгоритмах используется ROC AUC в качестве метрики: их тут 2 штуки, одна -- честный roc auc из sklearn, а вторая -- с лекции."
   ]
  },
  {
   "cell_type": "markdown",
   "metadata": {},
   "source": [
    "## Задание 3. Не использую готовые решения, реализовать матричное разложение BPR на implicit данных"
   ]
  },
  {
   "cell_type": "code",
   "execution_count": 24,
   "metadata": {},
   "outputs": [
    {
     "name": "stdout",
     "output_type": "stream",
     "text": [
      "Iter:   1000 | AUC: 0.76568 | AUC2: 0.67969\n",
      "Iter:   2000 | AUC: 0.93031 | AUC2: 0.82015\n",
      "Iter:   3000 | AUC: 0.94574 | AUC2: 0.86788\n",
      "Iter:   4000 | AUC: 0.95542 | AUC2: 0.90466\n",
      "Iter:   5000 | AUC: 0.96044 | AUC2: 0.90207\n",
      "Iter:   6000 | AUC: 0.96353 | AUC2: 0.91252\n",
      "Iter:   7000 | AUC: 0.96566 | AUC2: 0.92822\n",
      "Iter:   8000 | AUC: 0.96765 | AUC2: 0.90922\n",
      "Iter:   9000 | AUC: 0.96910 | AUC2: 0.91418\n",
      "Iter:  10000 | AUC: 0.97018 | AUC2: 0.93108\n"
     ]
    },
    {
     "data": {
      "image/png": "[encoded data removed]",
      "text/plain": [
       "<Figure size 864x576 with 1 Axes>"
      ]
     },
     "metadata": {
      "needs_background": "light"
     },
     "output_type": "display_data"
    },
    {
     "data": {
      "image/png": "[encoded data removed]",
      "text/plain": [
       "<Figure size 864x576 with 1 Axes>"
      ]
     },
     "metadata": {
      "needs_background": "light"
     },
     "output_type": "display_data"
    },
    {
     "name": "stdout",
     "output_type": "stream",
     "text": [
      "CPU times: user 16min 47s, sys: 8min 27s, total: 25min 14s\n",
      "Wall time: 14min 53s\n"
     ]
    }
   ],
   "source": [
    "%%time\n",
    "model_bpr = BPR(64, 10_000, 1e-2, 1e-2, True)\n",
    "\n",
    "model_bpr.fit(user_item_csr, batch_size=3000)\n",
    "\n",
    "timestamp = datetime.now()\n",
    "model_bpr.logger.save(f\"log.{timestamp.date()}_{timestamp.time()}.csv\")\n",
    "model_bpr.logger.plot(\"iter\", \"AUC\", label=\"AUC\", x_label=\"Iteration\", y_label=\"AUC\")\n",
    "model_bpr.logger.plot(\"iter\", \"AUC2\", label=\"AUC2\", x_label=\"Iteration\", y_label=\"AUC2\")"
   ]
  },
  {
   "cell_type": "markdown",
   "metadata": {},
   "source": [
    "## Задание 4. Не использую готовые решения, реализовать матричное разложение WARP на implicit данных"
   ]
  },
  {
   "cell_type": "code",
   "execution_count": 25,
   "metadata": {},
   "outputs": [
    {
     "name": "stdout",
     "output_type": "stream",
     "text": [
      "Iter:  1000000 | AUC: 0.86500 | AUC2: 0.72383\n",
      "Iter:  2000000 | AUC: 0.91529 | AUC2: 0.77236\n",
      "Iter:  3000000 | AUC: 0.92868 | AUC2: 0.81758\n",
      "Iter:  4000000 | AUC: 0.94079 | AUC2: 0.86376\n",
      "Iter:  5000000 | AUC: 0.95029 | AUC2: 0.86676\n",
      "Iter:  6000000 | AUC: 0.95696 | AUC2: 0.89569\n",
      "Iter:  7000000 | AUC: 0.96158 | AUC2: 0.90634\n",
      "Iter:  8000000 | AUC: 0.96489 | AUC2: 0.92089\n",
      "Iter:  9000000 | AUC: 0.96751 | AUC2: 0.92498\n",
      "Iter:  10000000 | AUC: 0.96959 | AUC2: 0.92649\n"
     ]
    },
    {
     "data": {
      "image/png": "[encoded data removed]",
      "text/plain": [
       "<Figure size 864x576 with 1 Axes>"
      ]
     },
     "metadata": {
      "needs_background": "light"
     },
     "output_type": "display_data"
    },
    {
     "data": {
      "image/png": "[encoded data removed]",
      "text/plain": [
       "<Figure size 864x576 with 1 Axes>"
      ]
     },
     "metadata": {
      "needs_background": "light"
     },
     "output_type": "display_data"
    },
    {
     "name": "stdout",
     "output_type": "stream",
     "text": [
      "CPU times: user 50min 55s, sys: 8min 25s, total: 59min 20s\n",
      "Wall time: 49min 1s\n"
     ]
    }
   ],
   "source": [
    "%%time\n",
    "model_warp = WARP(64, 10_000_000, 1e-4, 1e-2, True)\n",
    "\n",
    "model_warp.fit(user_item_csr)\n",
    "\n",
    "timestamp = datetime.now()\n",
    "model_warp.logger.save(f\"log.{timestamp.date()}_{timestamp.time()}.csv\")\n",
    "model_warp.logger.plot(\"iter\", \"AUC\", label=\"AUC\", x_label=\"Iteration\", y_label=\"AUC\")\n",
    "model_warp.logger.plot(\"iter\", \"AUC2\", label=\"AUC2\", x_label=\"Iteration\", y_label=\"AUC2\")"
   ]
  },
  {
   "cell_type": "markdown",
   "metadata": {},
   "source": [
    "# Model testing"
   ]
  },
  {
   "cell_type": "markdown",
   "metadata": {},
   "source": [
    "## SVD with GD"
   ]
  },
  {
   "cell_type": "code",
   "execution_count": 26,
   "metadata": {},
   "outputs": [
    {
     "name": "stdout",
     "output_type": "stream",
     "text": [
      "Similar to Toy Story (1995) (Animation|Children's|Comedy):\n",
      "1) Toy Story 2 (1999) (Animation|Children's|Comedy)\n",
      "2) Bug's Life, A (1998) (Animation|Children's|Comedy)\n",
      "3) Aladdin (1992) (Animation|Children's|Comedy|Musical)\n",
      "4) Sixth Sense, The (1999) (Thriller)\n",
      "5) Wrong Trousers, The (1993) (Animation|Comedy)\n",
      "6) Raiders of the Lost Ark (1981) (Action|Adventure)\n",
      "7) Beauty and the Beast (1991) (Animation|Children's|Musical)\n",
      "8) Schindler's List (1993) (Drama|War)\n",
      "9) Apollo 13 (1995) (Drama)\n",
      "10) Lion King, The (1994) (Animation|Children's|Musical)\n",
      "\n",
      "Recommended movies for user 4:\n",
      "1) Lady Eve, The (1941) (Comedy|Romance)\n",
      "2) Grapes of Wrath, The (1940) (Drama)\n",
      "3) Godfather: Part II, The (1974) (Action|Crime|Drama)\n",
      "4) Casablanca (1942) (Drama|Romance|War)\n",
      "5) Godfather, The (1972) (Action|Crime|Drama)\n",
      "6) Animal House (1978) (Comedy)\n",
      "7) High Noon (1952) (Western)\n",
      "8) French Connection, The (1971) (Action|Crime|Drama|Thriller)\n",
      "9) Citizen Kane (1941) (Drama)\n",
      "10) Topsy-Turvy (1999) (Drama)\n"
     ]
    }
   ],
   "source": [
    "test(model_svd)"
   ]
  },
  {
   "cell_type": "markdown",
   "metadata": {},
   "source": [
    "## SDV with (extremely) stochastic GD"
   ]
  },
  {
   "cell_type": "code",
   "execution_count": 27,
   "metadata": {},
   "outputs": [
    {
     "name": "stdout",
     "output_type": "stream",
     "text": [
      "Similar to Toy Story (1995) (Animation|Children's|Comedy):\n",
      "1) Toy Story 2 (1999) (Animation|Children's|Comedy)\n",
      "2) Bug's Life, A (1998) (Animation|Children's|Comedy)\n",
      "3) Wrong Trousers, The (1993) (Animation|Comedy)\n",
      "4) Aladdin (1992) (Animation|Children's|Comedy|Musical)\n",
      "5) Raiders of the Lost Ark (1981) (Action|Adventure)\n",
      "6) Close Shave, A (1995) (Animation|Comedy|Thriller)\n",
      "7) End of the Affair, The (1955) (Drama)\n",
      "8) Beauty and the Beast (1991) (Animation|Children's|Musical)\n",
      "9) Sixth Sense, The (1999) (Thriller)\n",
      "10) Lion King, The (1994) (Animation|Children's|Musical)\n",
      "\n",
      "Recommended movies for user 4:\n",
      "1) Lady Eve, The (1941) (Comedy|Romance)\n",
      "2) Grapes of Wrath, The (1940) (Drama)\n",
      "3) American Graffiti (1973) (Comedy|Drama)\n",
      "4) Simple Plan, A (1998) (Crime|Thriller)\n",
      "5) Animal House (1978) (Comedy)\n",
      "6) 42 Up (1998) (Documentary)\n",
      "7) Burnt By the Sun (Utomlyonnye solntsem) (1994) (Drama)\n",
      "8) All Quiet on the Western Front (1930) (War)\n",
      "9) Casablanca (1942) (Drama|Romance|War)\n",
      "10) Thin Man, The (1934) (Mystery)\n"
     ]
    }
   ],
   "source": [
    "test(model_svds)"
   ]
  },
  {
   "cell_type": "markdown",
   "metadata": {},
   "source": [
    "## ALS"
   ]
  },
  {
   "cell_type": "code",
   "execution_count": 28,
   "metadata": {},
   "outputs": [
    {
     "name": "stdout",
     "output_type": "stream",
     "text": [
      "Similar to Toy Story (1995) (Animation|Children's|Comedy):\n",
      "1) Toy Story 2 (1999) (Animation|Children's|Comedy)\n",
      "2) Bug's Life, A (1998) (Animation|Children's|Comedy)\n",
      "3) Aladdin (1992) (Animation|Children's|Comedy|Musical)\n",
      "4) Lion King, The (1994) (Animation|Children's|Musical)\n",
      "5) Babe (1995) (Children's|Comedy|Drama)\n",
      "6) Hercules (1997) (Adventure|Animation|Children's|Comedy|Musical)\n",
      "7) Iron Giant, The (1999) (Animation|Children's)\n",
      "8) Tarzan (1999) (Animation|Children's)\n",
      "9) Pleasantville (1998) (Comedy)\n",
      "10) Mulan (1998) (Animation|Children's)\n",
      "\n",
      "Recommended movies for user 4:\n",
      "1) Terminator 2: Judgment Day (1991) (Action|Sci-Fi|Thriller)\n",
      "2) Butch Cassidy and the Sundance Kid (1969) (Action|Comedy|Western)\n",
      "3) Matrix, The (1999) (Action|Sci-Fi|Thriller)\n",
      "4) Indiana Jones and the Last Crusade (1989) (Action|Adventure)\n",
      "5) Aliens (1986) (Action|Sci-Fi|Thriller|War)\n",
      "6) Star Wars: Episode V - The Empire Strikes Back (1980) (Action|Adventure|Drama|Sci-Fi|War)\n",
      "7) Fugitive, The (1993) (Action|Thriller)\n",
      "8) Rain Man (1988) (Drama)\n",
      "9) French Connection, The (1971) (Action|Crime|Drama|Thriller)\n",
      "10) Godfather, The (1972) (Action|Crime|Drama)\n"
     ]
    }
   ],
   "source": [
    "test(model_als)"
   ]
  },
  {
   "cell_type": "markdown",
   "metadata": {},
   "source": [
    "## BPR"
   ]
  },
  {
   "cell_type": "code",
   "execution_count": 29,
   "metadata": {},
   "outputs": [
    {
     "name": "stdout",
     "output_type": "stream",
     "text": [
      "Similar to Toy Story (1995) (Animation|Children's|Comedy):\n",
      "1) Thumbelina (1994) (Animation|Children's)\n",
      "2) Rugrats Movie, The (1998) (Animation|Children's|Comedy)\n",
      "3) Muppet Movie, The (1979) (Children's|Comedy)\n",
      "4) Home Alone 3 (1997) (Children's|Comedy)\n",
      "5) George of the Jungle (1997) (Children's|Comedy)\n",
      "6) Jungle2Jungle (a.k.a. Jungle 2 Jungle) (1997) (Children's|Comedy)\n",
      "7) Rescuers, The (1977) (Animation|Children's)\n",
      "8) D2: The Mighty Ducks (1994) (Children's|Comedy)\n",
      "9) Aladdin (1992) (Animation|Children's|Comedy|Musical)\n",
      "10) MatchMaker, The (1997) (Comedy|Romance)\n",
      "\n",
      "Recommended movies for user 4:\n",
      "1) French Connection, The (1971) (Action|Crime|Drama|Thriller)\n",
      "2) Godfather: Part II, The (1974) (Action|Crime|Drama)\n",
      "3) Ben-Hur (1959) (Action|Adventure|Drama)\n",
      "4) Godfather, The (1972) (Action|Crime|Drama)\n",
      "5) Aliens (1986) (Action|Sci-Fi|Thriller|War)\n",
      "6) Dirty Dozen, The (1967) (Action|War)\n",
      "7) Star Wars: Episode V - The Empire Strikes Back (1980) (Action|Adventure|Drama|Sci-Fi|War)\n",
      "8) Fugitive, The (1993) (Action|Thriller)\n",
      "9) Guns of Navarone, The (1961) (Action|Drama|War)\n",
      "10) Outlaw Josey Wales, The (1976) (Western)\n"
     ]
    }
   ],
   "source": [
    "test(model_bpr)"
   ]
  },
  {
   "cell_type": "markdown",
   "metadata": {},
   "source": [
    "## WARP"
   ]
  },
  {
   "cell_type": "code",
   "execution_count": 30,
   "metadata": {},
   "outputs": [
    {
     "name": "stdout",
     "output_type": "stream",
     "text": [
      "Similar to Toy Story (1995) (Animation|Children's|Comedy):\n",
      "1) Pleasantville (1998) (Comedy)\n",
      "2) Aladdin (1992) (Animation|Children's|Comedy|Musical)\n",
      "3) Toy Story 2 (1999) (Animation|Children's|Comedy)\n",
      "4) Groundhog Day (1993) (Comedy|Romance)\n",
      "5) Muppet Movie, The (1979) (Children's|Comedy)\n",
      "6) Babe (1995) (Children's|Comedy|Drama)\n",
      "7) Lion King, The (1994) (Animation|Children's|Musical)\n",
      "8) Clueless (1995) (Comedy|Romance)\n",
      "9) Austin Powers: International Man of Mystery (1997) (Comedy)\n",
      "10) Beauty and the Beast (1991) (Animation|Children's|Musical)\n",
      "\n",
      "Recommended movies for user 4:\n",
      "1) Godfather, The (1972) (Action|Crime|Drama)\n",
      "2) Star Wars: Episode V - The Empire Strikes Back (1980) (Action|Adventure|Drama|Sci-Fi|War)\n",
      "3) Godfather: Part II, The (1974) (Action|Crime|Drama)\n",
      "4) Terminator 2: Judgment Day (1991) (Action|Sci-Fi|Thriller)\n",
      "5) Aliens (1986) (Action|Sci-Fi|Thriller|War)\n",
      "6) Fugitive, The (1993) (Action|Thriller)\n",
      "7) Braveheart (1995) (Action|Drama|War)\n",
      "8) Psycho (1960) (Horror|Thriller)\n",
      "9) French Connection, The (1971) (Action|Crime|Drama|Thriller)\n",
      "10) Star Wars: Episode VI - Return of the Jedi (1983) (Action|Adventure|Romance|Sci-Fi|War)\n"
     ]
    }
   ],
   "source": [
    "test(model_warp)"
   ]
  },
  {
   "cell_type": "markdown",
   "metadata": {},
   "source": [
    "В целом, усе работает! Субъективно, мне ALS понравился больше, так как обучается стабильнее и видно потенциальные места для параллелизации. С другой стороны, кажется, у BPR рекомендации фильмов для пользователя получше выглядят, но у меня он почему-то обучается не очень стабильно, хотя тот же WARP уже более стабильно себя ведет... хотя, конечно, можно больше поиграться с гиперпараметрами"
   ]
  },
  {
   "cell_type": "code",
   "execution_count": null,
   "metadata": {},
   "outputs": [],
   "source": []
  }
 ],
 "metadata": {
  "interpreter": {
   "hash": "58f4131e16bae183d805153abd4d758d37eefdecf8ebf14c2d1024a16030191c"
  },
  "kernelspec": {
   "display_name": "Python 3.8.11 64-bit ('ml': pyenv)",
   "name": "python3"
  },
  "language_info": {
   "codemirror_mode": {
    "name": "ipython",
    "version": 3
   },
   "file_extension": ".py",
   "mimetype": "text/x-python",
   "name": "python",
   "nbconvert_exporter": "python",
   "pygments_lexer": "ipython3",
   "version": "3.8.11"
  }
 },
 "nbformat": 4,
 "nbformat_minor": 2
}
