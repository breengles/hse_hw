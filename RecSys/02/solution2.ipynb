{
 "cells": [
  {
   "cell_type": "code",
   "execution_count": 1,
   "metadata": {},
   "outputs": [],
   "source": [
    "import numpy as np\n",
    "import utils.read_data as read\n",
    "import utils.features as features\n",
    "from utils.handlers.constants import UNK\n",
    "\n",
    "from sklearn.model_selection import GroupKFold, train_test_split\n",
    "\n",
    "from sklearn.metrics import roc_auc_score\n",
    "import shap\n",
    "\n",
    "from tqdm.auto import tqdm\n",
    "\n",
    "from utils.models import Embeddings, CatBoost, Stack\n",
    "\n",
    "SEED = 42"
   ]
  },
  {
   "cell_type": "code",
   "execution_count": 2,
   "metadata": {},
   "outputs": [],
   "source": [
    "members = read.members(\"data/members.csv\")\n",
    "\n",
    "songs = read.songs(\"data/songs.csv\")\n",
    "song_extra_info = read.extra_info(\"data/song_extra_info.csv\")\n",
    "\n",
    "songs = songs.merge(song_extra_info, on=\"song_id\", how=\"left\")\n",
    "\n",
    "train = read.train(\"data/train.csv\")"
   ]
  },
  {
   "cell_type": "code",
   "execution_count": 3,
   "metadata": {},
   "outputs": [],
   "source": [
    "members = features.member(members)\n",
    "songs = features.song(songs)"
   ]
  },
  {
   "cell_type": "code",
   "execution_count": 4,
   "metadata": {},
   "outputs": [
    {
     "data": {
      "text/html": [
       "<div>\n",
       "<style scoped>\n",
       "    .dataframe tbody tr th:only-of-type {\n",
       "        vertical-align: middle;\n",
       "    }\n",
       "\n",
       "    .dataframe tbody tr th {\n",
       "        vertical-align: top;\n",
       "    }\n",
       "\n",
       "    .dataframe thead th {\n",
       "        text-align: right;\n",
       "    }\n",
       "</style>\n",
       "<table border=\"1\" class=\"dataframe\">\n",
       "  <thead>\n",
       "    <tr style=\"text-align: right;\">\n",
       "      <th></th>\n",
       "      <th>msno</th>\n",
       "      <th>song_id</th>\n",
       "      <th>source_system_tab</th>\n",
       "      <th>source_screen_name</th>\n",
       "      <th>source_type</th>\n",
       "      <th>target</th>\n",
       "      <th>city</th>\n",
       "      <th>bd</th>\n",
       "      <th>gender</th>\n",
       "      <th>registered_via</th>\n",
       "      <th>...</th>\n",
       "      <th>composer</th>\n",
       "      <th>lyricist</th>\n",
       "      <th>language</th>\n",
       "      <th>name</th>\n",
       "      <th>artist_count</th>\n",
       "      <th>composer_count</th>\n",
       "      <th>lyricist_count</th>\n",
       "      <th>genre_count</th>\n",
       "      <th>isrc_year</th>\n",
       "      <th>isrc_country</th>\n",
       "    </tr>\n",
       "  </thead>\n",
       "  <tbody>\n",
       "    <tr>\n",
       "      <th>0</th>\n",
       "      <td>FGtllVqz18RPiwJj/edr2gV78zirAiY/9SmYvia+kCg=</td>\n",
       "      <td>BBzumQNXUHKdEBOB7mAJuzok+IJA1c2Ryg/yzTF6tik=</td>\n",
       "      <td>explore</td>\n",
       "      <td>Explore</td>\n",
       "      <td>online-playlist</td>\n",
       "      <td>1</td>\n",
       "      <td>1</td>\n",
       "      <td>&lt;UNK&gt;</td>\n",
       "      <td>&lt;UNK&gt;</td>\n",
       "      <td>7</td>\n",
       "      <td>...</td>\n",
       "      <td>Dan Smith| Mark Crew</td>\n",
       "      <td>&lt;UNK&gt;</td>\n",
       "      <td>52.0</td>\n",
       "      <td>Good Grief</td>\n",
       "      <td>1.0</td>\n",
       "      <td>2.0</td>\n",
       "      <td>0.0</td>\n",
       "      <td>1.0</td>\n",
       "      <td>16</td>\n",
       "      <td>GB</td>\n",
       "    </tr>\n",
       "    <tr>\n",
       "      <th>1</th>\n",
       "      <td>Xumu+NIjS6QYVxDS4/t3SawvJ7viT9hPKXmf0RtLNx8=</td>\n",
       "      <td>bhp/MpSNoqoxOIB+/l8WPqu6jldth4DIpCm3ayXnJqM=</td>\n",
       "      <td>my library</td>\n",
       "      <td>Local playlist more</td>\n",
       "      <td>local-playlist</td>\n",
       "      <td>1</td>\n",
       "      <td>13</td>\n",
       "      <td>young</td>\n",
       "      <td>female</td>\n",
       "      <td>9</td>\n",
       "      <td>...</td>\n",
       "      <td>&lt;UNK&gt;</td>\n",
       "      <td>&lt;UNK&gt;</td>\n",
       "      <td>52.0</td>\n",
       "      <td>Lords of Cardboard</td>\n",
       "      <td>1.0</td>\n",
       "      <td>0.0</td>\n",
       "      <td>0.0</td>\n",
       "      <td>1.0</td>\n",
       "      <td>99</td>\n",
       "      <td>US</td>\n",
       "    </tr>\n",
       "    <tr>\n",
       "      <th>2</th>\n",
       "      <td>Xumu+NIjS6QYVxDS4/t3SawvJ7viT9hPKXmf0RtLNx8=</td>\n",
       "      <td>JNWfrrC7zNN7BdMpsISKa4Mw+xVJYNnxXh3/Epw7QgY=</td>\n",
       "      <td>my library</td>\n",
       "      <td>Local playlist more</td>\n",
       "      <td>local-playlist</td>\n",
       "      <td>1</td>\n",
       "      <td>13</td>\n",
       "      <td>young</td>\n",
       "      <td>female</td>\n",
       "      <td>9</td>\n",
       "      <td>...</td>\n",
       "      <td>N. Jones、W. Adams、J. Lordan、D. Ingle</td>\n",
       "      <td>&lt;UNK&gt;</td>\n",
       "      <td>52.0</td>\n",
       "      <td>Hip Hop Is Dead(Album Version (Edited))</td>\n",
       "      <td>1.0</td>\n",
       "      <td>1.0</td>\n",
       "      <td>0.0</td>\n",
       "      <td>1.0</td>\n",
       "      <td>6</td>\n",
       "      <td>US</td>\n",
       "    </tr>\n",
       "    <tr>\n",
       "      <th>3</th>\n",
       "      <td>Xumu+NIjS6QYVxDS4/t3SawvJ7viT9hPKXmf0RtLNx8=</td>\n",
       "      <td>2A87tzfnJTSWqD7gIZHisolhe4DMdzkbd6LzO1KHjNs=</td>\n",
       "      <td>my library</td>\n",
       "      <td>Local playlist more</td>\n",
       "      <td>local-playlist</td>\n",
       "      <td>1</td>\n",
       "      <td>13</td>\n",
       "      <td>young</td>\n",
       "      <td>female</td>\n",
       "      <td>9</td>\n",
       "      <td>...</td>\n",
       "      <td>Kwadwo Donkoh</td>\n",
       "      <td>&lt;UNK&gt;</td>\n",
       "      <td>-1.0</td>\n",
       "      <td>Disco Africa</td>\n",
       "      <td>1.0</td>\n",
       "      <td>1.0</td>\n",
       "      <td>0.0</td>\n",
       "      <td>1.0</td>\n",
       "      <td>10</td>\n",
       "      <td>GB</td>\n",
       "    </tr>\n",
       "    <tr>\n",
       "      <th>4</th>\n",
       "      <td>FGtllVqz18RPiwJj/edr2gV78zirAiY/9SmYvia+kCg=</td>\n",
       "      <td>3qm6XTZ6MOCU11x8FIVbAGH5l5uMkT3/ZalWG1oo2Gc=</td>\n",
       "      <td>explore</td>\n",
       "      <td>Explore</td>\n",
       "      <td>online-playlist</td>\n",
       "      <td>1</td>\n",
       "      <td>1</td>\n",
       "      <td>&lt;UNK&gt;</td>\n",
       "      <td>&lt;UNK&gt;</td>\n",
       "      <td>7</td>\n",
       "      <td>...</td>\n",
       "      <td>Brett Young| Kelly Archer| Justin Ebach</td>\n",
       "      <td>&lt;UNK&gt;</td>\n",
       "      <td>52.0</td>\n",
       "      <td>Sleep Without You</td>\n",
       "      <td>1.0</td>\n",
       "      <td>3.0</td>\n",
       "      <td>0.0</td>\n",
       "      <td>1.0</td>\n",
       "      <td>16</td>\n",
       "      <td>QM</td>\n",
       "    </tr>\n",
       "  </tbody>\n",
       "</table>\n",
       "<p>5 rows × 29 columns</p>\n",
       "</div>"
      ],
      "text/plain": [
       "                                           msno  \\\n",
       "0  FGtllVqz18RPiwJj/edr2gV78zirAiY/9SmYvia+kCg=   \n",
       "1  Xumu+NIjS6QYVxDS4/t3SawvJ7viT9hPKXmf0RtLNx8=   \n",
       "2  Xumu+NIjS6QYVxDS4/t3SawvJ7viT9hPKXmf0RtLNx8=   \n",
       "3  Xumu+NIjS6QYVxDS4/t3SawvJ7viT9hPKXmf0RtLNx8=   \n",
       "4  FGtllVqz18RPiwJj/edr2gV78zirAiY/9SmYvia+kCg=   \n",
       "\n",
       "                                        song_id source_system_tab  \\\n",
       "0  BBzumQNXUHKdEBOB7mAJuzok+IJA1c2Ryg/yzTF6tik=           explore   \n",
       "1  bhp/MpSNoqoxOIB+/l8WPqu6jldth4DIpCm3ayXnJqM=        my library   \n",
       "2  JNWfrrC7zNN7BdMpsISKa4Mw+xVJYNnxXh3/Epw7QgY=        my library   \n",
       "3  2A87tzfnJTSWqD7gIZHisolhe4DMdzkbd6LzO1KHjNs=        my library   \n",
       "4  3qm6XTZ6MOCU11x8FIVbAGH5l5uMkT3/ZalWG1oo2Gc=           explore   \n",
       "\n",
       "    source_screen_name      source_type  target city     bd  gender  \\\n",
       "0              Explore  online-playlist       1    1  <UNK>   <UNK>   \n",
       "1  Local playlist more   local-playlist       1   13  young  female   \n",
       "2  Local playlist more   local-playlist       1   13  young  female   \n",
       "3  Local playlist more   local-playlist       1   13  young  female   \n",
       "4              Explore  online-playlist       1    1  <UNK>   <UNK>   \n",
       "\n",
       "  registered_via  ...                                 composer lyricist  \\\n",
       "0              7  ...                     Dan Smith| Mark Crew    <UNK>   \n",
       "1              9  ...                                    <UNK>    <UNK>   \n",
       "2              9  ...     N. Jones、W. Adams、J. Lordan、D. Ingle    <UNK>   \n",
       "3              9  ...                            Kwadwo Donkoh    <UNK>   \n",
       "4              7  ...  Brett Young| Kelly Archer| Justin Ebach    <UNK>   \n",
       "\n",
       "  language                                     name artist_count  \\\n",
       "0     52.0                               Good Grief          1.0   \n",
       "1     52.0                       Lords of Cardboard          1.0   \n",
       "2     52.0  Hip Hop Is Dead(Album Version (Edited))          1.0   \n",
       "3     -1.0                             Disco Africa          1.0   \n",
       "4     52.0                        Sleep Without You          1.0   \n",
       "\n",
       "  composer_count  lyricist_count genre_count isrc_year isrc_country  \n",
       "0            2.0             0.0         1.0        16           GB  \n",
       "1            0.0             0.0         1.0        99           US  \n",
       "2            1.0             0.0         1.0         6           US  \n",
       "3            1.0             0.0         1.0        10           GB  \n",
       "4            3.0             0.0         1.0        16           QM  \n",
       "\n",
       "[5 rows x 29 columns]"
      ]
     },
     "execution_count": 4,
     "metadata": {},
     "output_type": "execute_result"
    }
   ],
   "source": [
    "data = train.merge(members, on=\"msno\", how=\"left\").merge(songs, on=\"song_id\", how=\"left\").astype({\"msno\": \"category\", \"song_id\": \"category\"})\n",
    "\n",
    "data.source_screen_name = data.source_screen_name.cat.add_categories(UNK).fillna(UNK)\n",
    "data.source_system_tab = data.source_system_tab.cat.add_categories(UNK).fillna(UNK)\n",
    "data.source_type = data.source_type.cat.add_categories(UNK).fillna(UNK)\n",
    "\n",
    "data.head()"
   ]
  },
  {
   "cell_type": "code",
   "execution_count": 5,
   "metadata": {},
   "outputs": [
    {
     "name": "stdout",
     "output_type": "stream",
     "text": [
      "<class 'pandas.core.frame.DataFrame'>\n",
      "Int64Index: 7377418 entries, 0 to 7377417\n",
      "Data columns (total 29 columns):\n",
      " #   Column                   Dtype   \n",
      "---  ------                   -----   \n",
      " 0   msno                     category\n",
      " 1   song_id                  category\n",
      " 2   source_system_tab        category\n",
      " 3   source_screen_name       category\n",
      " 4   source_type              category\n",
      " 5   target                   int32   \n",
      " 6   city                     category\n",
      " 7   bd                       category\n",
      " 8   gender                   category\n",
      " 9   registered_via           category\n",
      " 10  registration_init_year   category\n",
      " 11  registration_init_month  category\n",
      " 12  registration_init_day    category\n",
      " 13  expiration_year          category\n",
      " 14  expiration_month         category\n",
      " 15  expiration_day           category\n",
      " 16  song_length              float64 \n",
      " 17  genre_ids                category\n",
      " 18  artist_name              category\n",
      " 19  composer                 category\n",
      " 20  lyricist                 category\n",
      " 21  language                 category\n",
      " 22  name                     category\n",
      " 23  artist_count             float64 \n",
      " 24  composer_count           float64 \n",
      " 25  lyricist_count           float64 \n",
      " 26  genre_count              float64 \n",
      " 27  isrc_year                category\n",
      " 28  isrc_country             category\n",
      "dtypes: category(23), float64(5), int32(1)\n",
      "memory usage: 732.8 MB\n"
     ]
    }
   ],
   "source": [
    "data.info()"
   ]
  },
  {
   "cell_type": "code",
   "execution_count": 6,
   "metadata": {},
   "outputs": [],
   "source": [
    "na_mask = data.isna().any(1)\n",
    "data = data[~na_mask]"
   ]
  },
  {
   "cell_type": "code",
   "execution_count": 7,
   "metadata": {},
   "outputs": [],
   "source": [
    "data.sort_values(\"msno\", kind=\"stable\", inplace=True)\n",
    "data = data.iloc[:10000]"
   ]
  },
  {
   "cell_type": "code",
   "execution_count": 8,
   "metadata": {},
   "outputs": [],
   "source": [
    "def DCG(s, r):\n",
    "    idx = np.argsort(-s)\n",
    "    return np.sum(r[idx] / np.log2(1 + np.arange(1, len(s) + 1)))\n",
    "\n",
    "def IDCG(s, r):\n",
    "    return np.sum(-np.sort(-r) / np.log2(1 + np.arange(1, len(s) + 1)))\n",
    "\n",
    "def NDCG(q, s, r):\n",
    "    q_labs = np.unique(q)\n",
    "    \n",
    "    ndcgs = []\n",
    "    for q_lab in q_labs:\n",
    "        msk = q_lab == q\n",
    "        \n",
    "        q_dcg = DCG(s[msk], r[msk])\n",
    "        q_idcg = IDCG(s[msk], r[msk])\n",
    "        \n",
    "        if q_idcg > 0:\n",
    "            ndcgs.append(q_dcg / q_idcg)\n",
    "            \n",
    "    return np.mean(ndcgs)\n",
    "\n",
    "def AUC(q, s, r):\n",
    "    q_labs = np.unique(q)\n",
    "    \n",
    "    aucs = []\n",
    "    for q_lab in q_labs:\n",
    "        msk = q_lab == q\n",
    "        try:\n",
    "            auc = roc_auc_score(r[msk], s[msk])\n",
    "            aucs.append(auc)\n",
    "        except ValueError:\n",
    "            pass\n",
    "        \n",
    "    return np.mean(aucs)"
   ]
  },
  {
   "cell_type": "code",
   "execution_count": 9,
   "metadata": {},
   "outputs": [],
   "source": [
    "idxs_train, idxs_test = train_test_split(np.random.permutation(len(data)), test_size=1000)\n",
    "idxs_train = sorted(idxs_train)\n",
    "idxs_test = sorted(idxs_test)\n",
    "\n",
    "data_train = data.iloc[idxs_train]\n",
    "data_test = data.iloc[idxs_test]\n",
    "\n",
    "# extremely long\n",
    "# columns_to_filter = [\"msno\", \"song_id\"]\n",
    "# msk = np.isin(data_train[columns_to_filter], data_test[columns_to_filter])\n",
    "# data_test = data_test[~np.all(msk, axis=1)]"
   ]
  },
  {
   "cell_type": "code",
   "execution_count": 10,
   "metadata": {},
   "outputs": [
    {
     "name": "stdout",
     "output_type": "stream",
     "text": [
      "Fitting items...\n",
      "Fitting users...\n"
     ]
    },
    {
     "name": "stderr",
     "output_type": "stream",
     "text": [
      "100%|██████████| 30755/30755 [00:00<00:00, 50296.30it/s]"
     ]
    },
    {
     "name": "stdout",
     "output_type": "stream",
     "text": [
      "NDCG = 0.7892501730076193 | ROC AUC = 0.5111555973172256\n"
     ]
    },
    {
     "name": "stderr",
     "output_type": "stream",
     "text": [
      "\n"
     ]
    }
   ],
   "source": [
    "model = Embeddings(100)\n",
    "\n",
    "model.fit(data_train)\n",
    "\n",
    "s = model.predict(data_test)\n",
    "q = data_test.msno.cat.codes.to_numpy()\n",
    "r = data_test.target.to_numpy()\n",
    "\n",
    "print(f\"NDCG = {NDCG(q, s, r)} | ROC AUC = {AUC(q, s, r)}\")"
   ]
  },
  {
   "cell_type": "markdown",
   "metadata": {},
   "source": [
    "# Stacked models"
   ]
  },
  {
   "cell_type": "code",
   "execution_count": 11,
   "metadata": {},
   "outputs": [],
   "source": [
    "data_train = data_train.groupby(\"msno\").head(1023).reset_index(drop=True)\n",
    "data_test = data_test.groupby(\"msno\").head(1023).reset_index(drop=True)\n",
    "\n",
    "q = data_test.msno.cat.codes.to_numpy()\n",
    "r = data_test.target.to_numpy()"
   ]
  },
  {
   "cell_type": "code",
   "execution_count": 12,
   "metadata": {},
   "outputs": [],
   "source": [
    "emb_model = Embeddings(100)\n",
    "catboost_model = CatBoost(150)\n",
    "model = Stack(catboost_model, emb_model)"
   ]
  },
  {
   "cell_type": "code",
   "execution_count": 13,
   "metadata": {},
   "outputs": [
    {
     "name": "stdout",
     "output_type": "stream",
     "text": [
      "Fitting items...\n",
      "Fitting users...\n"
     ]
    },
    {
     "name": "stderr",
     "output_type": "stream",
     "text": [
      "100%|██████████| 30755/30755 [00:00<00:00, 48025.16it/s]\n"
     ]
    },
    {
     "name": "stdout",
     "output_type": "stream",
     "text": [
      "Groupwise loss function. OneHotMaxSize set to 10\n"
     ]
    },
    {
     "name": "stderr",
     "output_type": "stream",
     "text": [
      "Metric PFound is not implemented on GPU. Will use CPU for metric computation, this could significantly affect learning time\n",
      "Metric PFound is not implemented on GPU. Will use CPU for metric computation, this could significantly affect learning time\n",
      "Metric NDCG:type=Base is not implemented on GPU. Will use CPU for metric computation, this could significantly affect learning time\n",
      "Metric QueryAUC:type=Ranking is not implemented on GPU. Will use CPU for metric computation, this could significantly affect learning time\n"
     ]
    },
    {
     "name": "stdout",
     "output_type": "stream",
     "text": [
      "0:\ttotal: 7.11ms\tremaining: 1.06s\n",
      "10:\ttotal: 69.4ms\tremaining: 877ms\n",
      "20:\ttotal: 125ms\tremaining: 768ms\n",
      "30:\ttotal: 180ms\tremaining: 689ms\n",
      "40:\ttotal: 234ms\tremaining: 622ms\n",
      "50:\ttotal: 294ms\tremaining: 571ms\n",
      "60:\ttotal: 348ms\tremaining: 508ms\n",
      "70:\ttotal: 399ms\tremaining: 444ms\n",
      "80:\ttotal: 450ms\tremaining: 383ms\n",
      "90:\ttotal: 505ms\tremaining: 327ms\n",
      "100:\ttotal: 558ms\tremaining: 271ms\n",
      "110:\ttotal: 611ms\tremaining: 215ms\n",
      "120:\ttotal: 665ms\tremaining: 159ms\n",
      "130:\ttotal: 743ms\tremaining: 108ms\n",
      "140:\ttotal: 809ms\tremaining: 51.6ms\n",
      "149:\ttotal: 858ms\tremaining: 0us\n",
      "NDCG = 0.7952508433368649 | ROC AUC = 0.5736910074135902\n"
     ]
    }
   ],
   "source": [
    "model.fit(data_train)\n",
    "\n",
    "s = model.predict(data_test)\n",
    "\n",
    "print(f\"NDCG = {NDCG(q, s, r)} | ROC AUC = {AUC(q, s, r)}\")"
   ]
  },
  {
   "cell_type": "code",
   "execution_count": 14,
   "metadata": {},
   "outputs": [
    {
     "name": "stdout",
     "output_type": "stream",
     "text": [
      "Fitting items...\n",
      "Fitting users...\n"
     ]
    },
    {
     "name": "stderr",
     "output_type": "stream",
     "text": [
      "100%|██████████| 30755/30755 [00:00<00:00, 49021.11it/s]\n"
     ]
    },
    {
     "name": "stdout",
     "output_type": "stream",
     "text": [
      "Groupwise loss function. OneHotMaxSize set to 10\n",
      "0:\ttotal: 6.62ms\tremaining: 987ms\n",
      "10:\ttotal: 63.8ms\tremaining: 806ms\n"
     ]
    },
    {
     "name": "stderr",
     "output_type": "stream",
     "text": [
      "Metric PFound is not implemented on GPU. Will use CPU for metric computation, this could significantly affect learning time\n",
      "Metric PFound is not implemented on GPU. Will use CPU for metric computation, this could significantly affect learning time\n",
      "Metric NDCG:type=Base is not implemented on GPU. Will use CPU for metric computation, this could significantly affect learning time\n",
      "Metric QueryAUC:type=Ranking is not implemented on GPU. Will use CPU for metric computation, this could significantly affect learning time\n"
     ]
    },
    {
     "name": "stdout",
     "output_type": "stream",
     "text": [
      "20:\ttotal: 128ms\tremaining: 784ms\n",
      "30:\ttotal: 194ms\tremaining: 745ms\n",
      "40:\ttotal: 250ms\tremaining: 664ms\n",
      "50:\ttotal: 300ms\tremaining: 583ms\n",
      "60:\ttotal: 353ms\tremaining: 515ms\n",
      "70:\ttotal: 411ms\tremaining: 457ms\n",
      "80:\ttotal: 465ms\tremaining: 396ms\n",
      "90:\ttotal: 517ms\tremaining: 335ms\n",
      "100:\ttotal: 570ms\tremaining: 277ms\n",
      "110:\ttotal: 628ms\tremaining: 221ms\n",
      "120:\ttotal: 686ms\tremaining: 164ms\n",
      "130:\ttotal: 738ms\tremaining: 107ms\n",
      "140:\ttotal: 796ms\tremaining: 50.8ms\n",
      "149:\ttotal: 848ms\tremaining: 0us\n"
     ]
    }
   ],
   "source": [
    "model.fit(data_train)\n",
    "\n",
    "scores_train = model.get_emb_score(data_train)\n",
    "scores_test = model.get_emb_score(data_test)\n",
    "\n",
    "data_train[\"scores\"] = scores_train\n",
    "data_test[\"scores\"] = scores_test"
   ]
  },
  {
   "cell_type": "code",
   "execution_count": 15,
   "metadata": {},
   "outputs": [
    {
     "data": {
      "image/png": "[encoded data removed]",
      "text/plain": [
       "<Figure size 576x684 with 2 Axes>"
      ]
     },
     "metadata": {
      "needs_background": "light"
     },
     "output_type": "display_data"
    }
   ],
   "source": [
    "\n",
    "scores = model.get_emb_score(data_test)\n",
    "data_test[\"scores\"] = scores\n",
    "X_test = data_test.drop(columns=[\"target\", \"song_id\", \"msno\"], axis=1)\n",
    "\n",
    "se = shap.TreeExplainer(model.catboost.model, feature_perturbation=\"tree_path_dependent\")\n",
    "shap_vals = se.shap_values(X_test)\n",
    "shap.summary_plot(shap_vals, X_test)"
   ]
  }
 ],
 "metadata": {
  "interpreter": {
   "hash": "58f4131e16bae183d805153abd4d758d37eefdecf8ebf14c2d1024a16030191c"
  },
  "kernelspec": {
   "display_name": "Python 3.8.11 64-bit ('ml': pyenv)",
   "language": "python",
   "name": "python3"
  },
  "language_info": {
   "codemirror_mode": {
    "name": "ipython",
    "version": 3
   },
   "file_extension": ".py",
   "mimetype": "text/x-python",
   "name": "python",
   "nbconvert_exporter": "python",
   "pygments_lexer": "ipython3",
   "version": "3.8.11"
  },
  "orig_nbformat": 4
 },
 "nbformat": 4,
 "nbformat_minor": 2
}
