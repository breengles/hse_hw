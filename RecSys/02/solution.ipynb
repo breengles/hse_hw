{
 "cells": [
  {
   "cell_type": "markdown",
   "metadata": {},
   "source": [
    "# Imports"
   ]
  },
  {
   "cell_type": "code",
   "execution_count": 1,
   "metadata": {},
   "outputs": [],
   "source": [
    "import pandas as pd\n",
    "import numpy as np\n",
    "import utils.read_data as read\n",
    "import utils.features as features\n",
    "from utils.handlers.constants import UNK\n",
    "\n",
    "from catboost import CatBoostRanker, Pool\n",
    "from sklearn.model_selection import GroupKFold\n",
    "\n",
    "from matplotlib import pyplot as plt\n",
    "import seaborn as sns\n",
    "\n",
    "sns.set()"
   ]
  },
  {
   "cell_type": "markdown",
   "metadata": {},
   "source": [
    "# Utils"
   ]
  },
  {
   "cell_type": "code",
   "execution_count": 2,
   "metadata": {},
   "outputs": [],
   "source": [
    "SEED = 42"
   ]
  },
  {
   "cell_type": "markdown",
   "metadata": {},
   "source": [
    "# Reading data"
   ]
  },
  {
   "cell_type": "code",
   "execution_count": 3,
   "metadata": {},
   "outputs": [],
   "source": [
    "members = read.members(\"data/members.csv\")"
   ]
  },
  {
   "cell_type": "code",
   "execution_count": 4,
   "metadata": {},
   "outputs": [],
   "source": [
    "songs = read.songs(\"data/songs.csv\")\n",
    "song_extra_info = read.extra_info(\"data/song_extra_info.csv\")\n",
    "\n",
    "songs = songs.merge(song_extra_info, on=\"song_id\", how=\"left\")"
   ]
  },
  {
   "cell_type": "code",
   "execution_count": 5,
   "metadata": {},
   "outputs": [],
   "source": [
    "train = read.train(\"data/train.csv\")"
   ]
  },
  {
   "cell_type": "markdown",
   "metadata": {},
   "source": [
    "# Generate features from data, e.g., raw age $\\to$ somewhat of categorical desc. of user this is child, teenager etc."
   ]
  },
  {
   "cell_type": "code",
   "execution_count": null,
   "metadata": {},
   "outputs": [],
   "source": [
    "members = features.member(members)\n",
    "songs = features.song(songs)"
   ]
  },
  {
   "cell_type": "markdown",
   "metadata": {},
   "source": [
    "# Final data"
   ]
  },
  {
   "cell_type": "code",
   "execution_count": 6,
   "metadata": {},
   "outputs": [
    {
     "data": {
      "text/html": [
       "<div>\n",
       "<style scoped>\n",
       "    .dataframe tbody tr th:only-of-type {\n",
       "        vertical-align: middle;\n",
       "    }\n",
       "\n",
       "    .dataframe tbody tr th {\n",
       "        vertical-align: top;\n",
       "    }\n",
       "\n",
       "    .dataframe thead th {\n",
       "        text-align: right;\n",
       "    }\n",
       "</style>\n",
       "<table border=\"1\" class=\"dataframe\">\n",
       "  <thead>\n",
       "    <tr style=\"text-align: right;\">\n",
       "      <th></th>\n",
       "      <th>msno</th>\n",
       "      <th>song_id</th>\n",
       "      <th>source_system_tab</th>\n",
       "      <th>source_screen_name</th>\n",
       "      <th>source_type</th>\n",
       "      <th>target</th>\n",
       "      <th>city</th>\n",
       "      <th>bd</th>\n",
       "      <th>gender</th>\n",
       "      <th>registered_via</th>\n",
       "      <th>...</th>\n",
       "      <th>composer</th>\n",
       "      <th>lyricist</th>\n",
       "      <th>language</th>\n",
       "      <th>name</th>\n",
       "      <th>artist_count</th>\n",
       "      <th>composer_count</th>\n",
       "      <th>lyricist_count</th>\n",
       "      <th>genre_count</th>\n",
       "      <th>isrc_year</th>\n",
       "      <th>isrc_country</th>\n",
       "    </tr>\n",
       "  </thead>\n",
       "  <tbody>\n",
       "    <tr>\n",
       "      <th>0</th>\n",
       "      <td>FGtllVqz18RPiwJj/edr2gV78zirAiY/9SmYvia+kCg=</td>\n",
       "      <td>BBzumQNXUHKdEBOB7mAJuzok+IJA1c2Ryg/yzTF6tik=</td>\n",
       "      <td>explore</td>\n",
       "      <td>Explore</td>\n",
       "      <td>online-playlist</td>\n",
       "      <td>1</td>\n",
       "      <td>1</td>\n",
       "      <td>&lt;UNK&gt;</td>\n",
       "      <td>&lt;UNK&gt;</td>\n",
       "      <td>7</td>\n",
       "      <td>...</td>\n",
       "      <td>Dan Smith| Mark Crew</td>\n",
       "      <td>&lt;UNK&gt;</td>\n",
       "      <td>52.0</td>\n",
       "      <td>Good Grief</td>\n",
       "      <td>1.0</td>\n",
       "      <td>2.0</td>\n",
       "      <td>0.0</td>\n",
       "      <td>1.0</td>\n",
       "      <td>16</td>\n",
       "      <td>GB</td>\n",
       "    </tr>\n",
       "    <tr>\n",
       "      <th>1</th>\n",
       "      <td>Xumu+NIjS6QYVxDS4/t3SawvJ7viT9hPKXmf0RtLNx8=</td>\n",
       "      <td>bhp/MpSNoqoxOIB+/l8WPqu6jldth4DIpCm3ayXnJqM=</td>\n",
       "      <td>my library</td>\n",
       "      <td>Local playlist more</td>\n",
       "      <td>local-playlist</td>\n",
       "      <td>1</td>\n",
       "      <td>13</td>\n",
       "      <td>young</td>\n",
       "      <td>female</td>\n",
       "      <td>9</td>\n",
       "      <td>...</td>\n",
       "      <td>&lt;UNK&gt;</td>\n",
       "      <td>&lt;UNK&gt;</td>\n",
       "      <td>52.0</td>\n",
       "      <td>Lords of Cardboard</td>\n",
       "      <td>1.0</td>\n",
       "      <td>0.0</td>\n",
       "      <td>0.0</td>\n",
       "      <td>1.0</td>\n",
       "      <td>99</td>\n",
       "      <td>US</td>\n",
       "    </tr>\n",
       "    <tr>\n",
       "      <th>2</th>\n",
       "      <td>Xumu+NIjS6QYVxDS4/t3SawvJ7viT9hPKXmf0RtLNx8=</td>\n",
       "      <td>JNWfrrC7zNN7BdMpsISKa4Mw+xVJYNnxXh3/Epw7QgY=</td>\n",
       "      <td>my library</td>\n",
       "      <td>Local playlist more</td>\n",
       "      <td>local-playlist</td>\n",
       "      <td>1</td>\n",
       "      <td>13</td>\n",
       "      <td>young</td>\n",
       "      <td>female</td>\n",
       "      <td>9</td>\n",
       "      <td>...</td>\n",
       "      <td>N. Jones、W. Adams、J. Lordan、D. Ingle</td>\n",
       "      <td>&lt;UNK&gt;</td>\n",
       "      <td>52.0</td>\n",
       "      <td>Hip Hop Is Dead(Album Version (Edited))</td>\n",
       "      <td>1.0</td>\n",
       "      <td>1.0</td>\n",
       "      <td>0.0</td>\n",
       "      <td>1.0</td>\n",
       "      <td>6</td>\n",
       "      <td>US</td>\n",
       "    </tr>\n",
       "    <tr>\n",
       "      <th>3</th>\n",
       "      <td>Xumu+NIjS6QYVxDS4/t3SawvJ7viT9hPKXmf0RtLNx8=</td>\n",
       "      <td>2A87tzfnJTSWqD7gIZHisolhe4DMdzkbd6LzO1KHjNs=</td>\n",
       "      <td>my library</td>\n",
       "      <td>Local playlist more</td>\n",
       "      <td>local-playlist</td>\n",
       "      <td>1</td>\n",
       "      <td>13</td>\n",
       "      <td>young</td>\n",
       "      <td>female</td>\n",
       "      <td>9</td>\n",
       "      <td>...</td>\n",
       "      <td>Kwadwo Donkoh</td>\n",
       "      <td>&lt;UNK&gt;</td>\n",
       "      <td>-1.0</td>\n",
       "      <td>Disco Africa</td>\n",
       "      <td>1.0</td>\n",
       "      <td>1.0</td>\n",
       "      <td>0.0</td>\n",
       "      <td>1.0</td>\n",
       "      <td>10</td>\n",
       "      <td>GB</td>\n",
       "    </tr>\n",
       "    <tr>\n",
       "      <th>4</th>\n",
       "      <td>FGtllVqz18RPiwJj/edr2gV78zirAiY/9SmYvia+kCg=</td>\n",
       "      <td>3qm6XTZ6MOCU11x8FIVbAGH5l5uMkT3/ZalWG1oo2Gc=</td>\n",
       "      <td>explore</td>\n",
       "      <td>Explore</td>\n",
       "      <td>online-playlist</td>\n",
       "      <td>1</td>\n",
       "      <td>1</td>\n",
       "      <td>&lt;UNK&gt;</td>\n",
       "      <td>&lt;UNK&gt;</td>\n",
       "      <td>7</td>\n",
       "      <td>...</td>\n",
       "      <td>Brett Young| Kelly Archer| Justin Ebach</td>\n",
       "      <td>&lt;UNK&gt;</td>\n",
       "      <td>52.0</td>\n",
       "      <td>Sleep Without You</td>\n",
       "      <td>1.0</td>\n",
       "      <td>3.0</td>\n",
       "      <td>0.0</td>\n",
       "      <td>1.0</td>\n",
       "      <td>16</td>\n",
       "      <td>QM</td>\n",
       "    </tr>\n",
       "  </tbody>\n",
       "</table>\n",
       "<p>5 rows × 29 columns</p>\n",
       "</div>"
      ],
      "text/plain": [
       "                                           msno  \\\n",
       "0  FGtllVqz18RPiwJj/edr2gV78zirAiY/9SmYvia+kCg=   \n",
       "1  Xumu+NIjS6QYVxDS4/t3SawvJ7viT9hPKXmf0RtLNx8=   \n",
       "2  Xumu+NIjS6QYVxDS4/t3SawvJ7viT9hPKXmf0RtLNx8=   \n",
       "3  Xumu+NIjS6QYVxDS4/t3SawvJ7viT9hPKXmf0RtLNx8=   \n",
       "4  FGtllVqz18RPiwJj/edr2gV78zirAiY/9SmYvia+kCg=   \n",
       "\n",
       "                                        song_id source_system_tab  \\\n",
       "0  BBzumQNXUHKdEBOB7mAJuzok+IJA1c2Ryg/yzTF6tik=           explore   \n",
       "1  bhp/MpSNoqoxOIB+/l8WPqu6jldth4DIpCm3ayXnJqM=        my library   \n",
       "2  JNWfrrC7zNN7BdMpsISKa4Mw+xVJYNnxXh3/Epw7QgY=        my library   \n",
       "3  2A87tzfnJTSWqD7gIZHisolhe4DMdzkbd6LzO1KHjNs=        my library   \n",
       "4  3qm6XTZ6MOCU11x8FIVbAGH5l5uMkT3/ZalWG1oo2Gc=           explore   \n",
       "\n",
       "    source_screen_name      source_type  target city     bd  gender  \\\n",
       "0              Explore  online-playlist       1    1  <UNK>   <UNK>   \n",
       "1  Local playlist more   local-playlist       1   13  young  female   \n",
       "2  Local playlist more   local-playlist       1   13  young  female   \n",
       "3  Local playlist more   local-playlist       1   13  young  female   \n",
       "4              Explore  online-playlist       1    1  <UNK>   <UNK>   \n",
       "\n",
       "  registered_via  ...                                 composer lyricist  \\\n",
       "0              7  ...                     Dan Smith| Mark Crew    <UNK>   \n",
       "1              9  ...                                    <UNK>    <UNK>   \n",
       "2              9  ...     N. Jones、W. Adams、J. Lordan、D. Ingle    <UNK>   \n",
       "3              9  ...                            Kwadwo Donkoh    <UNK>   \n",
       "4              7  ...  Brett Young| Kelly Archer| Justin Ebach    <UNK>   \n",
       "\n",
       "  language                                     name artist_count  \\\n",
       "0     52.0                               Good Grief          1.0   \n",
       "1     52.0                       Lords of Cardboard          1.0   \n",
       "2     52.0  Hip Hop Is Dead(Album Version (Edited))          1.0   \n",
       "3     -1.0                             Disco Africa          1.0   \n",
       "4     52.0                        Sleep Without You          1.0   \n",
       "\n",
       "  composer_count  lyricist_count genre_count isrc_year isrc_country  \n",
       "0            2.0             0.0         1.0        16           GB  \n",
       "1            0.0             0.0         1.0        99           US  \n",
       "2            1.0             0.0         1.0         6           US  \n",
       "3            1.0             0.0         1.0        10           GB  \n",
       "4            3.0             0.0         1.0        16           QM  \n",
       "\n",
       "[5 rows x 29 columns]"
      ]
     },
     "execution_count": 6,
     "metadata": {},
     "output_type": "execute_result"
    }
   ],
   "source": [
    "data = train.merge(members, on=\"msno\", how=\"left\").merge(songs, on=\"song_id\", how=\"left\").astype({\"msno\": \"category\", \"song_id\": \"category\"})\n",
    "\n",
    "data.source_screen_name = data.source_screen_name.cat.add_categories(UNK).fillna(UNK)\n",
    "data.source_system_tab = data.source_system_tab.cat.add_categories(UNK).fillna(UNK)\n",
    "data.source_type = data.source_type.cat.add_categories(UNK).fillna(UNK)\n",
    "\n",
    "data.head()"
   ]
  },
  {
   "cell_type": "code",
   "execution_count": 7,
   "metadata": {},
   "outputs": [
    {
     "name": "stdout",
     "output_type": "stream",
     "text": [
      "<class 'pandas.core.frame.DataFrame'>\n",
      "Int64Index: 7377418 entries, 0 to 7377417\n",
      "Data columns (total 29 columns):\n",
      " #   Column                   Dtype   \n",
      "---  ------                   -----   \n",
      " 0   msno                     category\n",
      " 1   song_id                  category\n",
      " 2   source_system_tab        category\n",
      " 3   source_screen_name       category\n",
      " 4   source_type              category\n",
      " 5   target                   int32   \n",
      " 6   city                     category\n",
      " 7   bd                       category\n",
      " 8   gender                   category\n",
      " 9   registered_via           category\n",
      " 10  registration_init_year   category\n",
      " 11  registration_init_month  category\n",
      " 12  registration_init_day    category\n",
      " 13  expiration_year          category\n",
      " 14  expiration_month         category\n",
      " 15  expiration_day           category\n",
      " 16  song_length              float64 \n",
      " 17  genre_ids                category\n",
      " 18  artist_name              category\n",
      " 19  composer                 category\n",
      " 20  lyricist                 category\n",
      " 21  language                 category\n",
      " 22  name                     category\n",
      " 23  artist_count             float64 \n",
      " 24  composer_count           float64 \n",
      " 25  lyricist_count           float64 \n",
      " 26  genre_count              float64 \n",
      " 27  isrc_year                category\n",
      " 28  isrc_country             category\n",
      "dtypes: category(23), float64(5), int32(1)\n",
      "memory usage: 732.8 MB\n"
     ]
    }
   ],
   "source": [
    "data.info()"
   ]
  },
  {
   "cell_type": "markdown",
   "metadata": {},
   "source": [
    "# Are there any NAN values left?"
   ]
  },
  {
   "cell_type": "code",
   "execution_count": 8,
   "metadata": {},
   "outputs": [
    {
     "name": "stdout",
     "output_type": "stream",
     "text": [
      "1607\n"
     ]
    }
   ],
   "source": [
    "na_mask = data.isna().any(1)\n",
    "print(na_mask.sum())"
   ]
  },
  {
   "cell_type": "markdown",
   "metadata": {},
   "source": [
    "not terrible, I guess, we will remove these as it is negligible in comparison with whole remaining data (~7 millions)"
   ]
  },
  {
   "cell_type": "code",
   "execution_count": 9,
   "metadata": {},
   "outputs": [],
   "source": [
    "data = data[~na_mask]"
   ]
  },
  {
   "cell_type": "markdown",
   "metadata": {},
   "source": [
    "here we have some problems: firstly, catboost on CPU kinda sucks. Secondly, on GPU it cannot handle more than 1024 items..."
   ]
  },
  {
   "cell_type": "code",
   "execution_count": 10,
   "metadata": {},
   "outputs": [
    {
     "data": {
      "text/plain": [
       "1    3563752\n",
       "0    3450391\n",
       "Name: target, dtype: int64"
      ]
     },
     "execution_count": 10,
     "metadata": {},
     "output_type": "execute_result"
    }
   ],
   "source": [
    "data = data.groupby(\"msno\").head(1023).reset_index(drop=True)\n",
    "data.target.value_counts()"
   ]
  },
  {
   "cell_type": "code",
   "execution_count": 11,
   "metadata": {},
   "outputs": [],
   "source": [
    "categorical_features = data.select_dtypes([\"category\"]).columns.to_numpy()\n",
    "\n",
    "data.sort_values(\"msno\", kind=\"stable\", inplace=True)"
   ]
  },
  {
   "cell_type": "markdown",
   "metadata": {},
   "source": [
    "# Task 1. GBDT (via CatBoost cos we have lotta categorical features)"
   ]
  },
  {
   "cell_type": "code",
   "execution_count": 12,
   "metadata": {},
   "outputs": [],
   "source": [
    "cfg = {\n",
    "    \"loss_function\": \"YetiRank\", \n",
    "    \"iterations\": 150, \n",
    "    \"custom_metric\": [\"NDCG\", \"QueryAUC:type=Ranking\"], \n",
    "    \"random_seed\": SEED, \n",
    "    \"metric_period\": 10,\n",
    "    \"task_type\": \"GPU\",\n",
    "    \"train_dir\": \"YetiRank/\" \n",
    "}"
   ]
  },
  {
   "cell_type": "code",
   "execution_count": 13,
   "metadata": {},
   "outputs": [],
   "source": [
    "X = data.drop(\"target\", axis=1)\n",
    "y = data.target.to_numpy()\n",
    "q = data.msno.cat.codes.to_numpy()"
   ]
  },
  {
   "cell_type": "code",
   "execution_count": 14,
   "metadata": {},
   "outputs": [
    {
     "name": "stdout",
     "output_type": "stream",
     "text": [
      "Groupwise loss function. OneHotMaxSize set to 10\n"
     ]
    },
    {
     "name": "stderr",
     "output_type": "stream",
     "text": [
      "Metric PFound is not implemented on GPU. Will use CPU for metric computation, this could significantly affect learning time\n",
      "Metric PFound is not implemented on GPU. Will use CPU for metric computation, this could significantly affect learning time\n",
      "Metric NDCG:type=Base is not implemented on GPU. Will use CPU for metric computation, this could significantly affect learning time\n",
      "Metric QueryAUC:type=Ranking is not implemented on GPU. Will use CPU for metric computation, this could significantly affect learning time\n"
     ]
    },
    {
     "name": "stdout",
     "output_type": "stream",
     "text": [
      "0:\ttest: 0.6355956\tbest: 0.6355956 (0)\ttotal: 639ms\tremaining: 1m 35s\n",
      "10:\ttest: 0.7845218\tbest: 0.7845218 (10)\ttotal: 4.44s\tremaining: 56.2s\n",
      "20:\ttest: 0.7895664\tbest: 0.7895664 (20)\ttotal: 8.27s\tremaining: 50.8s\n",
      "30:\ttest: 0.7906584\tbest: 0.7906584 (30)\ttotal: 12.1s\tremaining: 46.3s\n",
      "40:\ttest: 0.7912163\tbest: 0.7912163 (40)\ttotal: 15.9s\tremaining: 42.3s\n",
      "50:\ttest: 0.7914187\tbest: 0.7914187 (50)\ttotal: 19.7s\tremaining: 38.3s\n",
      "60:\ttest: 0.7915700\tbest: 0.7915700 (60)\ttotal: 23.6s\tremaining: 34.4s\n",
      "70:\ttest: 0.7920706\tbest: 0.7920706 (70)\ttotal: 27.4s\tremaining: 30.4s\n",
      "80:\ttest: 0.7922996\tbest: 0.7922996 (80)\ttotal: 31.2s\tremaining: 26.6s\n",
      "90:\ttest: 0.7917697\tbest: 0.7922996 (80)\ttotal: 35s\tremaining: 22.7s\n",
      "100:\ttest: 0.7907831\tbest: 0.7922996 (80)\ttotal: 38.8s\tremaining: 18.8s\n",
      "110:\ttest: 0.7912681\tbest: 0.7922996 (80)\ttotal: 42.5s\tremaining: 14.9s\n",
      "120:\ttest: 0.7914118\tbest: 0.7922996 (80)\ttotal: 46.3s\tremaining: 11.1s\n",
      "130:\ttest: 0.7912089\tbest: 0.7922996 (80)\ttotal: 50.1s\tremaining: 7.26s\n",
      "140:\ttest: 0.7913218\tbest: 0.7922996 (80)\ttotal: 53.4s\tremaining: 3.41s\n",
      "149:\ttest: 0.7914413\tbest: 0.7922996 (80)\ttotal: 56.4s\tremaining: 0us\n",
      "bestTest = 0.7922996494\n",
      "bestIteration = 80\n",
      "Shrink model to first 81 iterations.\n",
      "Groupwise loss function. OneHotMaxSize set to 10\n"
     ]
    },
    {
     "name": "stderr",
     "output_type": "stream",
     "text": [
      "Metric PFound is not implemented on GPU. Will use CPU for metric computation, this could significantly affect learning time\n",
      "Metric PFound is not implemented on GPU. Will use CPU for metric computation, this could significantly affect learning time\n",
      "Metric NDCG:type=Base is not implemented on GPU. Will use CPU for metric computation, this could significantly affect learning time\n",
      "Metric QueryAUC:type=Ranking is not implemented on GPU. Will use CPU for metric computation, this could significantly affect learning time\n"
     ]
    },
    {
     "name": "stdout",
     "output_type": "stream",
     "text": [
      "0:\ttest: 0.4732446\tbest: 0.4732446 (0)\ttotal: 636ms\tremaining: 1m 34s\n",
      "10:\ttest: 0.7750853\tbest: 0.7750853 (10)\ttotal: 4.45s\tremaining: 56.2s\n",
      "20:\ttest: 0.7815763\tbest: 0.7815763 (20)\ttotal: 8.24s\tremaining: 50.6s\n",
      "30:\ttest: 0.7828368\tbest: 0.7828368 (30)\ttotal: 12s\tremaining: 46.2s\n",
      "40:\ttest: 0.7833568\tbest: 0.7833568 (40)\ttotal: 15.8s\tremaining: 42.1s\n",
      "50:\ttest: 0.7839526\tbest: 0.7839526 (50)\ttotal: 19.6s\tremaining: 38.1s\n",
      "60:\ttest: 0.7846723\tbest: 0.7846723 (60)\ttotal: 23.4s\tremaining: 34.1s\n",
      "70:\ttest: 0.7846941\tbest: 0.7846941 (70)\ttotal: 27.2s\tremaining: 30.3s\n",
      "80:\ttest: 0.7851034\tbest: 0.7851034 (80)\ttotal: 31s\tremaining: 26.4s\n",
      "90:\ttest: 0.7849656\tbest: 0.7851034 (80)\ttotal: 34.8s\tremaining: 22.6s\n",
      "100:\ttest: 0.7847522\tbest: 0.7851034 (80)\ttotal: 38.6s\tremaining: 18.7s\n",
      "110:\ttest: 0.7850714\tbest: 0.7851034 (80)\ttotal: 42.5s\tremaining: 14.9s\n",
      "120:\ttest: 0.7855460\tbest: 0.7855460 (120)\ttotal: 46.3s\tremaining: 11.1s\n",
      "130:\ttest: 0.7859758\tbest: 0.7859758 (130)\ttotal: 50.1s\tremaining: 7.27s\n",
      "140:\ttest: 0.7860620\tbest: 0.7860620 (140)\ttotal: 54s\tremaining: 3.44s\n",
      "149:\ttest: 0.7861558\tbest: 0.7861558 (149)\ttotal: 57.4s\tremaining: 0us\n",
      "bestTest = 0.7861558201\n",
      "bestIteration = 149\n",
      "Groupwise loss function. OneHotMaxSize set to 10\n"
     ]
    },
    {
     "name": "stderr",
     "output_type": "stream",
     "text": [
      "Metric PFound is not implemented on GPU. Will use CPU for metric computation, this could significantly affect learning time\n",
      "Metric PFound is not implemented on GPU. Will use CPU for metric computation, this could significantly affect learning time\n",
      "Metric NDCG:type=Base is not implemented on GPU. Will use CPU for metric computation, this could significantly affect learning time\n",
      "Metric QueryAUC:type=Ranking is not implemented on GPU. Will use CPU for metric computation, this could significantly affect learning time\n"
     ]
    },
    {
     "name": "stdout",
     "output_type": "stream",
     "text": [
      "0:\ttest: 0.5883166\tbest: 0.5883166 (0)\ttotal: 601ms\tremaining: 1m 29s\n",
      "10:\ttest: 0.7747664\tbest: 0.7747664 (10)\ttotal: 4.3s\tremaining: 54.4s\n",
      "20:\ttest: 0.7788893\tbest: 0.7788893 (20)\ttotal: 8.02s\tremaining: 49.2s\n",
      "30:\ttest: 0.7806710\tbest: 0.7806710 (30)\ttotal: 11.8s\tremaining: 45.1s\n",
      "40:\ttest: 0.7817497\tbest: 0.7817497 (40)\ttotal: 15.5s\tremaining: 41.3s\n",
      "50:\ttest: 0.7821473\tbest: 0.7821473 (50)\ttotal: 19.4s\tremaining: 37.6s\n",
      "60:\ttest: 0.7822032\tbest: 0.7822032 (60)\ttotal: 23.1s\tremaining: 33.8s\n",
      "70:\ttest: 0.7823663\tbest: 0.7823663 (70)\ttotal: 27s\tremaining: 30s\n",
      "80:\ttest: 0.7821895\tbest: 0.7823663 (70)\ttotal: 30.8s\tremaining: 26.2s\n",
      "90:\ttest: 0.7821047\tbest: 0.7823663 (70)\ttotal: 34.6s\tremaining: 22.4s\n",
      "100:\ttest: 0.7819301\tbest: 0.7823663 (70)\ttotal: 38.5s\tremaining: 18.7s\n",
      "110:\ttest: 0.7815347\tbest: 0.7823663 (70)\ttotal: 42.3s\tremaining: 14.9s\n",
      "120:\ttest: 0.7820988\tbest: 0.7823663 (70)\ttotal: 46.2s\tremaining: 11.1s\n",
      "130:\ttest: 0.7820005\tbest: 0.7823663 (70)\ttotal: 50s\tremaining: 7.25s\n",
      "140:\ttest: 0.7824038\tbest: 0.7824038 (140)\ttotal: 53.8s\tremaining: 3.43s\n",
      "149:\ttest: 0.7826032\tbest: 0.7826032 (149)\ttotal: 57.3s\tremaining: 0us\n",
      "bestTest = 0.7826032048\n",
      "bestIteration = 149\n",
      "Groupwise loss function. OneHotMaxSize set to 10\n"
     ]
    },
    {
     "name": "stderr",
     "output_type": "stream",
     "text": [
      "Metric PFound is not implemented on GPU. Will use CPU for metric computation, this could significantly affect learning time\n",
      "Metric PFound is not implemented on GPU. Will use CPU for metric computation, this could significantly affect learning time\n",
      "Metric NDCG:type=Base is not implemented on GPU. Will use CPU for metric computation, this could significantly affect learning time\n",
      "Metric QueryAUC:type=Ranking is not implemented on GPU. Will use CPU for metric computation, this could significantly affect learning time\n"
     ]
    },
    {
     "name": "stdout",
     "output_type": "stream",
     "text": [
      "0:\ttest: 0.4731337\tbest: 0.4731337 (0)\ttotal: 591ms\tremaining: 1m 28s\n",
      "10:\ttest: 0.7788003\tbest: 0.7788003 (10)\ttotal: 3.7s\tremaining: 46.8s\n",
      "20:\ttest: 0.7826994\tbest: 0.7826994 (20)\ttotal: 6.78s\tremaining: 41.6s\n",
      "30:\ttest: 0.7827484\tbest: 0.7827484 (30)\ttotal: 9.86s\tremaining: 37.9s\n",
      "40:\ttest: 0.7835371\tbest: 0.7835371 (40)\ttotal: 12.9s\tremaining: 34.4s\n",
      "50:\ttest: 0.7842377\tbest: 0.7842377 (50)\ttotal: 16s\tremaining: 31.1s\n",
      "60:\ttest: 0.7847605\tbest: 0.7847605 (60)\ttotal: 19.1s\tremaining: 27.9s\n",
      "70:\ttest: 0.7851932\tbest: 0.7851932 (70)\ttotal: 22.3s\tremaining: 24.8s\n",
      "80:\ttest: 0.7849229\tbest: 0.7851932 (70)\ttotal: 25.4s\tremaining: 21.6s\n",
      "90:\ttest: 0.7851312\tbest: 0.7851932 (70)\ttotal: 28.5s\tremaining: 18.5s\n",
      "100:\ttest: 0.7849969\tbest: 0.7851932 (70)\ttotal: 31.7s\tremaining: 15.4s\n",
      "110:\ttest: 0.7860453\tbest: 0.7860453 (110)\ttotal: 34.8s\tremaining: 12.2s\n",
      "120:\ttest: 0.7861955\tbest: 0.7861955 (120)\ttotal: 38s\tremaining: 9.1s\n",
      "130:\ttest: 0.7860236\tbest: 0.7861955 (120)\ttotal: 41.1s\tremaining: 5.96s\n",
      "140:\ttest: 0.7860890\tbest: 0.7861955 (120)\ttotal: 44.2s\tremaining: 2.82s\n",
      "149:\ttest: 0.7862213\tbest: 0.7862213 (149)\ttotal: 47s\tremaining: 0us\n",
      "bestTest = 0.7862213317\n",
      "bestIteration = 149\n",
      "Groupwise loss function. OneHotMaxSize set to 10\n"
     ]
    },
    {
     "name": "stderr",
     "output_type": "stream",
     "text": [
      "Metric PFound is not implemented on GPU. Will use CPU for metric computation, this could significantly affect learning time\n",
      "Metric PFound is not implemented on GPU. Will use CPU for metric computation, this could significantly affect learning time\n",
      "Metric NDCG:type=Base is not implemented on GPU. Will use CPU for metric computation, this could significantly affect learning time\n",
      "Metric QueryAUC:type=Ranking is not implemented on GPU. Will use CPU for metric computation, this could significantly affect learning time\n"
     ]
    },
    {
     "name": "stdout",
     "output_type": "stream",
     "text": [
      "0:\ttest: 0.6863911\tbest: 0.6863911 (0)\ttotal: 567ms\tremaining: 1m 24s\n",
      "10:\ttest: 0.7719551\tbest: 0.7719551 (10)\ttotal: 3.68s\tremaining: 46.5s\n",
      "20:\ttest: 0.7796212\tbest: 0.7796212 (20)\ttotal: 6.89s\tremaining: 42.3s\n",
      "30:\ttest: 0.7804516\tbest: 0.7804516 (30)\ttotal: 10s\tremaining: 38.5s\n",
      "40:\ttest: 0.7806020\tbest: 0.7806020 (40)\ttotal: 13.2s\tremaining: 35s\n",
      "50:\ttest: 0.7807303\tbest: 0.7807303 (50)\ttotal: 16.3s\tremaining: 31.6s\n",
      "60:\ttest: 0.7805873\tbest: 0.7807303 (50)\ttotal: 19.7s\tremaining: 28.8s\n",
      "70:\ttest: 0.7806880\tbest: 0.7807303 (50)\ttotal: 23.1s\tremaining: 25.7s\n",
      "80:\ttest: 0.7806609\tbest: 0.7807303 (50)\ttotal: 26.4s\tremaining: 22.5s\n",
      "90:\ttest: 0.7812658\tbest: 0.7812658 (90)\ttotal: 29.6s\tremaining: 19.2s\n",
      "100:\ttest: 0.7813682\tbest: 0.7813682 (100)\ttotal: 32.8s\tremaining: 15.9s\n",
      "110:\ttest: 0.7811025\tbest: 0.7813682 (100)\ttotal: 35.9s\tremaining: 12.6s\n",
      "120:\ttest: 0.7812785\tbest: 0.7813682 (100)\ttotal: 39.2s\tremaining: 9.38s\n",
      "130:\ttest: 0.7815042\tbest: 0.7815042 (130)\ttotal: 42.5s\tremaining: 6.16s\n",
      "140:\ttest: 0.7834352\tbest: 0.7834352 (140)\ttotal: 45.6s\tremaining: 2.91s\n",
      "149:\ttest: 0.7836744\tbest: 0.7836744 (149)\ttotal: 48.4s\tremaining: 0us\n",
      "bestTest = 0.7836744053\n",
      "bestIteration = 149\n"
     ]
    }
   ],
   "source": [
    "scores = []\n",
    "for train_idx, val_idx in GroupKFold(n_splits=5).split(X, y, q):\n",
    "    X_train = X.iloc[train_idx]\n",
    "    y_train = y[train_idx]\n",
    "    \n",
    "    X_val = X.iloc[val_idx]\n",
    "    y_val = y[val_idx]\n",
    "    \n",
    "    q_train = q[train_idx]\n",
    "    q_val = q[val_idx]\n",
    "    \n",
    "    pool_train = Pool(data=X_train, label=y_train, group_id=q_train, cat_features=categorical_features, has_header=True)\n",
    "    pool_val = Pool(data=X_val, label=y_val, group_id=q_val, cat_features=categorical_features, has_header=True)\n",
    "    \n",
    "    model = CatBoostRanker(**cfg)\n",
    "    model.fit(pool_train, eval_set=pool_val)\n",
    "    \n",
    "    scores.append(model.get_evals_result())"
   ]
  },
  {
   "cell_type": "code",
   "execution_count": 15,
   "metadata": {},
   "outputs": [
    {
     "name": "stderr",
     "output_type": "stream",
     "text": [
      "/home/breengles/.pyenv/versions/3.8.11/envs/ml/lib/python3.8/site-packages/seaborn/_decorators.py:36: FutureWarning: Pass the following variables as keyword args: x, y. From version 0.12, the only valid positional argument will be `data`, and passing other arguments without an explicit keyword will result in an error or misinterpretation.\n",
      "  warnings.warn(\n"
     ]
    },
    {
     "data": {
      "text/plain": [
       "Text(0.5, 0, 'Iteration')"
      ]
     },
     "execution_count": 15,
     "metadata": {},
     "output_type": "execute_result"
    },
    {
     "data": {
      "image/png": "[encoded data removed]",
      "text/plain": [
       "<Figure size 432x288 with 1 Axes>"
      ]
     },
     "metadata": {},
     "output_type": "display_data"
    }
   ],
   "source": [
    "quac = np.vstack([x[\"validation\"][\"QueryAUC:type=Ranking\"] for x in scores])\n",
    "\n",
    "mean = quac.mean(0)\n",
    "std = quac.std(0)\n",
    "\n",
    "x = np.arange(cfg[\"iterations\"] // cfg[\"metric_period\"] + 1) * cfg[\"metric_period\"]\n",
    "\n",
    "ax = sns.lineplot(x, mean)\n",
    "ax.fill_between(x, mean - std, mean + std, alpha = 0.5)\n",
    "\n",
    "ax.set_title(\"QueryAUC\")\n",
    "ax.set_ylabel(\"Metric\")\n",
    "ax.set_xlabel(\"Iteration\")"
   ]
  },
  {
   "cell_type": "code",
   "execution_count": 16,
   "metadata": {},
   "outputs": [
    {
     "name": "stderr",
     "output_type": "stream",
     "text": [
      "/home/breengles/.pyenv/versions/3.8.11/envs/ml/lib/python3.8/site-packages/seaborn/_decorators.py:36: FutureWarning: Pass the following variables as keyword args: x, y. From version 0.12, the only valid positional argument will be `data`, and passing other arguments without an explicit keyword will result in an error or misinterpretation.\n",
      "  warnings.warn(\n"
     ]
    },
    {
     "data": {
      "text/plain": [
       "Text(0.5, 0, 'Iteration')"
      ]
     },
     "execution_count": 16,
     "metadata": {},
     "output_type": "execute_result"
    },
    {
     "data": {
      "image/png": "[encoded data removed]",
      "text/plain": [
       "<Figure size 432x288 with 1 Axes>"
      ]
     },
     "metadata": {},
     "output_type": "display_data"
    }
   ],
   "source": [
    "ndcg = np.vstack([x[\"validation\"][\"NDCG:type=Base\"] for x in scores])\n",
    "\n",
    "mean = ndcg.mean(0)\n",
    "std = ndcg.std(0)\n",
    "\n",
    "x = np.arange(cfg[\"iterations\"] // cfg[\"metric_period\"] + 1) * cfg[\"metric_period\"]\n",
    "\n",
    "ax = sns.lineplot(x, mean)\n",
    "ax.fill_between(x, mean - std, mean + std, alpha = 0.5)\n",
    "\n",
    "ax.set_title(\"NDCG\")\n",
    "ax.set_ylabel(\"Metric\")\n",
    "ax.set_xlabel(\"Iteration\")"
   ]
  },
  {
   "cell_type": "code",
   "execution_count": null,
   "metadata": {},
   "outputs": [],
   "source": []
  }
 ],
 "metadata": {
  "interpreter": {
   "hash": "58f4131e16bae183d805153abd4d758d37eefdecf8ebf14c2d1024a16030191c"
  },
  "kernelspec": {
   "display_name": "Python 3.8.11 64-bit ('ml': pyenv)",
   "language": "python",
   "name": "python3"
  },
  "language_info": {
   "codemirror_mode": {
    "name": "ipython",
    "version": 3
   },
   "file_extension": ".py",
   "mimetype": "text/x-python",
   "name": "python",
   "nbconvert_exporter": "python",
   "pygments_lexer": "ipython3",
   "version": "3.8.11"
  },
  "orig_nbformat": 4
 },
 "nbformat": 4,
 "nbformat_minor": 2
}
