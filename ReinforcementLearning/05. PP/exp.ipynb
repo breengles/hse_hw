{
 "cells": [
  {
   "cell_type": "code",
   "execution_count": 1,
   "metadata": {},
   "outputs": [
    {
     "name": "stdout",
     "output_type": "stream",
     "text": [
      "pygame 2.0.1 (SDL 2.0.14, Python 3.8.5)\n",
      "Hello from the pygame community. https://www.pygame.org/contribute.html\n"
     ]
    }
   ],
   "source": [
    "from train import train\n",
    "from joblib import Parallel, delayed\n",
    "from itertools import product\n",
    "from tqdm.notebook import tqdm\n",
    "from game_configs import *\n",
    "import warnings\n",
    "warnings.filterwarnings(\"ignore\")"
   ]
  },
  {
   "cell_type": "code",
   "execution_count": 2,
   "metadata": {},
   "outputs": [],
   "source": [
    "base_config = {\n",
    "    \"device\": \"cpu\",\n",
    "    \"transitions\": 100_000,\n",
    "    \"hidden_size\": 64,\n",
    "    \"buffer_size\": 20_000,\n",
    "    \"batch_size\": 512,\n",
    "    \"actor_lr\": 1e-3,\n",
    "    \"critic_lr\": 1e-3,\n",
    "    \"gamma\": 0.998,\n",
    "    \"tau\": 5e-3,\n",
    "    \"sigma_max\": 0.2,\n",
    "    \"sigma_min\": 0,\n",
    "    \"render\": False,\n",
    "    \"seed\": 42,\n",
    "    \"return_agents\": False\n",
    "}"
   ]
  },
  {
   "cell_type": "code",
   "execution_count": 3,
   "metadata": {},
   "outputs": [],
   "source": [
    "dtrain = delayed(train)"
   ]
  },
  {
   "cell_type": "code",
   "execution_count": 4,
   "metadata": {},
   "outputs": [
    {
     "name": "stdout",
     "output_type": "stream",
     "text": [
      "Filling up buffer...\n"
     ]
    },
    {
     "name": "stderr",
     "output_type": "stream",
     "text": [
      "  0%|          | 1/100000 [00:00<3:27:44,  8.02it/s]"
     ]
    },
    {
     "name": "stdout",
     "output_type": "stream",
     "text": [
      "Finished. Now training...\n"
     ]
    },
    {
     "name": "stderr",
     "output_type": "stream",
     "text": [
      "  0%|          | 63/100000 [00:05<2:29:07, 11.17it/s]"
     ]
    }
   ],
   "source": [
    "log = train(**base_config)"
   ]
  },
  {
   "cell_type": "code",
   "execution_count": 1,
   "metadata": {},
   "outputs": [
    {
     "ename": "NameError",
     "evalue": "name 'log' is not defined",
     "output_type": "error",
     "traceback": [
      "\u001b[0;31m---------------------------------------------------------------------------\u001b[0m",
      "\u001b[0;31mNameError\u001b[0m                                 Traceback (most recent call last)",
      "\u001b[0;32m<ipython-input-1-009b23f8b7c2>\u001b[0m in \u001b[0;36m<module>\u001b[0;34m\u001b[0m\n\u001b[0;32m----> 1\u001b[0;31m \u001b[0mlog\u001b[0m\u001b[0;34m.\u001b[0m\u001b[0mplot\u001b[0m\u001b[0;34m(\u001b[0m\u001b[0;34m\"step\"\u001b[0m\u001b[0;34m,\u001b[0m \u001b[0;34m\"predator_mean\"\u001b[0m\u001b[0;34m,\u001b[0m \u001b[0;34m\"predator_std\"\u001b[0m\u001b[0;34m,\u001b[0m \u001b[0mtitle\u001b[0m\u001b[0;34m=\u001b[0m\u001b[0;34m\"Predator\"\u001b[0m\u001b[0;34m)\u001b[0m\u001b[0;34m\u001b[0m\u001b[0;34m\u001b[0m\u001b[0m\n\u001b[0m\u001b[1;32m      2\u001b[0m \u001b[0mlog\u001b[0m\u001b[0;34m.\u001b[0m\u001b[0mplot\u001b[0m\u001b[0;34m(\u001b[0m\u001b[0;34m\"step\"\u001b[0m\u001b[0;34m,\u001b[0m \u001b[0;34m\"prey_mean\"\u001b[0m\u001b[0;34m,\u001b[0m \u001b[0;34m\"prey_std\"\u001b[0m\u001b[0;34m,\u001b[0m \u001b[0mtitle\u001b[0m\u001b[0;34m=\u001b[0m\u001b[0;34m\"Prey\"\u001b[0m\u001b[0;34m)\u001b[0m\u001b[0;34m\u001b[0m\u001b[0;34m\u001b[0m\u001b[0m\n",
      "\u001b[0;31mNameError\u001b[0m: name 'log' is not defined"
     ]
    }
   ],
   "source": [
    "log.plot(\"step\", \"predator_mean\", \"predator_std\", title=\"Predator\")\n",
    "log.plot(\"step\", \"prey_mean\", \"prey_std\", title=\"Prey\")"
   ]
  },
  {
   "cell_type": "code",
   "execution_count": null,
   "metadata": {},
   "outputs": [],
   "source": [
    "configs = []\n",
    "\n",
    "params = product(\n",
    "    (1_000,),                 # transitions\n",
    "    (10_000, 50_000,),  # buffer_size\n",
    "    (0.999, 0.99),              # gamma\n",
    "    (1e-3,),               # tau\n",
    "    (1e-4, 1e-3),               # actor lr\n",
    "    (2e-4, 2e-3),               # critic lr\n",
    "    (2, 1, 0.5),                # sigma\n",
    "    (256, 512, 1024),  # batch size\n",
    ")\n",
    "\n",
    "for transitions, buffer_size, gamma, tau, actor_lr, critic_lr, sigma_max, batch_size in params:\n",
    "    cfg = base_config.copy()\n",
    "    cfg[\"transitions\"] = transitions\n",
    "    cfg[\"buffer_size\"] = buffer_size\n",
    "    cfg[\"batch_size\"] = batch_size\n",
    "    cfg[\"actor_lr\"] = actor_lr\n",
    "    cfg[\"critic_lr\"] = critic_lr\n",
    "    cfg[\"gamma\"] = gamma\n",
    "    cfg[\"tau\"] = tau\n",
    "    cfg[\"sigma_max\"] = sigma_max\n",
    "    \n",
    "    configs.append(cfg)\n",
    "\n",
    "print(len(configs))"
   ]
  },
  {
   "cell_type": "code",
   "execution_count": null,
   "metadata": {},
   "outputs": [],
   "source": [
    "logs = Parallel(n_jobs=8)(dtrain(**cfg) for cfg in tqdm(configs))"
   ]
  },
  {
   "cell_type": "code",
   "execution_count": null,
   "metadata": {},
   "outputs": [],
   "source": [
    "for log in logs:\n",
    "    print(log.params)\n",
    "    log.plot(\"step\", \"predator_mean\", \"predator_std\", title=\"Predator\")\n",
    "    log.plot(\"step\", \"prey_mean\", \"prey_std\", title=\"Prey\")"
   ]
  },
  {
   "cell_type": "code",
   "execution_count": null,
   "metadata": {},
   "outputs": [],
   "source": []
  }
 ],
 "metadata": {
  "kernelspec": {
   "display_name": "Python 3.8.5 64-bit ('ml': pyenv)",
   "name": "python385jvsc74a57bd071f4a8a05e914619e6ce849cc212b7860cf82baee4b36c2033f2d6275d70daac"
  },
  "language_info": {
   "codemirror_mode": {
    "name": "ipython",
    "version": 3
   },
   "file_extension": ".py",
   "mimetype": "text/x-python",
   "name": "python",
   "nbconvert_exporter": "python",
   "pygments_lexer": "ipython3",
   "version": "3.8.5"
  },
  "orig_nbformat": 2
 },
 "nbformat": 4,
 "nbformat_minor": 2
}