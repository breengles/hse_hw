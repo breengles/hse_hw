{
 "cells": [
  {
   "cell_type": "code",
   "execution_count": 1,
   "metadata": {},
   "outputs": [
    {
     "name": "stdout",
     "output_type": "stream",
     "text": [
      "pygame 2.0.1 (SDL 2.0.14, Python 3.8.5)\n",
      "Hello from the pygame community. https://www.pygame.org/contribute.html\n"
     ]
    }
   ],
   "source": [
    "from train import train\n",
    "from joblib import Parallel, delayed\n",
    "from matplotlib import pyplot as plt\n",
    "from itertools import combinations, product, permutations\n",
    "from tqdm.notebook import tqdm\n",
    "import numpy as np\n",
    "import warnings\n",
    "from game_configs import *\n",
    "warnings.filterwarnings(\"ignore\")"
   ]
  },
  {
   "cell_type": "code",
   "execution_count": 2,
   "metadata": {},
   "outputs": [],
   "source": [
    "base_config = {\n",
    "    \"device\": \"cuda\",\n",
    "    \"transitions\": 100_000,\n",
    "    \"hidden_size\": 64,\n",
    "    \"buffer_size\": 20_000,\n",
    "    \"batch_size\": 2048,\n",
    "    \"actor_lr\": 1e-2,\n",
    "    \"critic_lr\": 1e-2,\n",
    "    \"gamma\": 0.998,\n",
    "    \"tau\": 0.05,\n",
    "    \"sigma_max\": 0.1,\n",
    "    \"sigma_min\": 0,\n",
    "    \"render\": False,\n",
    "    \"seed\": 42,\n",
    "    \"return_agents\": False,\n",
    "    \"config\": prey_freeze\n",
    "}"
   ]
  },
  {
   "cell_type": "code",
   "execution_count": 3,
   "metadata": {},
   "outputs": [],
   "source": [
    "dtrain = delayed(train)"
   ]
  },
  {
   "cell_type": "code",
   "execution_count": 4,
   "metadata": {},
   "outputs": [
    {
     "name": "stdout",
     "output_type": "stream",
     "text": [
      "Experiment is saved: experiments/70e1e633-a0cf-4303-ae62-dad8b7940f01/\n",
      "Filling up buffer...\n"
     ]
    },
    {
     "name": "stderr",
     "output_type": "stream",
     "text": [
      "  0%|          | 0/100000 [00:00<?, ?it/s]"
     ]
    },
    {
     "name": "stdout",
     "output_type": "stream",
     "text": [
      "Finished. Now training...\n"
     ]
    },
    {
     "name": "stderr",
     "output_type": "stream",
     "text": [
      "  4%|▍         | 3798/100000 [00:52<17:07, 93.63it/s]"
     ]
    }
   ],
   "source": [
    "log = train(**base_config, verbose=True)"
   ]
  },
  {
   "cell_type": "code",
   "execution_count": null,
   "metadata": {},
   "outputs": [],
   "source": [
    "log.plot(\"step\", \"predator_mean\", \"predator_std\", title=\"Predator\")"
   ]
  },
  {
   "cell_type": "code",
   "execution_count": 1,
   "metadata": {},
   "outputs": [
    {
     "ename": "NameError",
     "evalue": "name 'log' is not defined",
     "output_type": "error",
     "traceback": [
      "\u001b[0;31m---------------------------------------------------------------------------\u001b[0m",
      "\u001b[0;31mNameError\u001b[0m                                 Traceback (most recent call last)",
      "\u001b[0;32m<ipython-input-1-d54d72ece9ef>\u001b[0m in \u001b[0;36m<module>\u001b[0;34m\u001b[0m\n\u001b[0;32m----> 1\u001b[0;31m \u001b[0mlog\u001b[0m\u001b[0;34m.\u001b[0m\u001b[0mplot\u001b[0m\u001b[0;34m(\u001b[0m\u001b[0;34m\"step\"\u001b[0m\u001b[0;34m,\u001b[0m \u001b[0;34m\"prey_mean\"\u001b[0m\u001b[0;34m,\u001b[0m \u001b[0;34m\"prey_std\"\u001b[0m\u001b[0;34m,\u001b[0m \u001b[0mtitle\u001b[0m\u001b[0;34m=\u001b[0m\u001b[0;34m\"Prey\"\u001b[0m\u001b[0;34m)\u001b[0m\u001b[0;34m\u001b[0m\u001b[0;34m\u001b[0m\u001b[0m\n\u001b[0m",
      "\u001b[0;31mNameError\u001b[0m: name 'log' is not defined"
     ]
    }
   ],
   "source": [
    "log.plot(\"step\", \"prey_mean\", \"prey_std\", title=\"Prey\")"
   ]
  },
  {
   "cell_type": "code",
   "execution_count": null,
   "metadata": {},
   "outputs": [],
   "source": [
    "# configs = []\n",
    "\n",
    "# params = product(\n",
    "#     (1_000,),                 # transitions\n",
    "#     (10_000, 50_000,),  # buffer_size\n",
    "#     (0.999, 0.99),              # gamma\n",
    "#     (1e-3,),               # tau\n",
    "#     (1e-4, 1e-3),               # actor lr\n",
    "#     (2e-4, 2e-3),               # critic lr\n",
    "#     (2, 1, 0.5),                # sigma\n",
    "#     (256, 512, 1024),  # batch size\n",
    "# )\n",
    "\n",
    "# for transitions, buffer_size, gamma, tau, actor_lr, critic_lr, sigma_max, batch_size in params:\n",
    "#     cfg = base_config.copy()\n",
    "#     cfg[\"transitions\"] = transitions\n",
    "#     cfg[\"buffer_size\"] = buffer_size\n",
    "#     cfg[\"batch_size\"] = batch_size\n",
    "#     cfg[\"actor_lr\"] = actor_lr\n",
    "#     cfg[\"critic_lr\"] = critic_lr\n",
    "#     cfg[\"gamma\"] = gamma\n",
    "#     cfg[\"tau\"] = tau\n",
    "#     cfg[\"sigma_max\"] = sigma_max\n",
    "    \n",
    "#     configs.append(cfg)\n",
    "\n",
    "# print(len(configs))\n",
    "# logs = Parallel(n_jobs=8)(dtrain(**cfg) for cfg in tqdm(configs))\n"
   ]
  },
  {
   "cell_type": "code",
   "execution_count": null,
   "metadata": {},
   "outputs": [],
   "source": [
    "# for log in logs:\n",
    "#     print(log.params)\n",
    "#     log.plot(\"step\", \"predator_mean\", \"predator_std\", title=\"Predator\")\n",
    "#     log.plot(\"step\", \"prey_mean\", \"prey_std\", title=\"Prey\")"
   ]
  },
  {
   "cell_type": "code",
   "execution_count": null,
   "metadata": {},
   "outputs": [],
   "source": []
  }
 ],
 "metadata": {
  "kernelspec": {
   "display_name": "Python 3.8.5 64-bit ('ml': pyenv)",
   "name": "python385jvsc74a57bd071f4a8a05e914619e6ce849cc212b7860cf82baee4b36c2033f2d6275d70daac"
  },
  "language_info": {
   "codemirror_mode": {
    "name": "ipython",
    "version": 3
   },
   "file_extension": ".py",
   "mimetype": "text/x-python",
   "name": "python",
   "nbconvert_exporter": "python",
   "pygments_lexer": "ipython3",
   "version": "3.8.5"
  },
  "orig_nbformat": 2
 },
 "nbformat": 4,
 "nbformat_minor": 2
}