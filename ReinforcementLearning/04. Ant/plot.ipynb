{
 "metadata": {
  "language_info": {
   "codemirror_mode": {
    "name": "ipython",
    "version": 3
   },
   "file_extension": ".py",
   "mimetype": "text/x-python",
   "name": "python",
   "nbconvert_exporter": "python",
   "pygments_lexer": "ipython3",
   "version": "3.8.5-final"
  },
  "orig_nbformat": 2,
  "kernelspec": {
   "name": "python3",
   "display_name": "Python 3.8.5 64-bit ('hse_ml')",
   "metadata": {
    "interpreter": {
     "hash": "52f65c1dba17a6893288d8494a539e55e57ab164b424d6c977bf5446fbca9423"
    }
   }
  }
 },
 "nbformat": 4,
 "nbformat_minor": 2,
 "cells": [
  {
   "cell_type": "code",
   "execution_count": 1,
   "metadata": {},
   "outputs": [],
   "source": [
    "import pandas as pd\n",
    "import numpy as np\n",
    "from matplotlib import pyplot as plt\n",
    "import seaborn as sns\n",
    "sns.set()"
   ]
  },
  {
   "cell_type": "code",
   "execution_count": 2,
   "metadata": {},
   "outputs": [],
   "source": [
    "def plot(log):\n",
    "    steps = log[\"step\"]\n",
    "    rmean = log[\"rmean\"]\n",
    "    rstd = log[\"rstd\"]\n",
    "\n",
    "    fig, ax = plt.subplots(figsize=(12, 8))\n",
    "    ax.set_xlabel(\"№ of transitions\")\n",
    "    ax.set_ylabel(\"Mean reward\")\n",
    "\n",
    "    plt.hlines(2000, np.min(steps), np.max(steps),\n",
    "               colors=\"r\", label=\"Solved\")\n",
    "\n",
    "    plt.plot(steps,\n",
    "             rmean,\n",
    "             label=\"TD3\")                \n",
    "\n",
    "\n",
    "    plt.fill_between(steps,\n",
    "                     rmean - rstd,\n",
    "                     rmean + rstd, alpha=0.5)\n",
    "    plt.legend()\n",
    "    plt.show()"
   ]
  },
  {
   "cell_type": "code",
   "execution_count": null,
   "metadata": {},
   "outputs": [],
   "source": [
    "log = pd.read_csv(\"experiments/_saved/log.csv\", names=[\"step\", \"rmean\", \"rstd\"])\n",
    "plot(log)"
   ]
  }
 ]
}