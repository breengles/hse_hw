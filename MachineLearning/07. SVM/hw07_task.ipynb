{
 "nbformat": 4,
 "nbformat_minor": 0,
 "metadata": {
  "colab": {
   "name": "hw07_task.ipynb",
   "provenance": [],
   "collapsed_sections": []
  },
  "kernelspec": {
   "name": "pycharm-debf0943",
   "language": "python",
   "display_name": "PyCharm (07. SVM)"
  },
  "language_info": {
   "codemirror_mode": {
    "name": "ipython",
    "version": 3
   },
   "file_extension": ".py",
   "mimetype": "text/x-python",
   "name": "python",
   "nbconvert_exporter": "python",
   "pygments_lexer": "ipython3",
   "version": "3.7.3"
  }
 },
 "cells": [
  {
   "cell_type": "markdown",
   "metadata": {
    "id": "8F1UvGuxHkAB"
   },
   "source": [
    "# SVM и его ядра\n",
    "__Суммарное количество баллов: 9__\n",
    "\n",
    "__Решение отправлять на `ml.course.practice@gmail.com`__\n",
    "\n",
    "__Тема письма: `[ML][MS][HW07] <ФИ>`, где вместо `<ФИ>` указаны фамилия и имя__\n",
    "\n",
    "В этом задании нам предстоит решить задачу SVM при помощи `cvxopt` и применить ее к искуственным данным. Затем аналогичным способом нужно будет решить задачу ядерного SVM и исследовать его поведение для различных ядер и значений их параметров."
   ]
  },
  {
   "cell_type": "code",
   "metadata": {
    "id": "67NDiPsbHkAD"
   },
   "source": [
    "import numpy as np\n",
    "import copy\n",
    "from cvxopt import spmatrix, matrix, solvers\n",
    "import matplotlib.pyplot as plt\n",
    "from sklearn.datasets import make_classification, make_moons, make_blobs\n",
    "from typing import NoReturn, Callable\n",
    "\n",
    "solvers.options['show_progress'] = False"
   ],
   "execution_count": 1,
   "outputs": []
  },
  {
   "cell_type": "code",
   "metadata": {
    "id": "6MMMt-YWHkAJ"
   },
   "source": [
    "def visualize(clf, X, y):\n",
    "    x_min, x_max = X[:, 0].min(), X[:, 0].max()\n",
    "    y_min, y_max = X[:, 1].min(), X[:, 1].max()\n",
    "    x_border = (x_max - x_min) / 20 + 1.0e-3\n",
    "    x_h = (x_max - x_min + 2 * x_border) / 200\n",
    "    y_border = (y_max - y_min) / 20 + 1.0e-3\n",
    "    y_h = (y_max - y_min + 2 * y_border) / 200\n",
    "    \n",
    "    cm = plt.cm.Spectral\n",
    "\n",
    "    xx, yy = np.meshgrid(np.arange(x_min - x_border, x_max + x_border, x_h), \n",
    "                         np.arange(y_min - y_border, y_max + y_border, y_h))\n",
    "    mesh = np.c_[xx.ravel(), yy.ravel()]\n",
    "\n",
    "    z_class = clf.predict(mesh).reshape(xx.shape)\n",
    "\n",
    "    # Put the result into a color plot\n",
    "    plt.figure(1, figsize=(8, 8))\n",
    "    plt.pcolormesh(xx, yy, z_class, cmap=cm, alpha=0.3, shading='gouraud')\n",
    "\n",
    "    # Plot hyperplane and margin\n",
    "    z_dist = clf.decision_function(mesh).reshape(xx.shape)\n",
    "    plt.contour(xx, yy, z_dist, [0.0], colors='black')\n",
    "    plt.contour(xx, yy, z_dist, [-1.0, 1.0], colors='black', linestyles='dashed')\n",
    "\n",
    "    # Plot also the training points\n",
    "    y_pred = clf.predict(X)\n",
    "\n",
    "    ind_support = []\n",
    "    ind_correct = []\n",
    "    ind_incorrect = []\n",
    "    for i in range(len(y)):\n",
    "        if i in clf.support:\n",
    "            ind_support.append(i)\n",
    "        elif y[i] == y_pred[i]:\n",
    "            ind_correct.append(i)\n",
    "        else:\n",
    "            ind_incorrect.append(i)\n",
    "\n",
    "    plt.scatter(X[ind_correct, 0], \n",
    "                X[ind_correct, 1], \n",
    "                c=y[ind_correct], \n",
    "                cmap=cm, \n",
    "                alpha=1., \n",
    "                edgecolor='black', \n",
    "                linewidth=.8)\n",
    "    plt.scatter(X[ind_incorrect, 0], \n",
    "                X[ind_incorrect, 1], \n",
    "                c=y[ind_incorrect], \n",
    "                cmap=cm, alpha=1., \n",
    "                marker='*', \n",
    "                s=50, \n",
    "                edgecolor='black', \n",
    "                linewidth=.8)\n",
    "    plt.scatter(X[ind_support, 0], \n",
    "                X[ind_support, 1], \n",
    "                c=y[ind_support], \n",
    "                cmap=cm, alpha=1., \n",
    "                edgecolor='yellow', \n",
    "                linewidths=1., s=40)\n",
    "\n",
    "    plt.xlim(xx.min(), xx.max())\n",
    "    plt.ylim(yy.min(), yy.max())\n",
    "    plt.tight_layout()"
   ],
   "execution_count": 2,
   "outputs": []
  },
  {
   "cell_type": "code",
   "metadata": {
    "id": "keCF5JnaHkAN"
   },
   "source": [
    "def generate_dataset(moons=False):\n",
    "    if moons:\n",
    "        X, y = make_moons(1000, noise=0.075, random_state=42)\n",
    "        return X, 2 * y - 1\n",
    "    X, y = make_blobs(1000, 2, centers=[[0, 0], [-4, 2], [3.5, -2.0], [3.5, 3.5]], random_state=42)\n",
    "    y = 2 * (y % 2) - 1\n",
    "    return X, y\n",
    "\n",
    "X, y = generate_dataset(True)"
   ],
   "execution_count": 3,
   "outputs": []
  },
  {
   "cell_type": "markdown",
   "metadata": {
    "id": "vK9yV9v5HkAQ"
   },
   "source": [
    "### Задание 1 (2 балла)\n",
    "Для начала реализуем обычный линейный SVM. \n",
    "\n",
    "#### Методы\n",
    "`fit(X, y)` - обучает SVM, решая задачу оптимизации при помощи `cvxopt.solvers.qp`\n",
    "\n",
    "`decision_function(X)` - возвращает значение решающей функции (т.е. то число, от которого берем знак с целью узнать класс)\n",
    "\n",
    "#### Поля\n",
    "`support` - индексы опорных элементов"
   ]
  },
  {
   "cell_type": "markdown",
   "metadata": {
    "id": "0h2UN-5WZrZc"
   },
   "source": [
    "### Решение с помощью QP Solver\n",
    "\n",
    "QP-solver решает такую задачу:\n",
    "\n",
    "$\\begin{cases}0.5 \\cdot x^\\text{T}Px + q^\\text{T}x\\rightarrow \\min_x\\\\Gx \\leq h\\\\Ax=b\\end{cases}$\n",
    "\n",
    "А наша задача формулируется так:\n",
    "\n",
    "$\\begin{cases}0.5 \\cdot w^\\text{T}w + C \\cdot \\sum \\xi_i \\rightarrow \\min_{w, \\xi} \\\\ \\xi \\geq 0 \\\\ y_i (w^\\text{T}x_i + w_0) \\geq 1 - \\xi_i \\end{cases}$\n",
    "\n",
    "Сведем ее к задаче QP-solver'а:\n",
    "\n",
    "$ x = (w, w_0, \\xi) \\\\ P = \n",
    "\\left[\n",
    "    \\begin{array}{c|c}\n",
    "      I & 0\\\\\n",
    "      \\hline\n",
    "      0 & 0\n",
    "    \\end{array}\n",
    "\\right] \\\\ \n",
    "q = \\left[\n",
    "    \\begin{array}{c}\n",
    "      0 \\\\\n",
    "      \\hline\n",
    "      C \n",
    "    \\end{array}\n",
    "\\right] \\\\ \n",
    " G = \n",
    "\\left[\n",
    "    \\begin{array}{c|c|c}\n",
    "      0 & 0 & -I\\\\\n",
    "      \\hline\n",
    "      -yX & -y & -I\n",
    "    \\end{array}\n",
    "\\right] \\\\ h = \\left[\n",
    "    \\begin{array}{c}\n",
    "      0 \\\\\n",
    "      \\hline\n",
    "      -1 \n",
    "    \\end{array}\n",
    "\\right] $"
   ]
  },
  {
   "cell_type": "code",
   "metadata": {
    "id": "rNrUCDcOHkAR"
   },
   "source": [
    "class LinearSVM:\n",
    "    def __init__(self, C: float):\n",
    "        \"\"\"\n",
    "        \n",
    "        Parameters\n",
    "        ----------\n",
    "        C : float\n",
    "            Soft margin coefficient.\n",
    "        \n",
    "        \"\"\"\n",
    "        self.C = C\n",
    "        self.support = None\n",
    "\n",
    "    def fit(self, X: np.ndarray, y: np.ndarray) -> NoReturn:\n",
    "        \"\"\"\n",
    "        Обучает SVM, решая задачу оптимизации при помощи cvxopt.solvers.qp\n",
    "        \n",
    "        Parameters\n",
    "        ----------\n",
    "        X : np.ndarray\n",
    "            Данные для обучения SVM.\n",
    "        y : np.ndarray\n",
    "            Бинарные метки классов для элементов X \n",
    "            (можно считать, что равны -1 или 1). \n",
    "        \n",
    "        \"\"\"\n",
    "        pass\n",
    "\n",
    "    def decision_function(self, X: np.ndarray) -> np.ndarray:\n",
    "        \"\"\"\n",
    "        Возвращает значение решающей функции.\n",
    "        \n",
    "        Parameters\n",
    "        ----------\n",
    "        X : np.ndarray\n",
    "            Данные, для которых нужно посчитать значение решающей функции.\n",
    "\n",
    "        Return\n",
    "        ------\n",
    "        np.ndarray\n",
    "            Значение решающей функции для каждого элемента X \n",
    "            (т.е. то число, от которого берем знак с целью узнать класс).     \n",
    "        \n",
    "        \"\"\"\n",
    "        pass\n",
    "\n",
    "    def predict(self, X: np.ndarray) -> np.ndarray:\n",
    "        \"\"\"\n",
    "        Классифицирует элементы X.\n",
    "        \n",
    "        Parameters\n",
    "        ----------\n",
    "        X : np.ndarray\n",
    "            Данные, которые нужно классифицировать\n",
    "\n",
    "        Return\n",
    "        ------\n",
    "        np.ndarray\n",
    "            Метка класса для каждого элемента X.   \n",
    "        \n",
    "        \"\"\"\n",
    "        return np.sign(self.decision_function(X))"
   ],
   "execution_count": 4,
   "outputs": []
  },
  {
   "cell_type": "code",
   "metadata": {
    "id": "BmjnoPkAHkAU"
   },
   "source": [
    "X, y = generate_dataset(True)\n",
    "svm = LinearSVM(1)\n",
    "svm.fit(X, y)\n",
    "visualize(svm, X, y)\n",
    "plt.show()"
   ],
   "execution_count": 5,
   "outputs": [
    {
     "ename": "TypeError",
     "evalue": "'<' not supported between instances of 'NoneType' and 'int'",
     "output_type": "error",
     "traceback": [
      "\u001B[0;31m---------------------------------------------------------------------------\u001B[0m",
      "\u001B[0;31mTypeError\u001B[0m                                 Traceback (most recent call last)",
      "\u001B[0;32m<ipython-input-5-6c21a6bef760>\u001B[0m in \u001B[0;36m<module>\u001B[0;34m\u001B[0m\n\u001B[1;32m      2\u001B[0m \u001B[0msvm\u001B[0m \u001B[0;34m=\u001B[0m \u001B[0mLinearSVM\u001B[0m\u001B[0;34m(\u001B[0m\u001B[0;36m1\u001B[0m\u001B[0;34m)\u001B[0m\u001B[0;34m\u001B[0m\u001B[0;34m\u001B[0m\u001B[0m\n\u001B[1;32m      3\u001B[0m \u001B[0msvm\u001B[0m\u001B[0;34m.\u001B[0m\u001B[0mfit\u001B[0m\u001B[0;34m(\u001B[0m\u001B[0mX\u001B[0m\u001B[0;34m,\u001B[0m \u001B[0my\u001B[0m\u001B[0;34m)\u001B[0m\u001B[0;34m\u001B[0m\u001B[0;34m\u001B[0m\u001B[0m\n\u001B[0;32m----> 4\u001B[0;31m \u001B[0mvisualize\u001B[0m\u001B[0;34m(\u001B[0m\u001B[0msvm\u001B[0m\u001B[0;34m,\u001B[0m \u001B[0mX\u001B[0m\u001B[0;34m,\u001B[0m \u001B[0my\u001B[0m\u001B[0;34m)\u001B[0m\u001B[0;34m\u001B[0m\u001B[0;34m\u001B[0m\u001B[0m\n\u001B[0m\u001B[1;32m      5\u001B[0m \u001B[0mplt\u001B[0m\u001B[0;34m.\u001B[0m\u001B[0mshow\u001B[0m\u001B[0;34m(\u001B[0m\u001B[0;34m)\u001B[0m\u001B[0;34m\u001B[0m\u001B[0;34m\u001B[0m\u001B[0m\n\u001B[1;32m      6\u001B[0m \u001B[0;34m\u001B[0m\u001B[0m\n",
      "\u001B[0;32m<ipython-input-2-e585d4b13651>\u001B[0m in \u001B[0;36mvisualize\u001B[0;34m(clf, X, y)\u001B[0m\n\u001B[1;32m     13\u001B[0m     \u001B[0mmesh\u001B[0m \u001B[0;34m=\u001B[0m \u001B[0mnp\u001B[0m\u001B[0;34m.\u001B[0m\u001B[0mc_\u001B[0m\u001B[0;34m[\u001B[0m\u001B[0mxx\u001B[0m\u001B[0;34m.\u001B[0m\u001B[0mravel\u001B[0m\u001B[0;34m(\u001B[0m\u001B[0;34m)\u001B[0m\u001B[0;34m,\u001B[0m \u001B[0myy\u001B[0m\u001B[0;34m.\u001B[0m\u001B[0mravel\u001B[0m\u001B[0;34m(\u001B[0m\u001B[0;34m)\u001B[0m\u001B[0;34m]\u001B[0m\u001B[0;34m\u001B[0m\u001B[0;34m\u001B[0m\u001B[0m\n\u001B[1;32m     14\u001B[0m \u001B[0;34m\u001B[0m\u001B[0m\n\u001B[0;32m---> 15\u001B[0;31m     \u001B[0mz_class\u001B[0m \u001B[0;34m=\u001B[0m \u001B[0mclf\u001B[0m\u001B[0;34m.\u001B[0m\u001B[0mpredict\u001B[0m\u001B[0;34m(\u001B[0m\u001B[0mmesh\u001B[0m\u001B[0;34m)\u001B[0m\u001B[0;34m.\u001B[0m\u001B[0mreshape\u001B[0m\u001B[0;34m(\u001B[0m\u001B[0mxx\u001B[0m\u001B[0;34m.\u001B[0m\u001B[0mshape\u001B[0m\u001B[0;34m)\u001B[0m\u001B[0;34m\u001B[0m\u001B[0;34m\u001B[0m\u001B[0m\n\u001B[0m\u001B[1;32m     16\u001B[0m \u001B[0;34m\u001B[0m\u001B[0m\n\u001B[1;32m     17\u001B[0m     \u001B[0;31m# Put the result into a color plot\u001B[0m\u001B[0;34m\u001B[0m\u001B[0;34m\u001B[0m\u001B[0;34m\u001B[0m\u001B[0m\n",
      "\u001B[0;32m<ipython-input-4-09cbb1255d3a>\u001B[0m in \u001B[0;36mpredict\u001B[0;34m(self, X)\u001B[0m\n\u001B[1;32m     60\u001B[0m \u001B[0;34m\u001B[0m\u001B[0m\n\u001B[1;32m     61\u001B[0m         \"\"\"\n\u001B[0;32m---> 62\u001B[0;31m         \u001B[0;32mreturn\u001B[0m \u001B[0mnp\u001B[0m\u001B[0;34m.\u001B[0m\u001B[0msign\u001B[0m\u001B[0;34m(\u001B[0m\u001B[0mself\u001B[0m\u001B[0;34m.\u001B[0m\u001B[0mdecision_function\u001B[0m\u001B[0;34m(\u001B[0m\u001B[0mX\u001B[0m\u001B[0;34m)\u001B[0m\u001B[0;34m)\u001B[0m\u001B[0;34m\u001B[0m\u001B[0;34m\u001B[0m\u001B[0m\n\u001B[0m\u001B[1;32m     63\u001B[0m \u001B[0;34m\u001B[0m\u001B[0m\n",
      "\u001B[0;31mTypeError\u001B[0m: '<' not supported between instances of 'NoneType' and 'int'"
     ]
    }
   ]
  },
  {
   "cell_type": "code",
   "metadata": {
    "id": "AZT_t8fGHkAb"
   },
   "source": [
    "X, y = generate_dataset(False)\n",
    "svm = LinearSVM(1)\n",
    "svm.fit(X, y)\n",
    "visualize(svm, X, y)\n",
    "plt.show()"
   ],
   "execution_count": null,
   "outputs": []
  },
  {
   "cell_type": "markdown",
   "metadata": {
    "id": "dRzYBbW3HkAe"
   },
   "source": [
    "### Задание 2 (2 балла)\n",
    "Перед реализацией ядерного SVM, реализуем функции, которые строят ядра.\n",
    "\n",
    "#### Описание\n",
    "`get_polynomial_kernel(power)` - возвращает полиномиальное ядро с заданной константой и степенью\n",
    "\n",
    "`get_gaussian_kernel(sigma=1.)` - возвращает ядро Гаусса с заданным коэффицинтом сигма"
   ]
  },
  {
   "cell_type": "code",
   "metadata": {
    "id": "C35q9i-XHkAf"
   },
   "source": [
    "def get_polynomial_kernel(c=1, power=2):\n",
    "    \"Возвращает полиномиальное ядро с заданной константой и степенью\"\n",
    "    pass\n",
    "\n",
    "def get_gaussian_kernel(sigma=1.):\n",
    "    \"Возвращает ядро Гаусса с заданным коэффицинтом сигма\"\n",
    "    pass"
   ],
   "execution_count": null,
   "outputs": []
  },
  {
   "cell_type": "markdown",
   "metadata": {
    "id": "2eRUsHsWHkAk"
   },
   "source": [
    "### Задание 3 (2 балла)\n",
    "Теперь перейдем к реализации самого kernel SVM.\n",
    "\n",
    "#### Описание\n",
    "`fit(X, y)` - обучает kernel SVM, решая задачу оптимизации при помощи `cvxopt.solvers.qp`\n",
    "\n",
    "`decision_function(X)` - возвращает значение решающей функции (т.е. то число, от которого берем знак с целью узнать класс)\n",
    "\n",
    "#### Конструктор\n",
    "`kernel` - ядро-функция"
   ]
  },
  {
   "cell_type": "markdown",
   "metadata": {
    "id": "Br8sSJhvZrZe"
   },
   "source": [
    "### Решение с помощью QP Solver\n",
    "\n",
    "QP-solver решает такую задачу:\n",
    "\n",
    "$\\begin{cases}0.5 \\cdot x^\\text{T}Px + q^\\text{T}x\\rightarrow \\min_x\\\\Gx \\leq h\\\\Ax=b\\end{cases}$\n",
    "\n",
    "Будем решать двойственную задачу. Формулируется она так:\n",
    "\n",
    "$\\begin{cases}\\sum \\alpha_i - 0.5 \\sum \\alpha_i \\alpha_j y_i y_j K(x_i, x_j) \\rightarrow \\max_{\\alpha}\\\\ C \\geq \\alpha \\geq 0 \\\\ y_i \\alpha = 0 \\end{cases}$\n",
    "\n",
    "Сведем ее к задаче QP-solver'а:\n",
    "\n",
    "$ x = \\alpha \\\\ P = \n",
    "\\left[ y_i y_j K(y_i, y_j) \\right] \\\\ \n",
    "q = \\left[ -1\n",
    "\\right] \\\\ \n",
    " G = \n",
    "\\left[\n",
    "    \\begin{array}{c}\n",
    "      I\\\\\n",
    "      \\hline\n",
    "      -I\n",
    "    \\end{array}\n",
    "\\right] \\\\ h = \\left[\n",
    "    \\begin{array}{c}\n",
    "      C \\\\\n",
    "      \\hline\n",
    "      0 \n",
    "    \\end{array}\n",
    "\\right] \\\\\n",
    "b = 0\\\\\n",
    "A = y^\\text{T}$\n",
    "\n",
    "В таком случае решающей функцией будет:\n",
    "\n",
    "$a(x) = \\text{sign} (\\sum \\alpha_i y_i K(x, x_i) + w_0)$, где $w_0 = \\frac{1}{n}\\sum\\limits_{i=1}^{n}[y_i - \\sum \\alpha_j y_j K(x_i, x_j)]$"
   ]
  },
  {
   "cell_type": "code",
   "metadata": {
    "id": "QAv6OaZoHkAl"
   },
   "source": [
    "class KernelSVM:\n",
    "    def __init__(self, C: float, kernel: Callable = linear_kernel):\n",
    "        \"\"\"\n",
    "        \n",
    "        Parameters\n",
    "        ----------\n",
    "        C : float\n",
    "            Soft margin coefficient.\n",
    "        kernel : Callable\n",
    "            Функция ядра.\n",
    "        \n",
    "        \"\"\"\n",
    "        self.C = C\n",
    "        self.kernel = kernel\n",
    "        self.support = None\n",
    "\n",
    "    def fit(self, X: np.ndarray, y: np.ndarray) -> NoReturn:\n",
    "        \"\"\"\n",
    "        Обучает SVM, решая задачу оптимизации при помощи cvxopt.solvers.qp\n",
    "        \n",
    "        Parameters\n",
    "        ----------\n",
    "        X : np.ndarray\n",
    "            Данные для обучения SVM.\n",
    "        y : np.ndarray\n",
    "            Бинарные метки классов для элементов X \n",
    "            (можно считать, что равны -1 или 1). \n",
    "        \n",
    "        \"\"\"\n",
    "        pass\n",
    "\n",
    "    def decision_function(self, X: np.ndarray) -> np.ndarray:\n",
    "        \"\"\"\n",
    "        Возвращает значение решающей функции.\n",
    "        \n",
    "        Parameters\n",
    "        ----------\n",
    "        X : np.ndarray\n",
    "            Данные, для которых нужно посчитать значение решающей функции.\n",
    "\n",
    "        Return\n",
    "        ------\n",
    "        np.ndarray\n",
    "            Значение решающей функции для каждого элемента X \n",
    "            (т.е. то число, от которого берем знак с целью узнать класс).     \n",
    "        \n",
    "        \"\"\"\n",
    "        pass\n",
    "\n",
    "    def predict(self, X: np.ndarray) -> np.ndarray:\n",
    "        \"\"\"\n",
    "        Классифицирует элементы X.\n",
    "        \n",
    "        Parameters\n",
    "        ----------\n",
    "        X : np.ndarray\n",
    "            Данные, которые нужно классифицировать\n",
    "\n",
    "        Return\n",
    "        ------\n",
    "        np.ndarray\n",
    "            Метка класса для каждого элемента X.   \n",
    "        \n",
    "        \"\"\"\n",
    "        return np.sign(self.decision_function(X))"
   ],
   "execution_count": null,
   "outputs": []
  },
  {
   "cell_type": "code",
   "metadata": {
    "id": "Zni-1xfpHkAr",
    "scrolled": false
   },
   "source": [
    "X, y = generate_dataset(True)\n",
    "svm = KernelSVM(1, kernel=get_polynomial_kernel(1, 3))\n",
    "svm.fit(X, y)\n",
    "visualize(svm, X, y)\n",
    "plt.show()"
   ],
   "execution_count": null,
   "outputs": []
  },
  {
   "cell_type": "code",
   "metadata": {
    "id": "_HSzzUsgHkAv"
   },
   "source": [
    "X, y = generate_dataset(False)\n",
    "svm = KernelSVM(1, kernel=get_polynomial_kernel(1, 3))\n",
    "svm.fit(X, y)\n",
    "visualize(svm, X, y)\n",
    "plt.show()"
   ],
   "execution_count": null,
   "outputs": []
  },
  {
   "cell_type": "code",
   "metadata": {
    "id": "lvN2NIefHkAx",
    "scrolled": false
   },
   "source": [
    "X, y = generate_dataset(True)\n",
    "svm = KernelSVM(1, kernel=get_gaussian_kernel(0.4))\n",
    "svm.fit(X, y)\n",
    "visualize(svm, X, y)\n",
    "plt.show()"
   ],
   "execution_count": null,
   "outputs": []
  },
  {
   "cell_type": "code",
   "metadata": {
    "id": "hsmyQUhpHkA0"
   },
   "source": [
    "X, y = generate_dataset(False)\n",
    "svm = KernelSVM(1, kernel=get_gaussian_kernel(0.4))\n",
    "svm.fit(X, y)\n",
    "visualize(svm, X, y)\n",
    "plt.show()"
   ],
   "execution_count": null,
   "outputs": []
  },
  {
   "cell_type": "markdown",
   "metadata": {
    "id": "H2t3tv3yHkA3"
   },
   "source": [
    "### Задание 4 (3 балла)\n",
    "Исследуйте и опишите влияние параметров каждого вида ядра на полученный классификатор. Что происходит при увеличении константы в полиномиальном ядре? При увеличении степени? Как влияет на результат сигма в ядре Гаусса?\n",
    "\n",
    "__При выполнении этого задания стоит написать код, который визуализирует классификаторы с различными ядрами__"
   ]
  },
  {
   "cell_type": "code",
   "metadata": {
    "id": "2q11tSF0HkA4"
   },
   "source": [],
   "execution_count": null,
   "outputs": []
  },
  {
   "cell_type": "code",
   "metadata": {
    "id": "lYURYC2AHkA_"
   },
   "source": [],
   "execution_count": null,
   "outputs": []
  },
  {
   "cell_type": "code",
   "metadata": {
    "id": "u89wg-0XHkBC"
   },
   "source": [],
   "execution_count": null,
   "outputs": []
  }
 ]
}