{
  "cells": [
    {
      "cell_type": "markdown",
      "metadata": {
        "id": "_Y3zVPujnszh"
      },
      "source": [
        "# Домашнее задание №6\n",
        "\n",
        "Задание присылать на обе почты почты aleksartamonov@gmail.com dashkov.alexander.om@gmail.com в виде ссылки на colab\n",
        "\n",
        "В теме письма указать **CV_HSE_2021 HW6 <Фамилия Имя>**\n",
        "\n",
        "soft deadline: 23.06.2020T23:59:00+0300\n",
        "\n",
        "hard deadline: 30.06.2020T23:59:00+0300"
      ]
    },
    {
      "cell_type": "code",
      "execution_count": 1,
      "metadata": {},
      "outputs": [],
      "source": [
        "# from google.colab import drive\n",
        "# drive.mount('/gdrive')\n",
        "# %cd /gdrive/MyDrive/Corel-10k/\n",
        "# %ls"
      ]
    },
    {
      "cell_type": "markdown",
      "metadata": {
        "id": "dFcjoYtZYZzj"
      },
      "source": [
        "# Поиск изображений по содержанию (30 (+20) баллов)\n",
        "\n",
        "Вам предстоит построить систему, которая позволит выполнить поиск изображений по содержанию в базе Corel-10k, которая приложена к домашнему заданию. База состоит из 100 классов изображений по 100 изображений в каждом классе. Имя каждого изображения в базе состоит из **X.JPEG**, где X - число от 1 до 10000. Изображения из одного класса лежат подряд в промежутке 1-100, 101-200, и тд. В файле **test.dat** лежит список картинок, которые не должны участвовать в построении поисковой базы, но по которым надо будет сделать 1000 поисковых запросов. Ограничение по памяти -- 2Гб.\n",
        "\n",
        "1. По изображениям не попавшим в **test.dat** посчитайте дескриптор с помощью алгоритма GIST.\n",
        "   \n",
        "2. Разбейте дескрипторы всех изображений на 100 кластеров с помощью K-Means.\n",
        "\n",
        "3. Для каждого кластера постройте функцию хэширования (LSH), с помощью которой закодируйте каждое изображение в тренировочной выборке.\n",
        "\n",
        "5. Релизуйте функцию `retrieve` продемонстрируйте работу `retrieve` на 5-ти случайных изображениях из **test.dat**. Замерьте время исполнения поискового запроса. Сделайте возможность вызвать `retrieve` без построения индекса, то есть приложите в решение индексированную базу, если только время построения индекса не укладывается в 1 минуту.  \n",
        "\n",
        "5. Сделайте 1000 запросов изображениями из файла **test.dat**.  Замерьте среднее время исполнения поискового запроса в colab ноутбуке.\n",
        "\n",
        "    \n",
        "6. Для каждого запроса нужно оценить AP@k, где k=10 и посчитать среднее значение этой величины по всем запросам (MAP). Формулу берем из этой презентации: https://web.stanford.edu/class/cs276/handouts/EvaluationNew-handout-1-per.pdf\n",
        "\n",
        "Так же за это задание можно получить еще до 20-ти дополнительных баллов. \n",
        "\n",
        "1. Вы можете сделать быстрый поиск. Если качество вашего поиска окажется выше, чем медиана качества по всем поисковым движкам, то вы принимаете участие в \n",
        "борьбе за 10 призовых баллов. Первое место получает 10 баллов, второе 9, третье 8 и т.д. \n",
        "\n",
        "2. Вы можете сделать хороший поиск. Если ваш поиск окажется быстрее, чем медиана среднего времени работы других участников, то вы принимаете участие в борьбе за точный поиск. Распределение баллов здесь будет такое же как и в конкурсе на скорость. \n",
        "\n",
        "Для достижения лучших результатов вам придется регулировать несколько параметров алгоритма:\n",
        "- Дескриптор. Можете взять что угодно вместо GIST\n",
        "- Количество кластеров k-means\n",
        "- Длину кода LSH\n",
        "- etc \n",
        "\n",
        "Принципиально нельзя использовать готовые поисковые движки (annoy, faiss, etc, ..). И помните о том, что время поиска – очень важный параметр.\n",
        "В случае использования нейросети инференс картинки производите без GPU ускорителя. Для обучения использовать GPU можно. Безусловно **не используйте изобржения из test.dat для обучения сети или построения поисковой базы**. \n",
        "\n",
        "\n",
        "\n",
        "---\n",
        "\n",
        "\n",
        "\n",
        "Для итогового отчета посторойте таблицу в которой будет указано имя метода, значение MAP для этого метода, среднее время работы функции `revtrive` оцененное через утилиту `timeit` внутри GoogleCollab. (Базу вы можете построить на персональном копьютере.)"
      ]
    },
    {
      "cell_type": "code",
      "execution_count": 2,
      "metadata": {},
      "outputs": [],
      "source": [
        "import os, cv2\n",
        "import numpy as np\n",
        "import matplotlib.pyplot as plt\n",
        "from sklearn.cluster import KMeans\n",
        "from numpy.lib import stride_tricks\n",
        "from joblib import delayed, Parallel\n",
        "import pickle"
      ]
    },
    {
      "cell_type": "code",
      "execution_count": 3,
      "metadata": {},
      "outputs": [],
      "source": [
        "class LshCode:\n",
        "    def __init__(self, centroids, descriptors, length):\n",
        "        self.centroids = centroids\n",
        "        self.length = length\n",
        "        \n",
        "        # points = (descriptors - centroids).copy()\n",
        "        points = descriptors.copy()\n",
        "        \n",
        "        self.norm_array = np.random.uniform(-100, 100, (self.length, points.shape[1]))\n",
        "        self.norm_array /= np.linalg.norm(self.norm_array, axis=1).reshape(-1,1)\n",
        "        self.c = np.random.normal(0, np.median(np.std(points, 0)), self.length)\n",
        "        \n",
        "        self.lsh_codes = np.zeros((self.length, len(points)))\n",
        "        for i in range(self.length):\n",
        "            self.lsh_codes[i] = points.dot(self.norm_array[i]) + self.c[i] > 0\n",
        "        self.lsh_codes = self.lsh_codes.T\n",
        "        \n",
        "    def create_lsh_code(self, point):\n",
        "        # p = (point -  self.centroids).copy()\n",
        "        p = point.copy()\n",
        "        lsh_code = np.zeros(self.length)\n",
        "        for i in range(self.length):\n",
        "            lsh_code[i] = p.dot(self.norm_array[i]) + self.c[i] > 0\n",
        "        return lsh_code\n",
        "    \n",
        "    \n",
        "def gabour_bank(phi_bins, scale_bins, max_scale, min_scale, sigma_scale=0.5, psi=0):\n",
        "    \"\"\"\n",
        "    Parameters:\n",
        "    size (tuple|int): Size or radius of filters.\n",
        "    phi_bins (int): Number of angle beens of bank\n",
        "    scale_bins (int): Number of scales betwwen max_scale and min_scale\n",
        "    max_scale (float): Max frequency covered by bank\n",
        "    min_scale (float): Min frequency covered by bank\n",
        "    Returns:\n",
        "    list: a list of filters\n",
        "    \"\"\"\n",
        "\n",
        "    lambdas = np.linspace(min_scale, max_scale, scale_bins)\n",
        "    thetas = np.linspace(0, np.pi, phi_bins, endpoint=False)\n",
        "    filters = []\n",
        "    for theta in thetas:\n",
        "        for lam in lambdas:\n",
        "            size_ = int(1.5 * lam)\n",
        "            sigma = sigma_scale * lam\n",
        "            kernel = cv2.getGaborKernel((size_, size_), sigma, theta, lam, gamma=1, psi=psi)\n",
        "            kernel /= np.sqrt((kernel * kernel).sum())\n",
        "            filters.append(np.copy(kernel))\n",
        "    return filters\n",
        "\n",
        "\n",
        "class Gist:\n",
        "    def __init__(self, filters, phi_bins=6, scale_bins=5, window_size = 4):\n",
        "        self.win = window_size\n",
        "        self.w = phi_bins\n",
        "        self.h = scale_bins\n",
        "        self.filters = filters\n",
        "\n",
        "    def get_gist_descriptor(self, image):\n",
        "        h, w, c = image.shape\n",
        "        \n",
        "        res = np.zeros((self.h * h, self.w * w, c), dtype = 'float')\n",
        "        res1 = np.zeros((self.h * self.win, self.w * self.win, c), dtype = 'float')\n",
        "\n",
        "        descriptor = []\n",
        "\n",
        "        for i in range(self.h):\n",
        "            for j in range(self.w):\n",
        "                temp = cv2.filter2D(image, -1, self.filters[self.w * i + j])\n",
        "                res[i * h:(i + 1) * h, j * w:(j + 1) * w] = \\\n",
        "                    cv2.normalize(temp, None, alpha=0, beta=1, norm_type=cv2.NORM_MINMAX, dtype=cv2.CV_32F)\n",
        "                for y in range(self.win):\n",
        "                    for x in range(self.win):\n",
        "                        res1[i * self.win + y, j * self.win + x] = \\\n",
        "                            np.mean(res[i * h + int(y * h / self.win):i * h + int((y + 1) * h / self.win), \n",
        "                                        j * w + int(x * w / self.win):j * w + int((x + 1) * w / self.win)], \n",
        "                                    axis = (0, 1))\n",
        "                descriptor.extend(res1[i * self.win:(i + 1) * self.win, \n",
        "                                       j * self.win:(j + 1) * self.win].flatten())\n",
        "        return np.array(descriptor)\n",
        "    \n",
        "    \n",
        "class MyDataset:\n",
        "    def __init__(self, imgs_name, resize=False):\n",
        "        self.photo_names = imgs_name\n",
        "        self.resize = resize\n",
        "    \n",
        "    def __getitem__(self, index):\n",
        "        img = cv2.imread(self.photo_names[index])\n",
        "        if self.resize:\n",
        "            img = cv2.resize(img, (128, 128))\n",
        "        return img\n",
        "    \n",
        "    def __len__(self):\n",
        "        return len(self.photo_names)"
      ]
    },
    {
      "cell_type": "code",
      "execution_count": 4,
      "metadata": {},
      "outputs": [
        {
          "name": "stdout",
          "output_type": "stream",
          "text": [
            "9000 1000\n"
          ]
        }
      ],
      "source": [
        "# Extract train/test imgs\n",
        "\n",
        "base_path = \"Corel-10k\"\n",
        "img_paths = os.listdir(f\"{base_path}/Images\")\n",
        "\n",
        "imgs_train = []\n",
        "imgs_test = []\n",
        "\n",
        "with open(f\"{base_path}/test.dat\", \"r\") as test:\n",
        "  for test_img in test.readlines():\n",
        "    imgs_test.append(test_img.strip())\n",
        "\n",
        "for img in img_paths:\n",
        "  if img  not in imgs_test:\n",
        "    imgs_train.append(f\"{base_path}/Images/\" + img)\n",
        "    \n",
        "imgs_test = [f\"{base_path}/Images/\" + img for img in imgs_test]\n",
        "\n",
        "train_ids = np.array([int(os.path.basename(img)[:-4]) for img in imgs_train])\n",
        "test_ids = np.array([int(os.path.basename(img)[:-4]) for img in imgs_test])\n",
        "\n",
        "train_ds = MyDataset(imgs_train, resize=False)\n",
        "test_ds = MyDataset(imgs_test, resize=False)\n",
        "print(len(train_ds), len(test_ds))"
      ]
    },
    {
      "cell_type": "code",
      "execution_count": 5,
      "metadata": {},
      "outputs": [
        {
          "name": "stdout",
          "output_type": "stream",
          "text": [
            "64\n"
          ]
        },
        {
          "data": {
            "image/png": "[encoded data removed]",
            "text/plain": [
              "<Figure size 1800x360 with 8 Axes>"
            ]
          },
          "metadata": {
            "needs_background": "light"
          },
          "output_type": "display_data"
        }
      ],
      "source": [
        "# Get array of filters\n",
        "scale_bins = 8\n",
        "phi_bins = 8\n",
        "filters = gabour_bank(phi_bins=phi_bins, scale_bins=scale_bins, max_scale=18, min_scale=3, sigma_scale=0.5)\n",
        "print(len(filters))\n",
        "plt.figure(figsize=(25, 5))\n",
        "for i, flt in enumerate(filters[:scale_bins]):\n",
        "    plt.subplot(1, scale_bins, i + 1)\n",
        "    plt.imshow(flt)"
      ]
    },
    {
      "cell_type": "code",
      "execution_count": 6,
      "metadata": {},
      "outputs": [
        {
          "name": "stdout",
          "output_type": "stream",
          "text": [
            "(9000, 4800) (1000, 4800)\n"
          ]
        }
      ],
      "source": [
        "gist = Gist(filters, phi_bins=phi_bins, scale_bins=scale_bins, window_size=5)\n",
        "\n",
        "get_emb = delayed(gist.get_gist_descriptor)\n",
        "\n",
        "if os.path.exists(\"train_embeddings.npy\"):\n",
        "    train_embeddings = np.load(\"train_embeddings.npy\")\n",
        "else:\n",
        "    train_embeddings = np.array(Parallel(n_jobs=8)(get_emb(img) for img in train_ds))\n",
        "    np.save(\"train_embeddings.npy\", train_embeddings)\n",
        "    \n",
        "if os.path.exists(\"test_embeddings.npy\"):\n",
        "    test_embeddings = np.load(\"test_embeddings.npy\")\n",
        "else:\n",
        "    test_embeddings = np.array(Parallel(n_jobs=8)(get_emb(img) for img in test_ds))\n",
        "    np.save(\"test_embeddings.npy\", test_embeddings)\n",
        "    \n",
        "print(train_embeddings.shape, test_embeddings.shape)"
      ]
    },
    {
      "cell_type": "code",
      "execution_count": 7,
      "metadata": {},
      "outputs": [
        {
          "name": "stdout",
          "output_type": "stream",
          "text": [
            "(100, 4800)\n"
          ]
        }
      ],
      "source": [
        "num_clusters = 100\n",
        "\n",
        "if os.path.exists(\"kmeans.pkl\"):\n",
        "    with open(\"kmeans.pkl\", \"rb\") as km:\n",
        "        kmeans = pickle.load(km)\n",
        "else:\n",
        "    kmeans = KMeans(n_clusters=num_clusters, n_init=50)\n",
        "    kmeans.fit(train_embeddings)\n",
        "\n",
        "    with open(\"kmeans.pkl\", \"wb+\") as km:\n",
        "        pickle.dump(kmeans, km)\n",
        "        \n",
        "cluster_ids = kmeans.labels_\n",
        "centroids = kmeans.cluster_centers_\n",
        "print(centroids.shape)"
      ]
    },
    {
      "cell_type": "code",
      "execution_count": 8,
      "metadata": {},
      "outputs": [],
      "source": [
        "lsh_len = 10\n",
        "lsh_array = []\n",
        "for cluster in range(num_clusters):\n",
        "    lsh_array.append(LshCode(centroids[cluster], train_embeddings[cluster == cluster_ids], length=lsh_len))"
      ]
    },
    {
      "cell_type": "code",
      "execution_count": 9,
      "metadata": {},
      "outputs": [],
      "source": [
        "def retrive(img, gist, kmeans, train_embeddings, lsh_array, train_ids, k=10):\n",
        "    cluster_ids = kmeans.labels_\n",
        "    centroids = kmeans.cluster_centers_\n",
        "    lsh_length = lsh_array[0].length\n",
        "    num_clusters = centroids.shape[0]\n",
        "    \n",
        "    cur_point = gist.get_gist_descriptor(img)\n",
        "\n",
        "    cluster_distance = np.apply_along_axis(lambda x: np.linalg.norm(cur_point - x), 1, centroids)\n",
        "\n",
        "    res_positions = np.zeros(train_embeddings.shape[0], dtype=bool)\n",
        "    nearest_clusters = np.argsort(cluster_distance)[:int(0.1 * num_clusters)]\n",
        "\n",
        "    for cur_cluster in nearest_clusters:\n",
        "        cur_lsh = lsh_array[cur_cluster]\n",
        "        point_lsh = cur_lsh.create_lsh_code(cur_point) \n",
        "        res_positions[cluster_ids == cur_cluster] = \\\n",
        "            np.sum(np.abs(cur_lsh.lsh_codes - point_lsh), 1) < int(0.5 * lsh_length) \n",
        "\n",
        "    res_points = train_embeddings[res_positions]\n",
        "    res_distance = np.apply_along_axis(lambda x: np.linalg.norm(cur_point - x), 1, res_points)\n",
        "\n",
        "    k_nearest_position = train_ids[res_positions][np.argsort(res_distance)[:k]]\n",
        "    return k_nearest_position\n",
        "\n",
        "def apk(point_class, k_nearest_class):\n",
        "    true_position = np.where(k_nearest_class == point_class)[0]\n",
        "    ap = 0\n",
        "    if len(true_position) > 0:\n",
        "        for i in range(len(true_position)):\n",
        "            ap += (i + 1) / (true_position[i] + 1)\n",
        "        ap /= len(true_position)\n",
        "    return ap"
      ]
    },
    {
      "cell_type": "code",
      "execution_count": 10,
      "metadata": {},
      "outputs": [
        {
          "name": "stdout",
          "output_type": "stream",
          "text": [
            "106 ms ± 210 µs per loop (mean ± std. dev. of 7 runs, 10 loops each)\n"
          ]
        }
      ],
      "source": [
        "%%timeit\n",
        "\n",
        "img = test_ds[0]\n",
        "k_nearest = retrive(img, gist, kmeans, train_embeddings, lsh_array, train_ids, k=10) // 100\n",
        "point_class = test_ids[0] // 100\n",
        "_ = apk(point_class, k_nearest)"
      ]
    },
    {
      "cell_type": "code",
      "execution_count": 11,
      "metadata": {},
      "outputs": [
        {
          "name": "stdout",
          "output_type": "stream",
          "text": [
            "0.4944002765180146\n"
          ]
        }
      ],
      "source": [
        "# %%timeit\n",
        "# Это не распараллелинное вычисление\n",
        "ap_array = []\n",
        "for idx, img in enumerate(test_ds):\n",
        "    k_nearest = retrive(img, gist, kmeans, train_embeddings, lsh_array, train_ids, k=10) // 100\n",
        "    point_class = test_ids[idx] // 100\n",
        "    ap_array.append(apk(point_class, k_nearest))\n",
        "print(np.mean(ap_array))"
      ]
    },
    {
      "cell_type": "markdown",
      "metadata": {},
      "source": [
        "Времена в целом совпадают, если усреднить по размеру датасета. Так как timeit не выдал предупреждения о возможном кэширровании (т.е. самый медленный прогон проходит примерно за столько же, сколько и самый быстрый), то можно судить о том, что кэширования на самом деле не происходило (по крайней мере локально у меня все ок работает, на колабе почему-то все ломается, и даже MAP сваливается на порядок меньше, вероятно, пиклы как-то криво подгружаются)"
      ]
    },
    {
      "cell_type": "markdown",
      "metadata": {},
      "source": [
        "# HPO"
      ]
    },
    {
      "cell_type": "code",
      "execution_count": 12,
      "metadata": {},
      "outputs": [],
      "source": [
        "def pipeline(cfg):\n",
        "    def retrieve(index, k = 10):\n",
        "        cur_point = test_embeddings[index]\n",
        "\n",
        "        cluster_distance = np.apply_along_axis(lambda x: np.linalg.norm(cur_point - x), 1, centroids)\n",
        "\n",
        "        res_positions = np.zeros(train_embeddings.shape[0], dtype=bool)\n",
        "        nearest_clusters = np.argsort(cluster_distance)[:int(0.1 * num_clusters)]\n",
        "\n",
        "        for cur_cluster in nearest_clusters:\n",
        "            cur_lsh = lsh_array[cur_cluster]\n",
        "            point_lsh = cur_lsh.create_lsh_code(cur_point) \n",
        "            res_positions[cluster_ids == cur_cluster] = \\\n",
        "                np.sum(np.abs(cur_lsh.get_lsh_codes() - point_lsh), 1) < int(0.5*cfg[\"lsh_length\"]) \n",
        "\n",
        "        res_points = train_embeddings[res_positions]\n",
        "        res_distance = np.apply_along_axis(lambda x: np.linalg.norm(cur_point - x), 1, res_points)\n",
        "\n",
        "        k_nearest_position = train_ids[res_positions][np.argsort(res_distance)[:k]]\n",
        "        return k_nearest_position\n",
        "    \n",
        "    \n",
        "    def apk(index, retrieve=retrieve, k = 10):\n",
        "        cur_pos = test_ids[index]\n",
        "        point_class = cur_pos // 100\n",
        "        \n",
        "        k_nearest_class = retrieve(index, k=k) // 100\n",
        "        \n",
        "        true_position = np.where(k_nearest_class == point_class)[0]\n",
        "        ap = 0\n",
        "        if len(true_position) > 0:\n",
        "            for i in range(len(true_position)):\n",
        "                ap += (i + 1) / (true_position[i] + 1)\n",
        "            ap /= len(true_position)\n",
        "        return ap\n",
        "    \n",
        "    \n",
        "    get_ap = delayed(apk)\n",
        "    \n",
        "    \n",
        "    filters = gabour_bank(phi_bins=cfg[\"phi_bins\"], scale_bins=cfg[\"scale_bins\"], \n",
        "                          max_scale=cfg[\"max_scale\"], min_scale=cfg[\"min_scale\"], \n",
        "                          sigma_scale=cfg[\"sigma_scale\"])\n",
        "    \n",
        "    gist = Gist(filters, phi_bins=cfg[\"phi_bins\"], scale_bins=cfg[\"scale_bins\"], \n",
        "                window_size=cfg[\"window_size\"])\n",
        "\n",
        "    get_emb = delayed(gist.get_gist_descriptor)\n",
        "\n",
        "    train_embeddings = np.array(Parallel(n_jobs=8)(get_emb(img) for img in train_ds))\n",
        "    test_embeddings = np.array(Parallel(n_jobs=8)(get_emb(img) for img in test_ds))\n",
        "    \n",
        "    kmeans = KMeans(n_clusters=cfg[\"num_clusters\"], n_init=50)\n",
        "    kmeans.fit(train_embeddings)\n",
        "    cluster_ids = kmeans.labels_\n",
        "    centroids = kmeans.cluster_centers_\n",
        "    \n",
        "    lsh_array = []\n",
        "    for cluster in range(cfg[\"num_clusters\"]):\n",
        "        lsh_array.append(LshCode(centroids[cluster], train_embeddings[cluster == cluster_ids], \n",
        "                                 length=cfg[\"lsh_length\"]))\n",
        "        \n",
        "    get_ap = delayed(apk)\n",
        "    gist_map = np.mean(np.array(Parallel(n_jobs=8)(get_ap(i, retrieve) for i in range(test_embeddings.shape[0]))))\n",
        "    # naive_map = np.mean(np.array(Parallel(n_jobs=8)(get_ap(i, retrieve_naive) for i in range(test_embeddings.shape[0]))))\n",
        "    naive_map = -1\n",
        "        \n",
        "    return gist_map, naive_map\n",
        "    "
      ]
    },
    {
      "cell_type": "code",
      "execution_count": 13,
      "metadata": {},
      "outputs": [],
      "source": [
        "cfgs = []\n",
        "\n",
        "cfg_base = {\n",
        "    \"size\": 11,\n",
        "    \"phi_bins\": 6,\n",
        "    \"scale_bins\": 5,\n",
        "    \"max_scale\": 18,\n",
        "    \"min_scale\": 3,\n",
        "    \"sigma_scale\": 0.5,\n",
        "    \"window_size\": 4,\n",
        "    \"num_clusters\": 100,\n",
        "    \"lsh_length\": 10,\n",
        "}\n",
        "\n",
        "for phi_bins in (4, 6, 8):\n",
        "    for scale_bins in (3, 5, 7):\n",
        "        for max_scale in (18,):\n",
        "            for min_scale in (3,):\n",
        "                for sigma_scale in (0.1, 0.3, 0.5,):\n",
        "                    for windows_size in (4, 5):\n",
        "                        for num_clusters in (100,):\n",
        "                            for lsh_length in (10,):\n",
        "                                cfgs.append({\n",
        "                                    \"size\": 11,\n",
        "                                    \"phi_bins\": phi_bins,\n",
        "                                    \"scale_bins\": scale_bins,\n",
        "                                    \"max_scale\": max_scale,\n",
        "                                    \"min_scale\": min_scale,\n",
        "                                    \"sigma_scale\": sigma_scale,\n",
        "                                    \"window_size\": windows_size,\n",
        "                                    \"num_clusters\": num_clusters,\n",
        "                                    \"lsh_length\": lsh_length,\n",
        "                                })\n"
      ]
    },
    {
      "cell_type": "code",
      "execution_count": 14,
      "metadata": {},
      "outputs": [],
      "source": [
        "# import pprint\n",
        "# from tqdm.notebook import tqdm\n",
        "\n",
        "# naive_map_best = 0\n",
        "# gist_map_best = 0\n",
        "# for cfg in tqdm(cfgs):\n",
        "#     pprint.pprint(cfg)\n",
        "#     gist_map, naive_map = pipeline(cfg)\n",
        "#     if gist_map > gist_map_best:\n",
        "#         gist_map_best = gist_map\n",
        "#         gist_cfg = cfg.copy()\n",
        "#     if naive_map > naive_map_best:\n",
        "#         naive_map_best = naive_map\n",
        "#         naive_cfg = cfg.copy\n",
        "#     print(gist_map, naive_map)\n",
        "\n",
        "# pprint.pprint(gist_cfg)\n",
        "# print()\n",
        "# pprint.pprint(naive_cfg)"
      ]
    },
    {
      "cell_type": "code",
      "execution_count": null,
      "metadata": {},
      "outputs": [],
      "source": []
    }
  ],
  "metadata": {
    "colab": {
      "collapsed_sections": [],
      "name": "Копия блокнота \"Поиск изображений \"HW6.ipynb\"\"",
      "provenance": []
    },
    "interpreter": {
      "hash": "71f4a8a05e914619e6ce849cc212b7860cf82baee4b36c2033f2d6275d70daac"
    },
    "kernelspec": {
      "display_name": "Python 3.8.5 64-bit ('ml': pyenv)",
      "name": "python3"
    },
    "language_info": {
      "codemirror_mode": {
        "name": "ipython",
        "version": 3
      },
      "file_extension": ".py",
      "mimetype": "text/x-python",
      "name": "python",
      "nbconvert_exporter": "python",
      "pygments_lexer": "ipython3",
      "version": "3.8.5"
    }
  },
  "nbformat": 4,
  "nbformat_minor": 0
}