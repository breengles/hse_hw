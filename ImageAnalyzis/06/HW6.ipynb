{
  "cells": [
    {
      "cell_type": "markdown",
      "metadata": {
        "id": "_Y3zVPujnszh"
      },
      "source": [
        "# Домашнее задание №6\n",
        "\n",
        "Задание присылать на обе почты почты aleksartamonov@gmail.com dashkov.alexander.om@gmail.com в виде ссылки на colab\n",
        "\n",
        "В теме письма указать **CV_HSE_2021 HW6 <Фамилия Имя>**\n",
        "\n",
        "soft deadline: 23.06.2020T23:59:00+0300\n",
        "\n",
        "hard deadline: 30.06.2020T23:59:00+0300"
      ]
    },
    {
      "cell_type": "code",
      "execution_count": null,
      "metadata": {},
      "outputs": [],
      "source": [
        "# from google.colab import drive\n",
        "# drive.mount('/gdrive')\n",
        "# %cd /gdrive/MyDrive/Corel-10k/\n",
        "# %ls"
      ]
    },
    {
      "cell_type": "markdown",
      "metadata": {
        "id": "dFcjoYtZYZzj"
      },
      "source": [
        "# Поиск изображений по содержанию (30 (+20) баллов)\n",
        "\n",
        "Вам предстоит построить систему, которая позволит выполнить поиск изображений по содержанию в базе Corel-10k, которая приложена к домашнему заданию. База состоит из 100 классов изображений по 100 изображений в каждом классе. Имя каждого изображения в базе состоит из **X.JPEG**, где X - число от 1 до 10000. Изображения из одного класса лежат подряд в промежутке 1-100, 101-200, и тд. В файле **test.dat** лежит список картинок, которые не должны участвовать в построении поисковой базы, но по которым надо будет сделать 1000 поисковых запросов. Ограничение по памяти -- 2Гб.\n",
        "\n",
        "1. По изображениям не попавшим в **test.dat** посчитайте дескриптор с помощью алгоритма GIST.\n",
        "   \n",
        "2. Разбейте дескрипторы всех изображений на 100 кластеров с помощью K-Means.\n",
        "\n",
        "3. Для каждого кластера постройте функцию хэширования (LSH), с помощью которой закодируйте каждое изображение в тренировочной выборке.\n",
        "\n",
        "5. Релизуйте функцию `retrieve` продемонстрируйте работу `retrieve` на 5-ти случайных изображениях из **test.dat**. Замерьте время исполнения поискового запроса. Сделайте возможность вызвать `retrieve` без построения индекса, то есть приложите в решение индексированную базу, если только время построения индекса не укладывается в 1 минуту.  \n",
        "\n",
        "5. Сделайте 1000 запросов изображениями из файла **test.dat**.  Замерьте среднее время исполнения поискового запроса в colab ноутбуке.\n",
        "\n",
        "    \n",
        "6. Для каждого запроса нужно оценить AP@k, где k=10 и посчитать среднее значение этой величины по всем запросам (MAP). Формулу берем из этой презентации: https://web.stanford.edu/class/cs276/handouts/EvaluationNew-handout-1-per.pdf\n",
        "\n",
        "Так же за это задание можно получить еще до 20-ти дополнительных баллов. \n",
        "\n",
        "1. Вы можете сделать быстрый поиск. Если качество вашего поиска окажется выше, чем медиана качества по всем поисковым движкам, то вы принимаете участие в \n",
        "борьбе за 10 призовых баллов. Первое место получает 10 баллов, второе 9, третье 8 и т.д. \n",
        "\n",
        "2. Вы можете сделать хороший поиск. Если ваш поиск окажется быстрее, чем медиана среднего времени работы других участников, то вы принимаете участие в борьбе за точный поиск. Распределение баллов здесь будет такое же как и в конкурсе на скорость. \n",
        "\n",
        "Для достижения лучших результатов вам придется регулировать несколько параметров алгоритма:\n",
        "- Дескриптор. Можете взять что угодно вместо GIST\n",
        "- Количество кластеров k-means\n",
        "- Длину кода LSH\n",
        "- etc \n",
        "\n",
        "Принципиально нельзя использовать готовые поисковые движки (annoy, faiss, etc, ..). И помните о том, что время поиска – очень важный параметр.\n",
        "В случае использования нейросети инференс картинки производите без GPU ускорителя. Для обучения использовать GPU можно. Безусловно **не используйте изобржения из test.dat для обучения сети или построения поисковой базы**. \n",
        "\n",
        "\n",
        "\n",
        "---\n",
        "\n",
        "\n",
        "\n",
        "Для итогового отчета посторойте таблицу в которой будет указано имя метода, значение MAP для этого метода, среднее время работы функции `revtrive` оцененное через утилиту `timeit` внутри GoogleCollab. (Базу вы можете построить на персональном копьютере.)"
      ]
    },
    {
      "cell_type": "code",
      "execution_count": 1,
      "metadata": {},
      "outputs": [],
      "source": [
        "import os, cv2\n",
        "import numpy as np\n",
        "import matplotlib.pyplot as plt\n",
        "from sklearn.cluster import KMeans\n",
        "from numpy.lib import stride_tricks\n",
        "from joblib import delayed, Parallel\n",
        "from dataset import MyDataset\n",
        "from lsh import LshCode\n",
        "from utils import *\n",
        "from gist import Gist\n",
        "import pickle"
      ]
    },
    {
      "cell_type": "code",
      "execution_count": 2,
      "metadata": {},
      "outputs": [
        {
          "name": "stdout",
          "output_type": "stream",
          "text": [
            "9000 1000\n"
          ]
        }
      ],
      "source": [
        "# Extract train imgs\n",
        "\n",
        "base_path = \"Corel-10k\"\n",
        "img_paths = os.listdir(f\"{base_path}/Images\")\n",
        "\n",
        "imgs_train = []\n",
        "imgs_test = []\n",
        "\n",
        "with open(f\"{base_path}/test.dat\", \"r\") as test:\n",
        "  for test_img in test.readlines():\n",
        "    imgs_test.append(test_img.strip())\n",
        "\n",
        "for img in img_paths:\n",
        "  if img  not in imgs_test:\n",
        "    imgs_train.append(\"Corel-10k/Images/\" + img)\n",
        "    \n",
        "imgs_test = [f\"Corel-10k/Images/\" + img for img in imgs_test]\n",
        "\n",
        "train_ids = np.array([int(os.path.basename(img)[:-4]) for img in imgs_train])\n",
        "test_ids = np.array([int(os.path.basename(img)[:-4]) for img in imgs_test])\n",
        "\n",
        "train_ds = MyDataset(imgs_train)\n",
        "test_ds = MyDataset(imgs_test)\n",
        "print(len(train_ds), len(test_ds))"
      ]
    },
    {
      "cell_type": "code",
      "execution_count": 3,
      "metadata": {},
      "outputs": [
        {
          "name": "stdout",
          "output_type": "stream",
          "text": [
            "18\n"
          ]
        },
        {
          "data": {
            "image/png": "[encoded data removed]",
            "text/plain": [
              "<Figure size 1800x360 with 3 Axes>"
            ]
          },
          "metadata": {
            "needs_background": "light"
          },
          "output_type": "display_data"
        }
      ],
      "source": [
        "# Get array of filters\n",
        "scale_bins = 3\n",
        "phi_bins = 6\n",
        "filters = gabour_bank(size=11, phi_bins=phi_bins, scale_bins=scale_bins, max_scale=18, min_scale=3, sigma_scale=0.5)\n",
        "print(len(filters))\n",
        "plt.figure(figsize=(25, 5))\n",
        "for i, flt in enumerate(filters[:scale_bins]):\n",
        "    plt.subplot(1, scale_bins, i + 1)\n",
        "    plt.imshow(flt)"
      ]
    },
    {
      "cell_type": "code",
      "execution_count": 4,
      "metadata": {},
      "outputs": [],
      "source": [
        "gist = Gist(filters, phi_bins=phi_bins, scale_bins=scale_bins, window_size=4)\n",
        "\n",
        "get_emb = delayed(gist.get_gist_descriptor)\n",
        "\n",
        "if os.path.exists(\"train_embeddings.pkl\"):\n",
        "    with open(\"train_embeddings.pkl\", \"rb\") as tr_emb:\n",
        "        train_embeddings = pickle.load(tr_emb)\n",
        "else:\n",
        "    train_embeddings = np.array(Parallel(n_jobs=8)(get_emb(img) for img in train_ds))\n",
        "    with open(\"train_embeddings.pkl\", \"wb+\") as tr_emb:\n",
        "        pickle.dump(train_embeddings, tr_emb)\n",
        "    \n",
        "if os.path.exists(\"test_embeddings.pkl\"):\n",
        "    with open(\"test_embeddings.pkl\", \"rb\") as test_emb:\n",
        "        test_embeddings = pickle.load(test_emb)\n",
        "else:\n",
        "    test_embeddings = np.array(Parallel(n_jobs=8)(get_emb(img) for img in test_ds))\n",
        "    with open(\"test_embeddings.pkl\", \"wb+\") as test_emb:\n",
        "        pickle.dump(test_embeddings, test_emb)"
      ]
    },
    {
      "cell_type": "code",
      "execution_count": 5,
      "metadata": {},
      "outputs": [
        {
          "name": "stdout",
          "output_type": "stream",
          "text": [
            "(100, 864)\n"
          ]
        }
      ],
      "source": [
        "num_clusters = 100\n",
        "\n",
        "if os.path.exists(\"kmeans.pkl\"):\n",
        "    with open(\"kmeans.pkl\", \"rb\") as km:\n",
        "        kmeans = pickle.load(km)\n",
        "else:\n",
        "    kmeans = KMeans(n_clusters=num_clusters, n_init=50)\n",
        "    kmeans.fit(train_embeddings)\n",
        "\n",
        "    with open(\"kmeans.pkl\", \"wb+\") as km:\n",
        "        pickle.dump(kmeans, km)\n",
        "        \n",
        "cluster_ids = kmeans.labels_\n",
        "centroids = kmeans.cluster_centers_\n",
        "print(centroids.shape)"
      ]
    },
    {
      "cell_type": "code",
      "execution_count": 6,
      "metadata": {},
      "outputs": [],
      "source": [
        "lsh_len = 10\n",
        "lsh_array = []\n",
        "for cluster in range(num_clusters):\n",
        "    lsh_array.append(LshCode(centroids[cluster], train_embeddings[cluster == cluster_ids], length=lsh_len))"
      ]
    },
    {
      "cell_type": "code",
      "execution_count": 7,
      "metadata": {},
      "outputs": [],
      "source": [
        "# naive\n",
        "# def retrieve_naive(index, k = 10):\n",
        "#     def get_closest(point):\n",
        "#         distances = np.apply_along_axis(lambda x: np.linalg.norm(point - x), 1, train_embeddings)\n",
        "#         return np.argsort(distances)\n",
        "        \n",
        "#     cur_point = test_embeddings[index]\n",
        "#     return train_ids[get_closest(cur_point)[:k]]\n",
        "\n",
        "\n",
        "# def retrieve(index, k = 10):\n",
        "#     cur_point = test_embeddings[index]\n",
        "\n",
        "#     cluster_distance = np.apply_along_axis(lambda x: np.linalg.norm(cur_point - x), 1, centroids)\n",
        "\n",
        "#     res_positions = np.zeros(train_embeddings.shape[0], dtype=bool)\n",
        "#     nearest_clusters = np.argsort(cluster_distance)[:int(0.1 * num_clusters)]\n",
        "\n",
        "#     for cur_cluster in nearest_clusters:\n",
        "#         cur_lsh = lsh_array[cur_cluster]\n",
        "#         point_lsh = cur_lsh.create_lsh_code(cur_point) \n",
        "#         res_positions[cluster_ids == cur_cluster] = np.sum(np.abs(cur_lsh.get_lsh_codes() - point_lsh), 1) < int(0.5*lsh_len) \n",
        "\n",
        "#     res_points = train_embeddings[res_positions]\n",
        "#     res_distance = np.apply_along_axis(lambda x: np.linalg.norm(cur_point - x), 1, res_points)\n",
        "\n",
        "#     k_nearest_position = train_ids[res_positions][np.argsort(res_distance)[:k]]\n",
        "#     return k_nearest_position"
      ]
    },
    {
      "cell_type": "code",
      "execution_count": 8,
      "metadata": {},
      "outputs": [],
      "source": [
        "# def apk(index, retrieve=retrieve, k = 10):\n",
        "#     cur_pos = test_ids[index]\n",
        "#     point_class = cur_pos // 100\n",
        "    \n",
        "#     k_nearest_class = retrieve(index, k=k) // 100\n",
        "    \n",
        "#     true_position = np.where(k_nearest_class == point_class)[0]\n",
        "#     ap = 0\n",
        "#     if len(true_position) > 0:\n",
        "#         for i in range(len(true_position)):\n",
        "#             ap += (i + 1) / (true_position[i] + 1)\n",
        "#         ap /= len(true_position)\n",
        "#     return ap"
      ]
    },
    {
      "cell_type": "code",
      "execution_count": 9,
      "metadata": {},
      "outputs": [],
      "source": [
        "# %%timeit\n",
        "# get_ap = delayed(apk)\n",
        "# ap_array = np.array(Parallel(n_jobs=8)(get_ap(i) for i in range(test_embeddings.shape[0])))\n",
        "# print(np.mean(ap_array))"
      ]
    },
    {
      "cell_type": "code",
      "execution_count": 10,
      "metadata": {},
      "outputs": [],
      "source": [
        "# get_ap = delayed(apk)\n",
        "# ap_array = np.array(Parallel(n_jobs=8)(get_ap(i, retrieve_naive) for i in range(test_embeddings.shape[0])))\n",
        "# print(np.mean(ap_array))"
      ]
    },
    {
      "cell_type": "code",
      "execution_count": 11,
      "metadata": {},
      "outputs": [],
      "source": [
        "from utils import retrieve as ret\n",
        "from utils import apk as ap_k"
      ]
    },
    {
      "cell_type": "code",
      "execution_count": 14,
      "metadata": {},
      "outputs": [
        {
          "name": "stdout",
          "output_type": "stream",
          "text": [
            "0.3830868394116906\n",
            "0.3830868394116906\n",
            "0.3830868394116906\n",
            "0.3830868394116906\n",
            "0.3830868394116906\n",
            "0.3830868394116906\n",
            "0.3830868394116906\n",
            "0.3830868394116906\n",
            "29 s ± 112 ms per loop (mean ± std. dev. of 7 runs, 1 loop each)\n"
          ]
        }
      ],
      "source": [
        "%%timeit\n",
        "ap_array = []\n",
        "for idx, img in enumerate(test_ds):\n",
        "    k_nearest = ret(img, gist, kmeans, train_embeddings, lsh_array, train_ids, k=10) // 100\n",
        "    point_class = test_ids[idx] // 100\n",
        "    ap_array.append(ap_k(point_class, k_nearest))\n",
        "print(np.mean(ap_array))"
      ]
    },
    {
      "cell_type": "markdown",
      "metadata": {},
      "source": [
        "# HPO"
      ]
    },
    {
      "cell_type": "code",
      "execution_count": null,
      "metadata": {},
      "outputs": [],
      "source": [
        "def pipeline(cfg):\n",
        "    def retrieve(index, k = 10):\n",
        "        cur_point = test_embeddings[index]\n",
        "\n",
        "        cluster_distance = np.apply_along_axis(lambda x: np.linalg.norm(cur_point - x), 1, centroids)\n",
        "\n",
        "        res_positions = np.zeros(train_embeddings.shape[0], dtype=bool)\n",
        "        nearest_clusters = np.argsort(cluster_distance)[:int(0.1 * num_clusters)]\n",
        "\n",
        "        for cur_cluster in nearest_clusters:\n",
        "            cur_lsh = lsh_array[cur_cluster]\n",
        "            point_lsh = cur_lsh.create_lsh_code(cur_point) \n",
        "            res_positions[cluster_ids == cur_cluster] = \\\n",
        "                np.sum(np.abs(cur_lsh.get_lsh_codes() - point_lsh), 1) < int(0.5*cfg[\"lsh_length\"]) \n",
        "\n",
        "        res_points = train_embeddings[res_positions]\n",
        "        res_distance = np.apply_along_axis(lambda x: np.linalg.norm(cur_point - x), 1, res_points)\n",
        "\n",
        "        k_nearest_position = train_ids[res_positions][np.argsort(res_distance)[:k]]\n",
        "        return k_nearest_position\n",
        "    \n",
        "    \n",
        "    def apk(index, retrieve=retrieve, k = 10):\n",
        "        cur_pos = test_ids[index]\n",
        "        point_class = cur_pos // 100\n",
        "        \n",
        "        k_nearest_class = retrieve(index, k=k) // 100\n",
        "        \n",
        "        true_position = np.where(k_nearest_class == point_class)[0]\n",
        "        ap = 0\n",
        "        if len(true_position) > 0:\n",
        "            for i in range(len(true_position)):\n",
        "                ap += (i + 1) / (true_position[i] + 1)\n",
        "            ap /= len(true_position)\n",
        "        return ap\n",
        "    \n",
        "    \n",
        "    get_ap = delayed(apk)\n",
        "    \n",
        "    \n",
        "    filters = gabour_bank(size=cfg[\"size\"], phi_bins=cfg[\"phi_bins\"], \n",
        "                          scale_bins=cfg[\"scale_bins\"], max_scale=cfg[\"max_scale\"], \n",
        "                          min_scale=cfg[\"min_scale\"], sigma_scale=cfg[\"sigma_scale\"])\n",
        "    \n",
        "    gist = Gist(filters, phi_bins=cfg[\"phi_bins\"], scale_bins=cfg[\"scale_bins\"], \n",
        "                window_size=cfg[\"window_size\"])\n",
        "\n",
        "    get_emb = delayed(gist.get_gist_descriptor)\n",
        "\n",
        "    train_embeddings = np.array(Parallel(n_jobs=8)(get_emb(img) for img in train_ds))\n",
        "    test_embeddings = np.array(Parallel(n_jobs=8)(get_emb(img) for img in test_ds))\n",
        "    \n",
        "    kmeans = KMeans(n_clusters=cfg[\"num_clusters\"], n_init=50)\n",
        "    kmeans.fit(train_embeddings)\n",
        "    cluster_ids = kmeans.labels_\n",
        "    centroids = kmeans.cluster_centers_\n",
        "    \n",
        "    lsh_array = []\n",
        "    for cluster in range(cfg[\"num_clusters\"]):\n",
        "        lsh_array.append(LshCode(centroids[cluster], train_embeddings[cluster == cluster_ids], \n",
        "                                 length=cfg[\"lsh_length\"]))\n",
        "        \n",
        "    get_ap = delayed(apk)\n",
        "    gist_map = np.mean(np.array(Parallel(n_jobs=8)(get_ap(i, retrieve) for i in range(test_embeddings.shape[0]))))\n",
        "    # naive_map = np.mean(np.array(Parallel(n_jobs=8)(get_ap(i, retrieve_naive) for i in range(test_embeddings.shape[0]))))\n",
        "    naive_map = -1\n",
        "        \n",
        "    return gist_map, naive_map\n",
        "    "
      ]
    },
    {
      "cell_type": "code",
      "execution_count": null,
      "metadata": {},
      "outputs": [],
      "source": [
        "cfgs = []\n",
        "\n",
        "cfg_base = {\n",
        "    \"size\": 11,\n",
        "    \"phi_bins\": 6,\n",
        "    \"scale_bins\": 5,\n",
        "    \"max_scale\": 18,\n",
        "    \"min_scale\": 3,\n",
        "    \"sigma_scale\": 0.5,\n",
        "    \"window_size\": 4,\n",
        "    \"num_clusters\": 100,\n",
        "    \"lsh_length\": 10,\n",
        "}\n",
        "\n",
        "for size in (11, 21, 31):\n",
        "    for phi_bins in (4, 6):\n",
        "        for scale_bins in (3, 5):\n",
        "            for max_scale in (18,):\n",
        "                for min_scale in (3,):\n",
        "                    for sigma_scale in (0.5,):\n",
        "                        for windows_size in (4,):\n",
        "                            for num_clusters in (100,):\n",
        "                                for lsh_length in (10,):\n",
        "                                    cfgs.append({\n",
        "                                        \"size\": size,\n",
        "                                        \"phi_bins\": phi_bins,\n",
        "                                        \"scale_bins\": scale_bins,\n",
        "                                        \"max_scale\": max_scale,\n",
        "                                        \"min_scale\": min_scale,\n",
        "                                        \"sigma_scale\": sigma_scale,\n",
        "                                        \"window_size\": windows_size,\n",
        "                                        \"num_clusters\": num_clusters,\n",
        "                                        \"lsh_length\": lsh_length,\n",
        "                                    })\n"
      ]
    },
    {
      "cell_type": "code",
      "execution_count": null,
      "metadata": {},
      "outputs": [
        {
          "data": {
            "application/vnd.jupyter.widget-view+json": {
              "model_id": "1691c7d5d91846cab79f56f7d8f75b74",
              "version_major": 2,
              "version_minor": 0
            },
            "text/plain": [
              "  0%|          | 0/12 [00:00<?, ?it/s]"
            ]
          },
          "metadata": {},
          "output_type": "display_data"
        },
        {
          "name": "stdout",
          "output_type": "stream",
          "text": [
            "{'lsh_length': 10,\n",
            " 'max_scale': 18,\n",
            " 'min_scale': 3,\n",
            " 'num_clusters': 100,\n",
            " 'phi_bins': 4,\n",
            " 'scale_bins': 3,\n",
            " 'sigma_scale': 0.5,\n",
            " 'size': 11,\n",
            " 'window_size': 4}\n"
          ]
        }
      ],
      "source": [
        "import pprint\n",
        "from tqdm.notebook import tqdm\n",
        "\n",
        "naive_map_best = 0\n",
        "gist_map_best = 0\n",
        "for cfg in tqdm(cfgs):\n",
        "    pprint.pprint(cfg)\n",
        "    gist_map, naive_map = pipeline(cfg)\n",
        "    if gist_map > gist_map_best:\n",
        "        gist_map_best = gist_map\n",
        "        gist_cfg = cfg.copy()\n",
        "    if naive_map > naive_map_best:\n",
        "        naive_map_best = naive_map\n",
        "        naive_cfg = cfg.copy\n",
        "    print(gist_map, naive_map)\n",
        "\n",
        "pprint.pprint(gist_cfg)\n",
        "print()\n",
        "pprint.pprint(naive_cfg)"
      ]
    },
    {
      "cell_type": "code",
      "execution_count": null,
      "metadata": {},
      "outputs": [],
      "source": []
    }
  ],
  "metadata": {
    "colab": {
      "collapsed_sections": [],
      "name": "Копия блокнота \"Поиск изображений \"HW6.ipynb\"\"",
      "provenance": []
    },
    "interpreter": {
      "hash": "71f4a8a05e914619e6ce849cc212b7860cf82baee4b36c2033f2d6275d70daac"
    },
    "kernelspec": {
      "display_name": "Python 3.8.5 64-bit ('ml': pyenv)",
      "name": "python3"
    },
    "language_info": {
      "codemirror_mode": {
        "name": "ipython",
        "version": 3
      },
      "file_extension": ".py",
      "mimetype": "text/x-python",
      "name": "python",
      "nbconvert_exporter": "python",
      "pygments_lexer": "ipython3",
      "version": "3.8.5"
    }
  },
  "nbformat": 4,
  "nbformat_minor": 0
}